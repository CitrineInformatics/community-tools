{
 "cells": [
  {
   "cell_type": "code",
   "execution_count": 1,
   "metadata": {},
   "outputs": [],
   "source": [
    "import pandas as pd\n",
    "from functools import partial\n",
    "import typing\n",
    "import xml.etree.ElementTree as ET"
   ]
  },
  {
   "cell_type": "code",
   "execution_count": 2,
   "metadata": {},
   "outputs": [],
   "source": [
    "def extract_authors(filepath: str) -> pd.DataFrame:\n",
    "    \"\"\"\n",
    "    Extracts author information from a csv.\n",
    "    \n",
    "    ARGS:\n",
    "        filepath (str) | path to csv\n",
    "        \n",
    "    RETURNS:\n",
    "        (pd.DataFrame) | DataFrame of author info\n",
    "    \"\"\"\n",
    "    \n",
    "    authors = pd.read_csv(filepath,names=['author','affiliation'])\n",
    "    \n",
    "    return authors"
   ]
  },
  {
   "cell_type": "code",
   "execution_count": 3,
   "metadata": {},
   "outputs": [],
   "source": [
    "# Build xml\n",
    "def build_creators_xml(authors: pd.DataFrame) -> str:\n",
    "    \n",
    "    creators = ET.Element('creators')\n",
    "    \n",
    "    gen = partial(generate_creator,parent=creators)\n",
    "    \n",
    "    _authors = authors.apply(gen,axis=1)\n",
    "    \n",
    "    tree = ET.ElementTree(creators)\n",
    "    \n",
    "    return tree"
   ]
  },
  {
   "cell_type": "code",
   "execution_count": 4,
   "metadata": {},
   "outputs": [],
   "source": [
    "def generate_creator(data: pd.Series, parent) -> ET.Element:\n",
    "        \n",
    "    names = extract_name(str(data[0]))\n",
    "        \n",
    "    creator = ET.SubElement(parent,'creator')\n",
    "    creator_name = ET.SubElement(creator,'creatorName',nameType = \"Personal\")\n",
    "    given_name = ET.SubElement(creator,'givenName')\n",
    "    family_name = ET.SubElement(creator,'familyName')\n",
    "    affiliation = ET.SubElement(creator,'affiliation')\n",
    "    \n",
    "    creator_name.text = '{}, {}'.format(names.get('last'), names.get('first'))\n",
    "    given_name.text = names.get('first')\n",
    "    family_name.text = names.get('last')\n",
    "    affiliation.text = str(data[1])\n",
    "\n",
    "    return creator"
   ]
  },
  {
   "cell_type": "code",
   "execution_count": 5,
   "metadata": {},
   "outputs": [],
   "source": [
    "def extract_name(fullname: str) -> list:\n",
    "    \n",
    "    first_name, last_name = fullname.split(' ')\n",
    "    names = {'first':first_name.strip(' '),'last':last_name.strip(' ')}\n",
    "    \n",
    "    return names"
   ]
  },
  {
   "cell_type": "code",
   "execution_count": 6,
   "metadata": {},
   "outputs": [],
   "source": [
    "# Export file\n",
    "def export_xml(xml: str) -> None:\n",
    "    xml.write(\"creators.xml\",encoding='utf-8', xml_declaration=True)\n",
    "\n",
    "    '''\n",
    "    with open('creators.xml','wb') as f:\n",
    "        f.write(tostring(xml,encoding='UTF-8'))\n",
    "    '''"
   ]
  },
  {
   "cell_type": "code",
   "execution_count": 7,
   "metadata": {},
   "outputs": [],
   "source": [
    "#### Script ####\n",
    "\n",
    "export_xml(build_creators_xml(extract_authors('test.csv')))"
   ]
  },
  {
   "cell_type": "code",
   "execution_count": 8,
   "metadata": {},
   "outputs": [
    {
     "data": {
      "text/html": [
       "<div>\n",
       "<style scoped>\n",
       "    .dataframe tbody tr th:only-of-type {\n",
       "        vertical-align: middle;\n",
       "    }\n",
       "\n",
       "    .dataframe tbody tr th {\n",
       "        vertical-align: top;\n",
       "    }\n",
       "\n",
       "    .dataframe thead th {\n",
       "        text-align: right;\n",
       "    }\n",
       "</style>\n",
       "<table border=\"1\" class=\"dataframe\">\n",
       "  <thead>\n",
       "    <tr style=\"text-align: right;\">\n",
       "      <th></th>\n",
       "      <th>author</th>\n",
       "      <th>affiliation</th>\n",
       "    </tr>\n",
       "  </thead>\n",
       "  <tbody>\n",
       "    <tr>\n",
       "      <th>0</th>\n",
       "      <td>Yachao Chen</td>\n",
       "      <td>Department of Metallurgical and Materials Engi...</td>\n",
       "    </tr>\n",
       "    <tr>\n",
       "      <th>1</th>\n",
       "      <td>Geoff Brennecka</td>\n",
       "      <td>Department of Metallurgical and Materials Engi...</td>\n",
       "    </tr>\n",
       "    <tr>\n",
       "      <th>2</th>\n",
       "      <td>Vanessa Meschke</td>\n",
       "      <td>Department of Materials Science &amp; Engineering,...</td>\n",
       "    </tr>\n",
       "    <tr>\n",
       "      <th>3</th>\n",
       "      <td>Kevin Cruse</td>\n",
       "      <td>Department of Mechanical Engineering, Universi...</td>\n",
       "    </tr>\n",
       "    <tr>\n",
       "      <th>4</th>\n",
       "      <td>Kelsey Cannon</td>\n",
       "      <td>Department of Metallurgical and Materials Engi...</td>\n",
       "    </tr>\n",
       "    <tr>\n",
       "      <th>5</th>\n",
       "      <td>Mary Dougherty</td>\n",
       "      <td>Department of Metallurgical and Materials Engi...</td>\n",
       "    </tr>\n",
       "    <tr>\n",
       "      <th>6</th>\n",
       "      <td>Katie Fisk</td>\n",
       "      <td>Department of Metallurgical and Materials Engi...</td>\n",
       "    </tr>\n",
       "  </tbody>\n",
       "</table>\n",
       "</div>"
      ],
      "text/plain": [
       "            author                                        affiliation\n",
       "0      Yachao Chen  Department of Metallurgical and Materials Engi...\n",
       "1  Geoff Brennecka  Department of Metallurgical and Materials Engi...\n",
       "2  Vanessa Meschke  Department of Materials Science & Engineering,...\n",
       "3      Kevin Cruse  Department of Mechanical Engineering, Universi...\n",
       "4    Kelsey Cannon  Department of Metallurgical and Materials Engi...\n",
       "5   Mary Dougherty  Department of Metallurgical and Materials Engi...\n",
       "6       Katie Fisk  Department of Metallurgical and Materials Engi..."
      ]
     },
     "execution_count": 8,
     "metadata": {},
     "output_type": "execute_result"
    }
   ],
   "source": [
    "authors = extract_authors('test.csv')\n",
    "authors"
   ]
  },
  {
   "cell_type": "code",
   "execution_count": 9,
   "metadata": {},
   "outputs": [],
   "source": [
    "my_xml = build_creators_xml(authors)"
   ]
  }
 ],
 "metadata": {
  "kernelspec": {
   "display_name": "Python 3",
   "language": "python",
   "name": "python3"
  },
  "language_info": {
   "codemirror_mode": {
    "name": "ipython",
    "version": 3
   },
   "file_extension": ".py",
   "mimetype": "text/x-python",
   "name": "python",
   "nbconvert_exporter": "python",
   "pygments_lexer": "ipython3",
   "version": "3.6.5"
  }
 },
 "nbformat": 4,
 "nbformat_minor": 2
}
