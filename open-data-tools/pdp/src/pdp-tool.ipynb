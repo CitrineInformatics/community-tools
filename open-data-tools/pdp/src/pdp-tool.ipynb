{
 "cells": [
  {
   "cell_type": "code",
   "execution_count": 1,
   "metadata": {},
   "outputs": [],
   "source": [
    "# Standard Libraries\n",
    "from os import environ\n",
    "import math\n",
    "from pathlib import Path\n",
    "from collections import namedtuple\n",
    "import sys, os\n",
    "\n",
    "# Third-party Libraries\n",
    "from citrination_client import CitrinationClient\n",
    "import pandas as pd\n",
    "from matplotlib import pyplot as plt\n",
    "import ipywidgets as widgets\n",
    "import interpretability_example.interpretability_utils as interpretability_utils\n",
    "import utils.API_utils as API_utils\n",
    "import utils.df_citrination_utils as df_citrination_utils"
   ]
  },
  {
   "cell_type": "markdown",
   "metadata": {},
   "source": [
    "To do interpretability analysis, we need the following: \n",
    "- Python 3.6+, jupyter, urllib, pandas, numpy, urllib, pypif, citrination-client\n",
    "- The citrination delpoyment and its key, preferably stored as an environment variable\n",
    "- view: The view ID on that deployment which has the models you need \n",
    "- reference_filename: To calculate the range in which to vary a feature. The columns in this file should have all the required inputs but need not be featurized. The column names should correspond to the actual column names in the view (and not template-csv format). This file should contain all of your data."
   ]
  },
  {
   "cell_type": "markdown",
   "metadata": {},
   "source": [
    "### Provide all the files and other inputs needed for processing"
   ]
  },
  {
   "cell_type": "code",
   "execution_count": 22,
   "metadata": {
    "scrolled": false
   },
   "outputs": [],
   "source": [
    "client = CitrinationClient(environ['CITRINATION_API_KEY'], 'https://citrination.com')\n",
    "%matplotlib inline\n",
    "\n",
    "# The directory where your dataset is stored\n",
    "data_dir = \"\"\n",
    "\n",
    "# A citrination dataview which will be used for prediction\n",
    "view = \"\"\n",
    "\n",
    "# A csv containing your data\n",
    "reference_filename = os.path.join(data_dir, \"training_data.csv\")\n",
    "\n",
    "# The path where you would like figures saved\n",
    "output_path = data_dir\n",
    "\n",
    "# The data frame column name (str) you wish to predict\n",
    "output_keys = []\n",
    "\n",
    "# keys to exclude from input. This should be keys that you'd like to prevent featurization on \n",
    "# since we'll be varying the featurized vector directly\n",
    "keys_to_exclude = [] "
   ]
  },
  {
   "cell_type": "markdown",
   "metadata": {},
   "source": [
    "\n",
    "This program will take each feature listed in the fi_filename, and vary it in the range of its variation seen in the reference dataset. It will plot the predicted value vs. feature value for each such feature. The predictions will be made using the model stored on Citrination.    "
   ]
  },
  {
   "cell_type": "markdown",
   "metadata": {},
   "source": [
    "### Inspect your DataView and choose features"
   ]
  },
  {
   "cell_type": "markdown",
   "metadata": {},
   "source": [
    "#### Load metadata from your dataview and extract avilable features and outputs"
   ]
  },
  {
   "cell_type": "code",
   "execution_count": 23,
   "metadata": {},
   "outputs": [],
   "source": [
    "# Import the metadata (column names) for 'view'\n",
    "dv_client = client.data_views\n",
    "view_metadata = dv_client.get(view)"
   ]
  },
  {
   "cell_type": "code",
   "execution_count": 24,
   "metadata": {},
   "outputs": [],
   "source": [
    "# Import the metadata (column names) for 'view'\n",
    "dv_client = client.data_views\n",
    "view_metadata = dv_client.get(view)\n",
    "\n",
    "# Extract metadata of interest, here column labels\n",
    "column_names = view_metadata['configuration']['roles']\n",
    "\n",
    "# Extract outputs from view metadata \n",
    "output_features = [key for key, value in column_names.items() if value == 'output']"
   ]
  },
  {
   "cell_type": "markdown",
   "metadata": {},
   "source": [
    "#### Define UI widgets"
   ]
  },
  {
   "cell_type": "code",
   "execution_count": 25,
   "metadata": {},
   "outputs": [],
   "source": [
    "# Creates a dropdown menu for the output or reference\n",
    "reference_dropdown = widgets.Dropdown(options = output_features,\n",
    "              description = 'Reference')\n",
    "\n",
    "# Generate checkbox widget for each column name\n",
    "Checkbox = namedtuple('Checkbox', ['name','widget'])\n",
    "checkboxes = []\n",
    "input_features = [key for key, value in column_names.items() if value == 'input']\n",
    "\n",
    "for name in input_features:\n",
    "    desc = name.replace('_', ' ')\n",
    "    widge = widgets.Checkbox(description = desc)\n",
    "    cb = Checkbox(name, widge)\n",
    "    checkboxes.append(cb)"
   ]
  },
  {
   "cell_type": "markdown",
   "metadata": {},
   "source": [
    "#### Use the widgets to configure the point about which you would like to vary\n",
    "Please select your reference property and which features you would like to vary.\n",
    "\n",
    "<span style=\"color:red\"> **NOTE - notebook will not work when selecting less than all features** </span>\n"
   ]
  },
  {
   "cell_type": "code",
   "execution_count": 26,
   "metadata": {},
   "outputs": [
    {
     "data": {
      "application/vnd.jupyter.widget-view+json": {
       "model_id": "58d4acbd96e24eb592393337d76a3cc4",
       "version_major": 2,
       "version_minor": 0
      },
      "text/plain": [
       "Dropdown(description='Reference', options=('Property I0_fraction_sphere', 'Property crystalline_flag', 'Proper…"
      ]
     },
     "metadata": {},
     "output_type": "display_data"
    },
    {
     "data": {
      "application/vnd.jupyter.widget-view+json": {
       "model_id": "31235b7e3d8c4a60b26f5a0516b72c8b",
       "version_major": 2,
       "version_minor": 0
      },
      "text/plain": [
       "Checkbox(value=False, description='Property ODE extra fraction')"
      ]
     },
     "metadata": {},
     "output_type": "display_data"
    },
    {
     "data": {
      "application/vnd.jupyter.widget-view+json": {
       "model_id": "4e9665729cef43de8668d08051139216",
       "version_major": 2,
       "version_minor": 0
      },
      "text/plain": [
       "Checkbox(value=False, description='Property oleylamine fraction')"
      ]
     },
     "metadata": {},
     "output_type": "display_data"
    },
    {
     "data": {
      "application/vnd.jupyter.widget-view+json": {
       "model_id": "3101b611c65b40d3bfa06c8c7bbd4f55",
       "version_major": 2,
       "version_minor": 0
      },
      "text/plain": [
       "Checkbox(value=False, description='Property TOP fraction')"
      ]
     },
     "metadata": {},
     "output_type": "display_data"
    },
    {
     "data": {
      "application/vnd.jupyter.widget-view+json": {
       "model_id": "5e4927c1e1894fdbb008147d66236124",
       "version_major": 2,
       "version_minor": 0
      },
      "text/plain": [
       "Checkbox(value=False, description='Property flowrate')"
      ]
     },
     "metadata": {},
     "output_type": "display_data"
    },
    {
     "data": {
      "application/vnd.jupyter.widget-view+json": {
       "model_id": "7aa9a3b1b92f4e09bdb88dae315a7ee2",
       "version_major": 2,
       "version_minor": 0
      },
      "text/plain": [
       "Checkbox(value=False, description='Property T set')"
      ]
     },
     "metadata": {},
     "output_type": "display_data"
    }
   ],
   "source": [
    "# Display reference dropdown widget\n",
    "display(reference_dropdown)\n",
    "\n",
    "# Display feature checkbox widgets\n",
    "for checkbox in checkboxes:\n",
    "    display(checkbox.widget)"
   ]
  },
  {
   "cell_type": "markdown",
   "metadata": {},
   "source": [
    "Please define the point around which you would like to vary."
   ]
  },
  {
   "cell_type": "code",
   "execution_count": 27,
   "metadata": {},
   "outputs": [
    {
     "data": {
      "application/vnd.jupyter.widget-view+json": {
       "model_id": "ea0575803326404ba8147f56ec94af9b",
       "version_major": 2,
       "version_minor": 0
      },
      "text/plain": [
       "Text(value='', description='Property ODE_extra_fraction', style=DescriptionStyle(description_width='initial'))"
      ]
     },
     "metadata": {},
     "output_type": "display_data"
    },
    {
     "data": {
      "application/vnd.jupyter.widget-view+json": {
       "model_id": "d1d91bace2c94f8da1e6570f49efafeb",
       "version_major": 2,
       "version_minor": 0
      },
      "text/plain": [
       "Text(value='', description='Property oleylamine_fraction', style=DescriptionStyle(description_width='initial')…"
      ]
     },
     "metadata": {},
     "output_type": "display_data"
    },
    {
     "data": {
      "application/vnd.jupyter.widget-view+json": {
       "model_id": "faeb01306f174c0a801137221e0993f8",
       "version_major": 2,
       "version_minor": 0
      },
      "text/plain": [
       "Text(value='', description='Property TOP_fraction', style=DescriptionStyle(description_width='initial'))"
      ]
     },
     "metadata": {},
     "output_type": "display_data"
    },
    {
     "data": {
      "application/vnd.jupyter.widget-view+json": {
       "model_id": "9dfb9534ad70424ea54d0a86299e6c44",
       "version_major": 2,
       "version_minor": 0
      },
      "text/plain": [
       "Text(value='', description='Property flowrate', style=DescriptionStyle(description_width='initial'))"
      ]
     },
     "metadata": {},
     "output_type": "display_data"
    },
    {
     "data": {
      "application/vnd.jupyter.widget-view+json": {
       "model_id": "7e7149a9ea994cb48aa9c4c530170087",
       "version_major": 2,
       "version_minor": 0
      },
      "text/plain": [
       "Text(value='', description='Property T_set', style=DescriptionStyle(description_width='initial'))"
      ]
     },
     "metadata": {},
     "output_type": "display_data"
    }
   ],
   "source": [
    "# Store the chosen features from the checkboxes\n",
    "features = {checkbox.name: checkbox.widget.value for  checkbox in checkboxes}\n",
    "features = [key for key, value in features.items() if value == True]\n",
    "\n",
    "# Generate fields to store the center point values\n",
    "style = {'description_width': 'initial'}\n",
    "inputs = [widgets.Text(description=feature, style=style) for feature in features]\n",
    "\n",
    "# Discplay the entry fields for the center point\n",
    "for inp in inputs:\n",
    "    display(inp)"
   ]
  },
  {
   "cell_type": "code",
   "execution_count": 28,
   "metadata": {},
   "outputs": [
    {
     "name": "stdout",
     "output_type": "stream",
     "text": [
      "Targeting reference feature: Property r0_sphere\n",
      "\n",
      "Varying features:\n",
      "Property ODE_extra_fraction\n",
      "Property oleylamine_fraction\n",
      "Property TOP_fraction\n",
      "Property flowrate\n",
      "Property T_set\n",
      "\n",
      "Centered upon:\n",
      "Property ODE_extra_fraction: 0.2\n",
      "Property oleylamine_fraction: 0.2\n",
      "Property TOP_fraction: 0.2\n",
      "Property flowrate: 100.0\n",
      "Property T_set: 200.0\n"
     ]
    }
   ],
   "source": [
    "# Store the center point configuration values from the entry fields\n",
    "config = {inp.description: [float(inp.value)] for inp in inputs}\n",
    "\n",
    "# Extract user selections and center point values from the UI\n",
    "FeatureConfiguration = namedtuple('FeatureConfiguration', ['reference', 'features', 'config'])\n",
    "feature_configuration = FeatureConfiguration([reference_dropdown.value], features, config)\n",
    "\n",
    "# Display user configuration for the local optimization study\n",
    "print('Targeting reference feature: {}\\n\\nVarying features:'.format(feature_configuration.reference[0]))\n",
    "for value in feature_configuration.features:\n",
    "    print(value)\n",
    "print('\\nCentered upon:')\n",
    "for key, value in feature_configuration.config.items():\n",
    "    print('{}: {}'.format(key, value[0]))\n",
    "    \n",
    "# Prepare the DataFrames from the user configuration\n",
    "df_center_pt = pd.DataFrame.from_dict(data=feature_configuration.config)\n",
    "imp_feature_keys = feature_configuration.features\n",
    "output_keys = feature_configuration.reference"
   ]
  },
  {
   "cell_type": "markdown",
   "metadata": {},
   "source": [
    "### Preparing the reference dataset"
   ]
  },
  {
   "cell_type": "code",
   "execution_count": 29,
   "metadata": {},
   "outputs": [],
   "source": [
    "featurized_df_ref = pd.read_csv(reference_filename)\n",
    "for output_key in output_keys:\n",
    "    featurized_df_ref[output_key] = \"\""
   ]
  },
  {
   "cell_type": "markdown",
   "metadata": {},
   "source": [
    "### Preparing the center point"
   ]
  },
  {
   "cell_type": "code",
   "execution_count": 30,
   "metadata": {},
   "outputs": [],
   "source": [
    "featurized_df_center = df_center_pt\n",
    "for output_key in output_keys:\n",
    "    featurized_df_center[output_key] = \"\""
   ]
  },
  {
   "cell_type": "markdown",
   "metadata": {},
   "source": [
    "### Varying the important features and making predictions"
   ]
  },
  {
   "cell_type": "code",
   "execution_count": 31,
   "metadata": {},
   "outputs": [],
   "source": [
    "interpretability_inputs = pd.concat(\n",
    "                            [interpretability_utils.get_inputs_vary_feature_from_refdf(\n",
    "                            feature, featurized_df_ref, featurized_df_center) \n",
    "                            for feature in imp_feature_keys], axis = 0)\n",
    "interpretability_inputs = interpretability_inputs.drop(\n",
    "                            [key for key in interpretability_inputs.columns if \n",
    "                            (\" uncertainty\" in key)], axis = 1)"
   ]
  },
  {
   "cell_type": "code",
   "execution_count": 32,
   "metadata": {},
   "outputs": [
    {
     "name": "stdout",
     "output_type": "stream",
     "text": [
      "Running 10 batches of batchSize 32\n"
     ]
    }
   ],
   "source": [
    "interpretability_predictions = API_utils.batch_predict_through_API(view = view, \n",
    "                         input_df = interpretability_inputs.drop(keys_to_exclude, axis=1), \n",
    "                         client = client, batch_size = 32)\n",
    "all_inputs = list(set(interpretability_inputs.columns) - \n",
    "                  set(output_keys) - set(keys_to_exclude))"
   ]
  },
  {
   "cell_type": "markdown",
   "metadata": {},
   "source": [
    "### Plot the results"
   ]
  },
  {
   "cell_type": "code",
   "execution_count": 33,
   "metadata": {},
   "outputs": [],
   "source": [
    "df_center_pt_predicted = API_utils.predict_one_batch_with_API(view, df_center_pt, client, max_batch_size = 32)"
   ]
  },
  {
   "cell_type": "code",
   "execution_count": 34,
   "metadata": {
    "scrolled": true
   },
   "outputs": [
    {
     "data": {
      "image/png": "[encoded data removed]",
      "text/plain": [
       "<Figure size 1080x720 with 5 Axes>"
      ]
     },
     "metadata": {
      "needs_background": "light"
     },
     "output_type": "display_data"
    }
   ],
   "source": [
    "for output in output_keys:\n",
    "    top_features = interpretability_utils.get_top_features(imp_feature_keys, output,\n",
    "                all_inputs, interpretability_predictions, n_top_features=6)\n",
    "    n_cols = 3\n",
    "    n_rows = math.ceil(len(top_features)/n_cols)\n",
    "    plt.figure(figsize=(15,10))\n",
    "    for j, varied_feature in enumerate(reversed(top_features)):\n",
    "        df = interpretability_utils.get_sliced_df_for_feature(varied_feature, all_inputs, interpretability_predictions).sort_values(by = varied_feature)\n",
    "        plt.subplot(n_rows, n_cols, j+1)\n",
    "        plt.plot(df[varied_feature], df[output])\n",
    "        plt.plot(df_center_pt_predicted[varied_feature], df_center_pt_predicted[output], 'ro') \n",
    "        plt.ylim(interpretability_predictions[output].min()*0.95 , interpretability_predictions[output].max()*1.05)\n",
    "        plt.xlabel('Feature ' + str(varied_feature))\n",
    "        plt.ylabel('Predicted ' + str(output))\n",
    "    plot_filename = os.path.join(output_path, output + \"_interpret.png\")\n",
    "    plt.savefig(plot_filename)"
   ]
  },
  {
   "cell_type": "code",
   "execution_count": null,
   "metadata": {},
   "outputs": [],
   "source": []
  }
 ],
 "metadata": {
  "kernelspec": {
   "display_name": "Python 3",
   "language": "python",
   "name": "python3"
  },
  "language_info": {
   "codemirror_mode": {
    "name": "ipython",
    "version": 3
   },
   "file_extension": ".py",
   "mimetype": "text/x-python",
   "name": "python",
   "nbconvert_exporter": "python",
   "pygments_lexer": "ipython3",
   "version": "3.7.1"
  }
 },
 "nbformat": 4,
 "nbformat_minor": 2
}
