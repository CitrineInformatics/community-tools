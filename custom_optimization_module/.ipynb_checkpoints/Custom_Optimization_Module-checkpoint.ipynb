{
 "cells": [
  {
   "cell_type": "markdown",
   "metadata": {},
   "source": [
    "# *Custom Optimization Study* Module\n",
    "*Malcolm Davidson and Max Hutchinson - January 14<sup>th</sup>, 2019* "
   ]
  },
  {
   "cell_type": "markdown",
   "metadata": {},
   "source": [
    "# Outline\n",
    "The following notebook illustrates how to use the python Citrination client (PyCC) to implement a third-party optimization strategy. In this example we were working with a University's high throughput material synthesis capability. The goal of their research was to find new sets of reactor parameters that would ultimately lead to new stable materials.\n",
    "\n",
    "Consider the following example,\n",
    "\n",
    "Let's say your interested in seeing if combinations of conductive polymer synthetic parameters outside of the norm lead to a higher conductivity sample. You might have control over the following,\n",
    "\n",
    "| Model Input:                  | Model Output:    |\n",
    "|-------------------------------|------------------|\n",
    "| Solvent Volume (mL)           | Conductivity (S) |\n",
    "| Thiophene Monomer (mol)       |                  |\n",
    "| Initiator Concentration (mol) |                  |\n",
    "| Stir Rate (rpm)               |                  |\n",
    "| Reaction Time (h)             |                  |\n",
    "\n",
    "We could then train a machine learning model on this data, which could serve as a function relating our inputs to our desired outputs. With Citrination each prediction is also supplied with a loss or uncertainty. In this case, we are interested in maximizing the uncertainty in our target property and since the predicted loss is always positive, minimizing the opposite of the uncertainty in the prediction provides a maximization strategy. If we then use a minimization method upon our function we could rapidly generate sets of inputs for unexplored regions of synthesis parameter space This could ultimately lead to a new paradigm for a high performing material.\n",
    "\n",
    "## General Approach\n",
    "For the University collaborator the goal was to carryout a [maximum uncertainty](https://arxiv.org/abs/1704.07423) (MU) optimization strategy. In MU the goal is to find candidates with the highest uncertainty, leading to a very exploratory traversal of design space. To achieve this we will need the users model (a data view in the vernacular of Citrination), the boundary conditions of the design space, and a minimization function from the [SciPy optimize library.](https://docs.scipy.org/doc/scipy/reference/optimize.html) Finally, we will need to define an acquisition function to be optimized.\n",
    "\n",
    "## How to use this notebook\n",
    "1. Insert your values for the variables in the `configuration` cell\n",
    "2. Compile all cells\n",
    "3. Run the `script` cell if it has not executed during compilation\n",
    "4. View your optimized candidate on citrination.com"
   ]
  },
  {
   "cell_type": "markdown",
   "metadata": {},
   "source": [
    "### Imports"
   ]
  },
  {
   "cell_type": "code",
   "execution_count": 1,
   "metadata": {},
   "outputs": [],
   "source": [
    "### Standard Libraries ###\n",
    "import os\n",
    "import sys\n",
    "import collections\n",
    "import datetime\n",
    "import csv\n",
    "import time\n",
    "from typing import Iterable,Callable, Optional\n",
    "from functools import partial\n",
    "\n",
    "### Third-Party Libraries ###\n",
    "import pandas as pd\n",
    "import numpy as np\n",
    "import scipy as sp\n",
    "import scipy.optimize as opt\n",
    "from pypif.pif import dump\n",
    "from pypif.obj import *\n",
    "from citrination_client import CitrinationClient"
   ]
  },
  {
   "cell_type": "markdown",
   "metadata": {},
   "source": [
    "## User Setup\n",
    "This cell is where you can initialize any global variable for your project. The minimum definitions required to recreate the University collaborator's project you will need the following (all values are strings):\n",
    "1. `VIEW_ID` - The dataview ID of the Citrination model you wish to use.\n",
    "2. `TARGET_PROPERTY` - The name of the column you wish to use as a model output. The name for this must match that returned in the dataset.columns attribute.\n",
    "Datasets - one with all initial data, another with experimental results.\n",
    "3. `DESIGN_SPACE_FILENAME` - The file path to a .csv containing the names of columns and value ranges that define your chosen design space. Currently categorical inputs are not supported. For information on the format of this file, please see the `build_domain` function below.\n",
    "4. `DATASET` - The dataset you want candidates returned to. If not dataset is supplied, one will be generated and it's ID provided in the notebooks output.\n",
    "\n",
    "Additionally, you will need to initialize the `CitrinationClient`. We recommend storing your API key within your environment variable. More information on that process can be found [here.]()"
   ]
  },
  {
   "cell_type": "code",
   "execution_count": 2,
   "metadata": {},
   "outputs": [],
   "source": [
    "### Configuration ###\n",
    "VIEW_ID = '7251'\n",
    "TARGET_PROPERTY = 'Product'\n",
    "DESIGN_SPACE_FILENAME = 'conditions.csv'\n",
    "DATASET = None\n",
    "\n",
    "# Launch Jupyter from bash in order to have access to your environment variables! #\n",
    "client = CitrinationClient(os.environ['CITRINATION_API_KEY'], 'https://citrination.com')"
   ]
  },
  {
   "cell_type": "markdown",
   "metadata": {},
   "source": [
    "# Components\n",
    "This notebook depends on the following functions:\n",
    "1. `build_domain` extracts user parameters and stores them as conditions\n",
    "2. `predict` utilizes Citrination model client's prediction service\n",
    "3. `acquistion` handles calls to predict and extraction of cost or value from predict's result\n",
    "4. `material_from_vector` logic for conversion between optimizes parameters and a material dictionary ammenable for predict\n",
    "5. `design_experiment` core function invoking our optimization method\n",
    "6. `dict_to_pif` converts a material represented by a dictionary to a Citrination physical information file (PIF)\n",
    "7. `upload_design` stores the returned candidate on Citrination"
   ]
  },
  {
   "cell_type": "markdown",
   "metadata": {},
   "source": [
    "## `build_domain`\n",
    "Build domain handles extraction of user defined inputs from a .csv file. The function expects the file to be structures as, \n",
    "\n",
    "| Name of Input                       | Minimum Value | Maximum Value |\n",
    "|-------------------------------------|---------------|---------------|\n",
    "| Property Metal Content              | 0.1           | 1             |\n",
    "| ...                                 | ...           | ...           |\n",
    "| Solvent Volume                      | 0.1           | 100           |\n",
    "\n",
    "Where *Name of Input* corresponds to a column header on the data view used. *Minimum* and *Maximum* values are the upper and lower bounds that the optimization method is allowed to move between. We do not currently support categorical inputs, and all values are handled as floating point numbers. **Do not include a header in your file**. The extracted conditions are stored in a namedtuple called `Condition`."
   ]
  },
  {
   "cell_type": "code",
   "execution_count": 8,
   "metadata": {},
   "outputs": [],
   "source": [
    "def build_domain(condition_file_name: str) -> Iterable[collections.namedtuple]:\n",
    "    \"\"\"\n",
    "    Creates the boundaries of condition space from a csv configuration file.\n",
    "    \n",
    "    ARGS\n",
    "        design_space_filename (str)                   | The configuration file\n",
    "    \n",
    "    RETURNS\n",
    "        conditions (Iterable(collections.namedtuple)) | a list of condition_range\n",
    "    \"\"\"\n",
    "    \n",
    "    condition_range = collections.namedtuple('Condition', 'name, min_val, max_val')\n",
    "    \n",
    "    with open(condition_file_name, 'r') as f:\n",
    "        conditions = [condition_range(cnd[0], float(cnd[1]), float(cnd[2])) for cnd in csv.reader(f)]\n",
    "        \n",
    "    return conditions"
   ]
  },
  {
   "cell_type": "markdown",
   "metadata": {},
   "source": [
    "## `predict`\n",
    "Predict makes use of the `CitrinationClient` `models.predict()` method to obtain predictions on a material dictionary by using the data view provided. The `models.predict()` returns a `PredictionResult` object which has the methods `get_value()` and `all_keys()` for accesing its stored `PredictedValue` objects. You can learn more about the models client from its [repository](https://github.com/CitrineInformatics/python-citrination-client/tree/develop/citrination_client/models)."
   ]
  },
  {
   "cell_type": "code",
   "execution_count": 3,
   "metadata": {},
   "outputs": [],
   "source": [
    "def predict(material: dict, view_id: int, client: CitrinationClient) -> dict:\n",
    "    \"\"\"\n",
    "    Executes a prediction using PyCC\n",
    "    \n",
    "    ARGS\n",
    "        material (dict)           | a dictionary of data view column names and values\n",
    "        view_id (int)             | the id of the Citrination model dataview we want to use for prediction\n",
    "        client(CitrinationClient) | a CitrinationClient models client\n",
    "        \n",
    "    RETURNS\n",
    "        predicted_material (dict) | a models client PredictedValue object containing value/loss\n",
    "    \"\"\"\n",
    "    \n",
    "    predicted_material = client.predict(view_id, material)\n",
    "    \n",
    "    return predicted_material"
   ]
  },
  {
   "cell_type": "markdown",
   "metadata": {},
   "source": [
    "## `acquisition`\n",
    "Acquisition handles calls to predict and extraction of cost or value from predict's result. Here is where you can define your own acquisition function. In the implementation below, we are interested in the loss in the predicted value. To obtain this we need a single `PredictedValue()` which is stored as a key in the collection `PredictionResult` returned from `predict`. If more than one material were passed to `predict` each key of the returned `PredictedValue()` would correspond to a predicted value and loss for a given material dictionary. To illustrate how predict works see the example below.\n",
    "\n",
    "```python\n",
    "# The input to this data view can be chemical formula and the crytalinity of the formula\n",
    "inputs = [\n",
    "  {\"formula\": \"NaCl\", \"Property Crystallinity\": \"Amorphous\"},\n",
    "  {\"formula\": \"MgO2\", \"Property Crystallinity\": \"Polycrystalline\"}\n",
    "]\n",
    "\n",
    "data_view_id = \"4106\"\n",
    "\n",
    "# This prediction will return a list of two PredictionResult objects since\n",
    "# there were two candidates passed in as inputs.\n",
    "prediction_results = models_client.predict(data_view_id, inputs, method=\"scalar\")\n",
    "\n",
    "# Retrieve the prediction value and loss for the \"Property Band gap\" output\n",
    "# for the NaCl candidate\n",
    "nacl_result = prediction_results[0]\n",
    "nacl_value = nacl_result.get_value(\"Property Band gap\").value\n",
    "nacl_loss = nacl_result.get_value(\"Property Band gap\").loss\n",
    "```\n",
    "\n",
    "Here we use the global variable `TARGET_PROPERTY` to set which output to extract. As you can see, if you were interested in a MEI strategy you would extract the value attribute in place of the loss so that optimization occurs in terms of the target properties value."
   ]
  },
  {
   "cell_type": "code",
   "execution_count": 4,
   "metadata": {},
   "outputs": [],
   "source": [
    "def acquisition(material: dict, view_id: int) -> float:\n",
    "    \"\"\"\n",
    "    Applies the acquisition function to the predicted material\n",
    "    \n",
    "    ARGS\n",
    "        material (dict)           | a dictionary of data view column names and values\n",
    "        view_id (int)             | the id of the Citrination model dataview we want to use for prediction\n",
    "        \n",
    "    RETURNS\n",
    "        acquisition_cost (float)  | a numeric value for the loss or predicted value\n",
    "    \"\"\"\n",
    "    \n",
    "    predicted_material = predict(material, view_id, client.models)[0]\n",
    "    target_name = 'Property {}'.format(TARGET_PROPERTY)\n",
    "    acquisition_cost = float(predicted_material.get_value(target_name).loss)\n",
    "\n",
    "    return acquisition_cost"
   ]
  },
  {
   "cell_type": "markdown",
   "metadata": {},
   "source": [
    "## `material_from_vector`\n",
    "Performs the important task of turning a vector into a material in a continuous way so optimization can be performed on the vectors. Citrination understands materials in terms of dictionaries where keys correlate to the column headers of a dataview. However, optimization methods within SciPy operate upon vectors. Our approach here is to use the names of conditions extracted from the domain as keys in the new material dictionary. Attention should be paid to the order of the vector and domain labels to ensure the correct predicted values are associated with their label."
   ]
  },
  {
   "cell_type": "code",
   "execution_count": 6,
   "metadata": {},
   "outputs": [],
   "source": [
    "def material_from_vector(vec: np.ndarray, domain: Iterable[collections.namedtuple]) -> dict:\n",
    "    \"\"\"\n",
    "    Turn a vector into a material in a continuous way so optimization can be performed on the vectors\n",
    "    \n",
    "    ARGS\n",
    "        vec (np.ndarray)           | a vector of values for indepenent variables of the design space\n",
    "        domain (namedtuple)        | the design space represented as data view columns and acceptable ranges\n",
    "        \n",
    "    RETURNS\n",
    "        (dict)                     | a material representation of a vector\n",
    "    \"\"\"\n",
    "    \n",
    "    return {cnd.name: str(vec[i]) for i,cnd in enumerate(domain)}"
   ]
  },
  {
   "cell_type": "markdown",
   "metadata": {},
   "source": [
    "## `design_experiment`\n",
    "A function which runs an optimization method over the user defined domain. There are three integral components to this approach,\n",
    "\n",
    "1. **func** - The *acquisition function* which we are optimizing. When working with the SciPy optimize library this function will need to accept parameters in the form of a nd.array and return a single float. Conceptually this is the function which relates your inputs to your outputs. For example, consider attempting predict Young's Modulus of a block co-polymer from block length and annealing temperature. f<sub>acq</sub> would be the resulting machine learning model that Citrination generates, which would map your inputs: Condition block length, Condition annealing temperature to your output, Property Young's Modulus. The formatting and interconversion logic between occurs in the `material_from_vector` function. It should also be noted, that SciPy optimize focuses on minimization. In the case of maximization, we must take the negative of `func` value.\n",
    "\n",
    "2. **generate_bounds** - A function for the conversion of the input ranges defined in the condition file into SciPy `Bounds` objects, which are accepted by SciPy optimize methods.\n",
    "\n",
    "3. **optimization method** - The third-party or custom optimization method to be used. Here we use the SciPy optimize with the Limited-memory Broyden-Fletcher-Goldfarb-Shano ([L-BFGS-B](https://en.wikipedia.org/wiki/Limited-memory_BFGS)) algorithm. It is an optimization algorithm aimed at using limited memory for the prediction of parameters with simple box constraints. The method uses a gradient method, approximated by finite differences, to identify fixed and free variables at each step of the optimization cycle and then uses the L-BFGS method on the proposed free variables to get higher accuracy.\n",
    "\n",
    "At the conclusion of this functions operation, an optimized material is returned as a dictionary whose keys are the input labels defined in the conditions file and values correspond to those predicted to produce the optimized result."
   ]
  },
  {
   "cell_type": "code",
   "execution_count": 5,
   "metadata": {},
   "outputs": [],
   "source": [
    "def design_experiment(domain: Iterable[collections.namedtuple], f_acq: Callable[[dict], float]) -> Iterable[dict]:\n",
    "    \"\"\"\n",
    "    Optimizes over the domain, returning materials that maximize the acquisition function.\n",
    "    \n",
    "    ARGS\n",
    "        domain (Iterable[collections.namedtuple]) | The design space used to set boundaries\n",
    "        f_acq (Callable)                          | The acquisition function\n",
    "        \n",
    "    RETURNS\n",
    "        (Iterable[dict])                          | Iterable of optimized materials as dictionaries\n",
    "    \"\"\"\n",
    "    \n",
    "    def func(vec: np.ndarray) -> float:\n",
    "        mat = material_from_vector(vec, domain)\n",
    "        return -f_acq(mat)\n",
    "    \n",
    "    def generate_bounds(domain: Iterable[collections.namedtuple]) -> opt.Bounds:\n",
    "        \"\"\"\n",
    "        Bounds are opt.Bounds objects with lb and ub and are defined by the domain\n",
    "        \"\"\"  \n",
    "        lower_bounds = np.array([cnd.min_val for cnd in domain],dtype=float)\n",
    "        upper_bounds = np.array([cnd.max_val for cnd in domain],dtype=float)\n",
    "        \n",
    "        return opt.Bounds(lb=lower_bounds,ub=upper_bounds)\n",
    "        \n",
    "    res = opt.minimize(func, np.random.random(len(domain)), method='L-BFGS-B', bounds = generate_bounds(domain))\n",
    "    \n",
    "    # pull the result out of res\n",
    "    res_vec = res.x\n",
    "    \n",
    "    return [material_from_vector(res_vec, domain)]"
   ]
  },
  {
   "cell_type": "markdown",
   "metadata": {},
   "source": [
    "## `dict_to_pif`\n",
    "Handles the conversion of a material represented as a dictionary into Citrination physical information file PIF. In general the PIF is composed of a `System` object which has material science relevant attributes such as name, properties, and preparation to name a few.You can learn more about the PIF [here](https://github.com/CitrineInformatics/pypif). In this cell we store the predicted values from optimization under the labels defined in your domain as conditions."
   ]
  },
  {
   "cell_type": "code",
   "execution_count": 7,
   "metadata": {},
   "outputs": [],
   "source": [
    "def dict_to_pif(d: dict) -> System:\n",
    "    \"\"\"\n",
    "    Convert materials data in a dictionary to a PIF (System or ChemicalSystem)\n",
    "    \n",
    "    ARGS\n",
    "        d (dict)        | dict representing a material\n",
    "        \n",
    "    RETURNS\n",
    "        system (System) | pypif system\n",
    "    \"\"\"\n",
    "    \n",
    "    system = System()\n",
    "    \n",
    "    \n",
    "    system.names = ['Optimization Result {}'.format(time_stamp)]\n",
    "    \n",
    "    system.properties = [Property(name = TARGET_PROPERTY, conditions = [])]\n",
    "\n",
    "    for key,value in d.items():\n",
    "\n",
    "        cond = Value(name=key, scalars=value)\n",
    "        system.properties[0].conditions.append(cond)\n",
    "        \n",
    "    return system"
   ]
  },
  {
   "cell_type": "markdown",
   "metadata": {},
   "source": [
    "## `upload_design`\n",
    "This function handles storing your optimization result on the Citrination cloud platform by using the PyCC data client. If a dataset id is not supplied during configuration, one will be generated and reported in the output. You may view your results by visiting the [dataset](https://citrination.com/datasets). You can learn more about the PyCC data client [here](https://github.com/CitrineInformatics/python-citrination-client/tree/develop/citrination_client/data). The PIF itself will also be stored locally in the directory of this notebook as *optimization_candidate.json*."
   ]
  },
  {
   "cell_type": "code",
   "execution_count": 9,
   "metadata": {},
   "outputs": [],
   "source": [
    "def upload_design(results: Iterable[dict], dataset_id: Optional[str] = None) -> str:\n",
    "    \"\"\"\n",
    "    Upload a PIF to citrination.com dataset.\n",
    "    \n",
    "    ARGS\n",
    "        results Iterable(dict)   | Iterable of material candidates\n",
    "    \n",
    "    RETURNS\n",
    "        (str))                   | the dataset id that the pif's were stored at on citrination.com\n",
    "    \"\"\"\n",
    "        \n",
    "    pifs = [dict_to_pif(result) for result in results]\n",
    "    data_client = client.data\n",
    "    \n",
    "    if not dataset_id:\n",
    "        #create dataset id here\n",
    "        dataset = data_client.create_dataset(\"Custom Optimization {}\".format(time_stamp))\n",
    "        dataset_id = dataset.id\n",
    "    \n",
    "    with open(\"optimization_candidate.json\", \"w\") as fp:\n",
    "        dump(pifs, fp)\n",
    "        \n",
    "    data_client.upload(dataset_id, \"optimization_candidate.json\")\n",
    "\n",
    "    return dataset_id"
   ]
  },
  {
   "cell_type": "markdown",
   "metadata": {},
   "source": [
    "# Script\n",
    "The following cells are the core logic for the module. The goal of this script is to populate a dataset with candidates who are optimized for the output of your acquisition function. A successful run will return a string along the lines of `Optimized result uploaded to Dataset ID: 170665 at 2019-01-24 20:31:58`. You can view your candidate by visiting the [dataset](https://citrination.com/datasets) at the reported ID. The candidate is stored with a name composed of the timestamp for which it was created."
   ]
  },
  {
   "cell_type": "code",
   "execution_count": 10,
   "metadata": {},
   "outputs": [
    {
     "name": "stdout",
     "output_type": "stream",
     "text": [
      "Optimized result uploaded to Dataset ID: 171430 at 2019-01-30 11:05:03\n"
     ]
    }
   ],
   "source": [
    "ts = time.time()\n",
    "domain = build_domain(DESIGN_SPACE_FILENAME)\n",
    "best_designs = design_experiment(domain, partial(acquisition, view_id=VIEW_ID))\n",
    "time_stamp = datetime.datetime.fromtimestamp(ts).strftime('%Y-%m-%d %H:%M:%S')\n",
    "result = upload_design(best_designs,DATASET)\n",
    "\n",
    "print('Optimized result uploaded to Dataset ID: {} at {}'.format(result, time_stamp))"
   ]
  }
 ],
 "metadata": {
  "kernelspec": {
   "display_name": "Python 3",
   "language": "python",
   "name": "python3"
  },
  "language_info": {
   "codemirror_mode": {
    "name": "ipython",
    "version": 3
   },
   "file_extension": ".py",
   "mimetype": "text/x-python",
   "name": "python",
   "nbconvert_exporter": "python",
   "pygments_lexer": "ipython3",
   "version": "3.7.0"
  }
 },
 "nbformat": 4,
 "nbformat_minor": 2
}
