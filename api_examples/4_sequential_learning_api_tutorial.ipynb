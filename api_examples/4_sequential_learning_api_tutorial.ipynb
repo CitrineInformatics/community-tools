{
 "cells": [
  {
   "cell_type": "markdown",
   "metadata": {},
   "source": [
    "# PyCC Sequential Learning Tutorial\n",
    "\n",
    "*Authors: Edward Kim, Enze Chen*\n",
    "\n",
    "In this notebook, we will cover how to perform **sequential learning** (SL) using the [Citrination API](http://citrineinformatics.github.io/python-citrination-client/). [Sequential learning](https://citrine.io/platform/sequential-learning/) is the key workflow which allows machine learning algorithms and in-lab experiments to iteratively inform each other.\n",
    "\n",
    "To replace the need for an actual laboratory, this notebook uses a simple *toy function* that allows for \"measurements\" on the data.\n",
    "\n",
    "**NOTE**: If you want to run the sequential learning code in the final part of this tutorial on the public version of Citrination (https://citrination.com), then you will need an admin account to run design jobs."
   ]
  },
  {
   "cell_type": "markdown",
   "metadata": {},
   "source": [
    "## Learning objectives\n",
    "\n",
    "By the end of this tutorial, you will know how to:\n",
    "\n",
    "- Use PyCC end to end, from uploading an initial dataset to running SL\n",
    "- Understand how to configure SL parameters to match your laboratory setup\n",
    "- Asynchronously issue SL jobs to Citrination's backend"
   ]
  },
  {
   "cell_type": "markdown",
   "metadata": {},
   "source": [
    "## Background knowledge\n",
    "\n",
    "In order to get the most out of this tutorial, you should already be familiar with the following:\n",
    "\n",
    "- Create and access datasets through the API ([tutorial](1_data_client_api_tutorial.ipynb))\n",
    "- Create and access data views through the API ([tutorial](2_data_views_api_tutorial.ipynb))\n",
    "- What the data views [front-end UI](https://citrination.com/data_views) looks like, particularly the Design interface"
   ]
  },
  {
   "cell_type": "markdown",
   "metadata": {},
   "source": [
    "## Imports\n",
    "This notebook uses some convenience functions to wrap several API endpoints. These are listed in the file [`sequential_learning_wrappers.py`](./sequential_learning_wrappers.py) and imported below. Review the docstrings and code in that file to learn more."
   ]
  },
  {
   "cell_type": "code",
   "execution_count": 1,
   "metadata": {},
   "outputs": [],
   "source": [
    "# Standard packages\n",
    "from os import environ\n",
    "\n",
    "# Third-party packages\n",
    "from sequential_learning_wrappers import *   # Helper functions to wrap several API endpoints together\n",
    "%matplotlib inline\n",
    "sns.set_context(\"talk\")\n",
    "sns.set_style(\"whitegrid\")"
   ]
  },
  {
   "cell_type": "markdown",
   "metadata": {},
   "source": [
    "## Setting up a client\n",
    "\n",
    "Make sure to properly set your **environment variable** to hold your API key."
   ]
  },
  {
   "cell_type": "code",
   "execution_count": 2,
   "metadata": {},
   "outputs": [],
   "source": [
    "client = CitrinationClient(\n",
    "    environ.get(\"CITRINATION_API_KEY_PUBLIC\"),\n",
    "    \"https://citrination.com\"\n",
    ")"
   ]
  },
  {
   "cell_type": "markdown",
   "metadata": {},
   "source": [
    "## Data generation\n",
    "\n",
    "Since we aren't using a real laboratory, we need access to a quick way to generate \"correct\" measurements. A simple placeholder here is to use a function that sums the squares of its inputs. The goal, in this case, will be to find the global minimum located at the origin. \n",
    "\n",
    "In a real example, we could minimize or maximize any output: compressive strengths, conductivities, and so on."
   ]
  },
  {
   "cell_type": "code",
   "execution_count": 3,
   "metadata": {},
   "outputs": [
    {
     "name": "stdout",
     "output_type": "stream",
     "text": [
      "Best (lowest) value in initial training set: 1.3061487476188167\n"
     ]
    }
   ],
   "source": [
    "def toy_func(inputs):\n",
    "    func_sum = 0.0\n",
    "    for inp in inputs:\n",
    "        func_sum += inp**2\n",
    "    return func_sum\n",
    "\n",
    "toy_x = [np.random.normal(loc=2.0, scale=1.0, size=(1, 2))[0] for x in range(20)]\n",
    "toy_y = [toy_func(x) for x in toy_x]\n",
    "\n",
    "initial_best_measured_value = min(toy_y)\n",
    "\n",
    "print(f\"Best (lowest) value in initial training set: {initial_best_measured_value}\")"
   ]
  },
  {
   "cell_type": "markdown",
   "metadata": {},
   "source": [
    "Now we can plot the initial training set, and color it by the function value."
   ]
  },
  {
   "cell_type": "code",
   "execution_count": 4,
   "metadata": {},
   "outputs": [
    {
     "data": {
      "image/png": "[encoded data removed]",
      "text/plain": [
       "<Figure size 576x432 with 2 Axes>"
      ]
     },
     "metadata": {
      "needs_background": "light"
     },
     "output_type": "display_data"
    }
   ],
   "source": [
    "# Plot initial training set, colored by toy function values\n",
    "\n",
    "plt.rcParams.update({'figure.figsize':(8, 6), 'lines.markersize':8})\n",
    "plt.scatter(np.array(toy_x)[:,0], np.array(toy_x)[:,1],\n",
    "            c=toy_y, cmap=plt.cm.plasma)\n",
    "plt.colorbar(label='toy function value')\n",
    "plt.xlabel(r'$x_1$')\n",
    "plt.ylabel(r'$x_2$')\n",
    "plt.xlim(-5,5)\n",
    "plt.ylim(-5,5)\n",
    "plt.show()"
   ]
  },
  {
   "cell_type": "code",
   "execution_count": 5,
   "metadata": {
    "scrolled": false
   },
   "outputs": [],
   "source": [
    "# Write a PIF JSON dataset file\n",
    "write_dataset_from_func(toy_func, \"toy_initial_dataset.json\", toy_x)"
   ]
  },
  {
   "cell_type": "code",
   "execution_count": 7,
   "metadata": {},
   "outputs": [
    {
     "name": "stdout",
     "output_type": "stream",
     "text": [
      "Dataset created: 174818\n"
     ]
    }
   ],
   "source": [
    "# Make a dataset, upload to Citrination, return/print the ID\n",
    "dataset_id = upload_data_and_get_id(\n",
    "    client,\n",
    "    \"toy_initial_dataset\",\n",
    "    \"toy_initial_dataset.json\",\n",
    "    create_new_version=True,\n",
    "#   given_dataset_id=1234\n",
    ")\n",
    "print(f\"Dataset created: {dataset_id}\")"
   ]
  },
  {
   "cell_type": "code",
   "execution_count": 8,
   "metadata": {
    "scrolled": true
   },
   "outputs": [
    {
     "name": "stdout",
     "output_type": "stream",
     "text": [
      "Data view created: 8588\n"
     ]
    }
   ],
   "source": [
    "# Make a data view on Citrination, return/print the ID\n",
    "view_id = build_view_and_get_id(client, dataset_id, \"toy_view\", view_desc=\"toy test view\",\n",
    "                      input_keys=[\"Property x1\", \"Property x2\"], output_keys=[\"Property y\"])\n",
    "\n",
    "print(f\"Data view created: {view_id}\")"
   ]
  },
  {
   "cell_type": "markdown",
   "metadata": {},
   "source": [
    "If this is not your first time running this notebook, you can change the following variables to match what you've already created."
   ]
  },
  {
   "cell_type": "code",
   "execution_count": 9,
   "metadata": {},
   "outputs": [],
   "source": [
    "# dataset_id = 123456\n",
    "# view_id = 1234"
   ]
  },
  {
   "cell_type": "markdown",
   "metadata": {},
   "source": [
    "# Running design\n",
    "\n",
    "Now we call a function that runs the SL process. In short, we run a loop where we do the following:\n",
    "\n",
    "1. Submit a design run (and poll status w/ wait times)\n",
    "1. Get best candidates and record predicted results\n",
    "1. Measure candidates (using toy function evaluation) and record measured results\n",
    "1. Add candidates to dataset\n",
    "1. Retrain on dataset (and poll status w/ wait times)\n",
    "1. Repeat until max iterations reached\n",
    "\n",
    "Detailed comments can be found in the [function docstring](sequential_learning_wrappers.py)."
   ]
  },
  {
   "cell_type": "code",
   "execution_count": 10,
   "metadata": {
    "scrolled": false
   },
   "outputs": [
    {
     "name": "stdout",
     "output_type": "stream",
     "text": [
      "\n",
      "---STARTING SL ITERATION #1---\n",
      "Design ready\n",
      "Created design run with ID 005e01f5-62e8-4bb5-b2e1-664369eb486e\n",
      "Design run status: Accepted\n",
      "Design run status: Accepted\n",
      "Design run status: Processing\n",
      "Design run status: Processing\n",
      "Design run status: Processing\n",
      "Design run status: Processing\n",
      "Design run status: Finished\n",
      "SL iter #1, best predicted (value, uncertainty) = ('11.1', '3.5')\n",
      "Dataset updated: 10 candidates added\n",
      "New dataset contains 30 PIFs\n",
      "Design ready\n",
      "\n",
      "---STARTING SL ITERATION #2---\n",
      "Design ready\n",
      "Created design run with ID ea9e0ca5-674d-4b42-820b-01a46c4d0ec2\n",
      "Design run status: Accepted\n",
      "Design run status: Accepted\n",
      "Design run status: Accepted\n",
      "Design run status: Processing\n",
      "Design run status: Processing\n",
      "Design run status: Processing\n",
      "Design run status: Processing\n",
      "Design run status: Finished\n",
      "SL iter #2, best predicted (value, uncertainty) = ('1.66', '0.92')\n",
      "Dataset updated: 10 candidates added\n",
      "New dataset contains 38 PIFs\n",
      "Design ready\n",
      "\n",
      "---STARTING SL ITERATION #3---\n",
      "Design ready\n",
      "Created design run with ID a7b4b109-8d6a-494a-a5c8-df87bb867c08\n",
      "Design run status: Processing\n",
      "Design run status: Processing\n",
      "Design run status: Processing\n",
      "Design run status: Finished\n",
      "SL iter #3, best predicted (value, uncertainty) = ('1.33', '0.33')\n",
      "Dataset updated: 10 candidates added\n",
      "New dataset contains 45 PIFs\n",
      "Design ready\n",
      "\n",
      "---STARTING SL ITERATION #4---\n",
      "Design ready\n",
      "Created design run with ID 604a6b47-c477-4dda-b0a7-753cf5f8fe30\n",
      "Design run status: Accepted\n",
      "Design run status: Accepted\n",
      "Design run status: Accepted\n",
      "Design run status: Processing\n",
      "Design run status: Processing\n",
      "Design run status: Processing\n",
      "Design run status: Finished\n",
      "SL iter #4, best predicted (value, uncertainty) = ('1.31', '0.22')\n",
      "Dataset updated: 10 candidates added\n",
      "New dataset contains 54 PIFs\n",
      "Design ready\n",
      "\n",
      "---STARTING SL ITERATION #5---\n",
      "Design ready\n",
      "Created design run with ID 7e0b78b1-d646-40c6-890c-adb147726b43\n",
      "Design run status: Accepted\n",
      "Design run status: Processing\n",
      "Design run status: Processing\n",
      "Design run status: Processing\n",
      "Design run status: Finished\n",
      "SL iter #5, best predicted (value, uncertainty) = ('1.249', '0.041')\n",
      "Waiting for data ingest to complete...\n",
      "Dataset updated: 10 candidates added\n",
      "New dataset contains 62 PIFs\n",
      "Design ready\n",
      "SL finished!\n",
      "\n"
     ]
    }
   ],
   "source": [
    "best_sl_pred_vals, best_sl_measured_vals = run_sequential_learning(\n",
    "    client=client,\n",
    "    view_id=str(view_id),\n",
    "    dataset_id=str(dataset_id),\n",
    "    num_candidates_per_iter=10,\n",
    "    design_effort=20,\n",
    "    wait_time=5,\n",
    "    num_sl_iterations=5,\n",
    "    input_properties=[\"Property x1\", \"Property x2\"],\n",
    "    target=[\"Property y\", \"Min\"],\n",
    "    print_output=True,\n",
    "    true_function=toy_func,\n",
    "    score_type=\"MLI\"\n",
    ")\n",
    "\n",
    "# Reset dataset after each SL run\n",
    "dataset_id = upload_data_and_get_id(\n",
    "    client,\n",
    "    \"toy_initial_dataset\",\n",
    "    \"toy_initial_dataset.json\",\n",
    "    create_new_version=True,\n",
    "    given_dataset_id=dataset_id\n",
    ")"
   ]
  },
  {
   "cell_type": "markdown",
   "metadata": {},
   "source": [
    "## Examining the results\n",
    "\n",
    "Finally, we can plot the results: Here, we are plotting the best measured candidate against the number of SL iterations in blue. In this case, lower = better for the measured results (since we are doing function minimization). The best predicted candidate is shown in yellow, with the uncertainty (error) at each iteration in green. As we can see, the uncertainty decreases as the number of SL iterations increase, and eventually our best candidates, both measured and predicted, perform better than the best value in the training set (black line)."
   ]
  },
  {
   "cell_type": "code",
   "execution_count": 11,
   "metadata": {},
   "outputs": [
    {
     "data": {
      "image/png": "[encoded data removed]",
      "text/plain": [
       "<Figure size 576x432 with 1 Axes>"
      ]
     },
     "metadata": {
      "needs_background": "light"
     },
     "output_type": "display_data"
    }
   ],
   "source": [
    "plot_sl_results(best_sl_measured_vals, best_sl_pred_vals, initial_best_measured_value)"
   ]
  },
  {
   "cell_type": "markdown",
   "metadata": {},
   "source": [
    "## Conclusion\n",
    "To recap, this notebook went through the steps for running SL using the API.\n",
    "1. First, we created and uploaded an initial dataset.\n",
    "1. Then, we created a data view and trained the model.\n",
    "1. We ran the SL process, measuring and updating new candidates after each iteration.\n",
    "1. Finally we examined our SL results.\n",
    "\n",
    "## Additional resources\n",
    "It's now possible to conduct the major aspects of the Citrination workflow through the API, which should increase the speed and flexibility of informatics approaches. Some other topics that might interest you include:\n",
    "* [DataClient](http://citrineinformatics.github.io/python-citrination-client/tutorial/data_examples.html) - This allows you to create datasets and upload PIF data (only) using the API.\n",
    "  * There is also a corresponding [tutorial](1_data_client_api_tutorial.ipynb).\n",
    "\n",
    "* [DataViewsClient](https://github.com/CitrineInformatics/python-citrination-client/tree/develop/citrination_client/views) - This allows you to build views (i.e. train ML models) using the API.\n",
    "  * There is also a corresponding [tutorial](2_data_views_api_tutorial.ipynb)."
   ]
  }
 ],
 "metadata": {
  "kernelspec": {
   "display_name": "Python 3",
   "language": "python",
   "name": "python3"
  },
  "language_info": {
   "codemirror_mode": {
    "name": "ipython",
    "version": 3
   },
   "file_extension": ".py",
   "mimetype": "text/x-python",
   "name": "python",
   "nbconvert_exporter": "python",
   "pygments_lexer": "ipython3",
   "version": "3.7.2"
  }
 },
 "nbformat": 4,
 "nbformat_minor": 2
}
