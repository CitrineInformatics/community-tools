{
 "cells": [
  {
   "cell_type": "markdown",
   "metadata": {},
   "source": [
    "# Python Citrination Client (PyCC) Batch Predictions Example\n",
    "\n",
    "*Authors: Chris Borg*\n",
    "\n",
    "In this notebook, we will cover how to use the PyCC to make predictions of the band gap on a collection of data. We will then use some simple statistics to quantify the accuracy of our predictions compared to the values computed in the [Materials Project database](https://materialsproject.org/). "
   ]
  },
  {
   "cell_type": "markdown",
   "metadata": {},
   "source": [
    "## Learning outcomes\n",
    "By the end of this tutorial, you will learn:\n",
    "* How to make predictions using PyCC and assess accuracy\n",
    "* How to construct queries to search through Citrination"
   ]
  },
  {
   "cell_type": "markdown",
   "metadata": {},
   "source": [
    "## Background knowledge\n",
    "To get the most out of this notebook, it would be helpful to be familiar with:\n",
    "* The [Materials Project API](https://materialsproject.org/docs/api) and `MPRester`\n",
    "* The [Pearson correlation coefficient](https://en.wikipedia.org/wiki/Pearson_correlation_coefficient), also referred to as Pearson's *r*\n"
   ]
  },
  {
   "cell_type": "markdown",
   "metadata": {},
   "source": [
    "## Imports"
   ]
  },
  {
   "cell_type": "code",
   "execution_count": 1,
   "metadata": {},
   "outputs": [],
   "source": [
    "# Standard Packages\n",
    "from os import environ\n",
    "\n",
    "# Third-party packages\n",
    "from citrination_client import *\n",
    "from pymatgen.ext.matproj import MPRester\n",
    "from scipy.stats import pearsonr\n",
    "import matplotlib.pyplot as plt\n",
    "%matplotlib inline"
   ]
  },
  {
   "cell_type": "markdown",
   "metadata": {},
   "source": [
    "## Initialize the PyCC and make a prediction"
   ]
  },
  {
   "cell_type": "code",
   "execution_count": 2,
   "metadata": {},
   "outputs": [
    {
     "name": "stdout",
     "output_type": "stream",
     "text": [
      "The predicted Band gap is 3.373 +/- 0.200\n"
     ]
    }
   ],
   "source": [
    "# Establish client (API key stored as environment variable)\n",
    "client = CitrinationClient(environ['CITRINATION_API_KEY'], 'https://citrination.com')\n",
    "\n",
    "# Example prediction\n",
    "resp = client.models.predict(data_view_id='524', candidates=[{'Chemical formula':'GaN'}])\n",
    "prediction = resp[0].get_value('Band gap')\n",
    "print('The predicted Band gap is {0:.3f} +/- {1:.3f}'.format(prediction.value, prediction.loss))"
   ]
  },
  {
   "cell_type": "markdown",
   "metadata": {},
   "source": [
    "## Get data from the Materials Project"
   ]
  },
  {
   "cell_type": "code",
   "execution_count": 3,
   "metadata": {},
   "outputs": [
    {
     "name": "stderr",
     "output_type": "stream",
     "text": [
      "/usr/local/lib/python3.7/site-packages/pymatgen/core/periodic_table.py:427: UserWarning: No electronegativity for He. Setting to NaN. This has no physical meaning, and is mainly done to avoid errors caused by the code expecting a float.\n",
      "  % self.symbol)\n",
      "/usr/local/lib/python3.7/site-packages/pymatgen/core/periodic_table.py:427: UserWarning: No electronegativity for Ne. Setting to NaN. This has no physical meaning, and is mainly done to avoid errors caused by the code expecting a float.\n",
      "  % self.symbol)\n",
      "/usr/local/lib/python3.7/site-packages/pymatgen/core/periodic_table.py:427: UserWarning: No electronegativity for Ar. Setting to NaN. This has no physical meaning, and is mainly done to avoid errors caused by the code expecting a float.\n",
      "  % self.symbol)\n"
     ]
    },
    {
     "data": {
      "application/vnd.jupyter.widget-view+json": {
       "model_id": "116c6cff093d4787925093ce8eb3dc29",
       "version_major": 2,
       "version_minor": 0
      },
      "text/plain": [
       "HBox(children=(IntProgress(value=0, max=2432), HTML(value='')))"
      ]
     },
     "metadata": {},
     "output_type": "display_data"
    },
    {
     "name": "stdout",
     "output_type": "stream",
     "text": [
      "\n"
     ]
    }
   ],
   "source": [
    "# Generate some sample data\n",
    "results = MPRester(environ['MP_API_KEY']).query(\"**O3\", ['pretty_formula', 'band_gap'])"
   ]
  },
  {
   "cell_type": "code",
   "execution_count": 4,
   "metadata": {},
   "outputs": [],
   "source": [
    "# Format sample data and run batch prediction on MP data\n",
    "inputs = [{'Chemical formula':r['pretty_formula']} for r in results]\n",
    "resp = client.models.predict('524', inputs)"
   ]
  },
  {
   "cell_type": "code",
   "execution_count": 5,
   "metadata": {},
   "outputs": [],
   "source": [
    "# Store predicted values\n",
    "predictions = [resp[index].get_value('Band gap') for index, i in enumerate(resp)]\n",
    "prediction_values = [p.value for p in predictions]\n",
    "prediction_errors = [p.loss for p in predictions]\n",
    "mp_bandgaps = [r['band_gap'] for r in results]"
   ]
  },
  {
   "cell_type": "markdown",
   "metadata": {},
   "source": [
    "## Plot prediction and error bars"
   ]
  },
  {
   "cell_type": "code",
   "execution_count": 6,
   "metadata": {},
   "outputs": [
    {
     "data": {
      "image/png": "[encoded data removed]",
      "text/plain": [
       "<Figure size 432x288 with 1 Axes>"
      ]
     },
     "metadata": {
      "needs_background": "light"
     },
     "output_type": "display_data"
    }
   ],
   "source": [
    "# Plot predicted values with errors against MP calculated values\n",
    "plt.figure()\n",
    "plt.errorbar(mp_bandgaps[0:100], prediction_values[0:100], prediction_errors[0:100], fmt='o');\n",
    "plt.ylabel('Predicted Band Gap (eV)')\n",
    "plt.xlabel('Actual Band Gap (eV)')\n",
    "plt.show()"
   ]
  },
  {
   "cell_type": "code",
   "execution_count": 7,
   "metadata": {},
   "outputs": [
    {
     "name": "stdout",
     "output_type": "stream",
     "text": [
      "The correlation coefficient is 0.3320 with a p-value of 0.0000\n"
     ]
    }
   ],
   "source": [
    "# check to see how well predicted values match MP calculated bandgaps\n",
    "corr = pearsonr(prediction_values, mp_bandgaps)\n",
    "print('The correlation coefficient is {0:.4f} with a p-value of {1:.4f}'.format(corr[0], corr[1]))"
   ]
  },
  {
   "cell_type": "markdown",
   "metadata": {},
   "source": [
    "## More advanced dataset queries through Citrination API"
   ]
  },
  {
   "cell_type": "code",
   "execution_count": 8,
   "metadata": {},
   "outputs": [
    {
     "name": "stdout",
     "output_type": "stream",
     "text": [
      "{'task_id': 'mp-20', 'kpoints': Kpoints from vasprun.xml\n",
      "0\n",
      "Monkhorst\n",
      "10 6 6\n",
      "}\n"
     ]
    }
   ],
   "source": [
    "mp = MPRester(environ['MP_API_KEY'])\n",
    "kpointdata = mp.get_task_data('mp-20', prop='kpoints')\n",
    "#potcar = mp.get_task_data('mp-1', prop='potcar')\n",
    "#encut = mp.get_task_data('mp-1', prop='incar')\n",
    "print((kpointdata[0]))"
   ]
  },
  {
   "cell_type": "code",
   "execution_count": 9,
   "metadata": {},
   "outputs": [
    {
     "name": "stdout",
     "output_type": "stream",
     "text": [
      "Found 57377 PIFs\n",
      "[None, None, None, None, None]\n"
     ]
    }
   ],
   "source": [
    "my_dataset_id = 164094\n",
    "\n",
    "detail_query = ValueQuery(extract_as=\"dep_gas_flow\", extract_all=True, name=FieldQuery(filter=[Filter(equal=\"Argon\")]))\n",
    "prep_query = ProcessStepQuery(name=FieldQuery(filter=[Filter(equal=\"Deposition Gas Flows\")]), details=detail_query)\n",
    "system_query = PifSystemQuery(prepartion=prep_query)\n",
    "dataset_query = DatasetQuery(id=Filter(equal=str(my_dataset_id)))\n",
    "query = DataQuery(dataset=dataset_query, system=system_query)\n",
    "query_dataset = PifSystemReturningQuery(size=5, query=query)\n",
    "\n",
    "query_result = client.search.pif_search(query_dataset)\n",
    "\n",
    "print(\"Found {} PIFs\".format(query_result.total_num_hits))\n",
    "print([x.extracted for x in query_result.hits])"
   ]
  },
  {
   "cell_type": "markdown",
   "metadata": {},
   "source": [
    "## Conclusion\n",
    "To recap, this notebook provided examples on using the Citrination and Materials Project APIs. Specifically, we used a pre-trained model on Citrination to run batch predictions on a set of data from the Materials Project. We then calculated the Pearson correlation coefficient and plotted the predicted values. Finally, we concluded with an example on how to contruct queries to the Citrination platform."
   ]
  }
 ],
 "metadata": {
  "kernelspec": {
   "display_name": "Python 3",
   "language": "python",
   "name": "python3"
  },
  "language_info": {
   "codemirror_mode": {
    "name": "ipython",
    "version": 3
   },
   "file_extension": ".py",
   "mimetype": "text/x-python",
   "name": "python",
   "nbconvert_exporter": "python",
   "pygments_lexer": "ipython3",
   "version": "3.7.2"
  }
 },
 "nbformat": 4,
 "nbformat_minor": 2
}
