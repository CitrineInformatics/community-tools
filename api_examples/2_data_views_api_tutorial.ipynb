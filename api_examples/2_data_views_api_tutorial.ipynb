{
 "cells": [
  {
   "cell_type": "markdown",
   "metadata": {},
   "source": [
    "# PyCC Data Views API Tutorial\n",
    "\n",
    "*Authors: Enze Chen, Eric Lundberg*\n",
    "\n",
    "In this notebook, we will cover how to *create* a data view using the [Citrination API](http://citrineinformatics.github.io/python-citrination-client/). Data views provide the configuration necessary in order to perform machine learning and identify relationships in your data. Previously, data views could only be created using the online user interface, but now they can be created using Python and API calls as well. We will demonstrate this functionality using the [Band gaps from Strehlow and Cook](https://citrination.com/datasets/1160/show_search?searchMatchOption=fuzzyMatch) dataset, where we will create a view mapping: \n",
    "\n",
    "$$\\text{Chemical formula (inorganic) + Crystallinity (categorical)} \\longrightarrow \\text{Band gap (real)}$$"
   ]
  },
  {
   "cell_type": "markdown",
   "metadata": {},
   "source": [
    "## Learning objectives\n",
    "By the end of this tutorial, you will know how to:\n",
    "* Create DataViewBuilder objects\n",
    "* Create new data views from existing data using the DataViewsClient\n",
    "* Perform operations on views using the DataViewsClient"
   ]
  },
  {
   "cell_type": "markdown",
   "metadata": {},
   "source": [
    "## Background knowledge\n",
    "In order to get the most out of this tutorial, you should already be familiar with the following:\n",
    "* Create and access datasets through the API ([documentation](http://citrineinformatics.github.io/python-citrination-client/tutorial/data_examples.html) and [tutorial](1_data_client_api_tutorial.ipynb))\n",
    "* What the data views [front-end UI](https://citrination.com/data_views) looks like"
   ]
  },
  {
   "cell_type": "markdown",
   "metadata": {},
   "source": [
    "## Imports"
   ]
  },
  {
   "cell_type": "code",
   "execution_count": 1,
   "metadata": {},
   "outputs": [],
   "source": [
    "# Standard packages\n",
    "import json\n",
    "import os\n",
    "import time\n",
    "import uuid # generating random IDs\n",
    "\n",
    "# Third-party packages\n",
    "from citrination_client import *\n",
    "from citrination_client.views.data_view_builder import DataViewBuilder"
   ]
  },
  {
   "cell_type": "markdown",
   "metadata": {},
   "source": [
    "## Data view builder\n",
    "This class handles the configuration for data views and returns a **configuration** object that is an input for the data views client. The configuration specifies the datasets, model, and descriptors. Some of the important parameters to note are:\n",
    "* **dataset_ids**: An array of strings, one for each dataset ID that should be included in the view.\n",
    "* **model_type**: A string of either `linear`, which use linear regression, or `default`, which uses a random forest.\n",
    "* **descriptors**: A descriptor instance, which could be `{RealDescriptor, InorganicDescriptor, OrganicDescriptor, CategoricalDescriptor, or AlloyCompositionDescriptor}`.\n",
    "    * Note: Chemical formulas for the API take the key `formula`.\n",
    "* **roles**: A role for each descriptor, as a string, which could be `{input, output, latentVariable, ignored}`.\n",
    "* **group_by**: A Boolean for whether or not to group by a descriptor during CV (`default = False`)."
   ]
  },
  {
   "cell_type": "code",
   "execution_count": 9,
   "metadata": {},
   "outputs": [],
   "source": [
    "# Create ML configuration\n",
    "dv_builder = DataViewBuilder()\n",
    "dv_builder.dataset_ids(['1160']) # ID number for band gaps dataset\n",
    "dv_builder.model_type('default') # random forest\n",
    "\n",
    "# Define descriptors\n",
    "crystallinity = ['Single crystalline', 'Polycrystalline', 'Amorphous'] # Obtained from dataset\n",
    "desc_crystal = CategoricalDescriptor(key='Property Crystallinity',\n",
    "                                     categories=crystallinity)\n",
    "dv_builder.add_descriptor(descriptor=desc_crystal,\n",
    "                          role='input')\n",
    "\n",
    "desc_formula = InorganicDescriptor(key='formula',\n",
    "                                   threshold=1) # threshold <= 1; hidden in future releases\n",
    "dv_builder.add_descriptor(descriptor=desc_formula,\n",
    "                          role='input')\n",
    "\n",
    "desc_bandgap = RealDescriptor(key='Property Band gap',\n",
    "                              lower_bound=0.0,\n",
    "                              upper_bound=1e9,\n",
    "                              units='eV')\n",
    "dv_builder.add_descriptor(descriptor=desc_bandgap,\n",
    "                          role='output')\n",
    "\n",
    "# Build the configuration once all the pieces are in place\n",
    "dv_config = dv_builder.build()"
   ]
  },
  {
   "cell_type": "code",
   "execution_count": 10,
   "metadata": {},
   "outputs": [
    {
     "data": {
      "text/plain": [
       "{\n",
       "  \"descriptor_key\": \"Property Band gap\",\n",
       "  \"category\": \"Real\",\n",
       "  \"lower_bound\": 0.0,\n",
       "  \"upper_bound\": 1000000000.0,\n",
       "  \"units\": \"eV\"\n",
       "}"
      ]
     },
     "execution_count": 10,
     "metadata": {},
     "output_type": "execute_result"
    }
   ],
   "source": [
    "desc_bandgap"
   ]
  },
  {
   "cell_type": "markdown",
   "metadata": {},
   "source": [
    "## Data view client\n",
    "After obtaining your customized configuration, you have to initialize a data views client instance in order to create a data view from the configuration you built. The `create()` method returns the ID for the data view, which you will need for subsequent analysis and retraining."
   ]
  },
  {
   "cell_type": "code",
   "execution_count": 15,
   "metadata": {},
   "outputs": [
    {
     "name": "stdout",
     "output_type": "stream",
     "text": [
      "9217 PyCC View b7051eda-2d20-4f4e-a78c-98f9c0282487\n"
     ]
    }
   ],
   "source": [
    "# Instantiate the base CitrinationClient\n",
    "client = CitrinationClient(os.environ['CITRINATION_API_KEY'], 'https://citrination.com')\n",
    "\n",
    "# Instantiate the DataViewsClient\n",
    "dv_client = client.data_views\n",
    "\n",
    "# Create a data view using the above configuration and store the ID\n",
    "view_name = 'PyCC View ' + str(uuid.uuid4()) # random name to avoid clashes\n",
    "view_desc = 'This view was created by the PyCC API tutorial.'\n",
    "dv_id = dv_client.create(configuration=dv_config,\n",
    "                         name=view_name,\n",
    "                         description=view_desc)\n",
    "print('ID:', dv_id, 'Name:', view_name)"
   ]
  },
  {
   "cell_type": "markdown",
   "metadata": {},
   "source": [
    "## Data view properties and analysis\n",
    "Now that the view is on your Citrination site, you can use the ID to do a variety of analyses. For example, you can obtain the metadata in JSON format for easy extraction."
   ]
  },
  {
   "cell_type": "code",
   "execution_count": 16,
   "metadata": {},
   "outputs": [
    {
     "name": "stdout",
     "output_type": "stream",
     "text": [
      "Name of view: PyCC View b7051eda-2d20-4f4e-a78c-98f9c0282487\n",
      "Column names: ['Property Crystallinity', 'formula', 'Property Band gap']\n",
      "Descriptor roles: {'Property Band gap': 'output', 'formula': 'input', 'Property Crystallinity': 'input'}\n"
     ]
    }
   ],
   "source": [
    "view_metadata = dv_client.get(dv_id)\n",
    "print('Name of view: {}'.format(view_metadata['name']))\n",
    "print('Column names: {}'.format(view_metadata['selected_columns']))\n",
    "print('Descriptor roles: {}'.format(view_metadata['configuration']['roles']))"
   ]
  },
  {
   "cell_type": "markdown",
   "metadata": {},
   "source": [
    "### Check status of services\n",
    "If there's a lot of data, training might take some time, and you might want to check when `predict` services are ready. Other possible services include `experimental_design`, `data_reports`, and `model_reports`."
   ]
  },
  {
   "cell_type": "code",
   "execution_count": 23,
   "metadata": {},
   "outputs": [
    {
     "data": {
      "text/plain": [
       "{'_ready': True,\n",
       " '_context': 'success',\n",
       " '_event': <citrination_client.models.event.Event at 0x1150d5a58>,\n",
       " '_reason': 'Model reports are now available'}"
      ]
     },
     "execution_count": 23,
     "metadata": {},
     "output_type": "execute_result"
    }
   ],
   "source": [
    "vars(dv_client.get_data_view_service_status(dv_id)._model_reports)"
   ]
  },
  {
   "cell_type": "code",
   "execution_count": 17,
   "metadata": {},
   "outputs": [
    {
     "name": "stdout",
     "output_type": "stream",
     "text": [
      "Predict services are ready.\n"
     ]
    }
   ],
   "source": [
    "print(dv_client.get_data_view_service_status(dv_id).predict.reason)"
   ]
  },
  {
   "cell_type": "markdown",
   "metadata": {},
   "source": [
    "### Retraining a view\n",
    "Once you've updated an included dataset by uploading more data (from the literature, sequential learning, etc.), you can easily retrain your models."
   ]
  },
  {
   "cell_type": "code",
   "execution_count": 24,
   "metadata": {},
   "outputs": [
    {
     "data": {
      "text/plain": [
       "True"
      ]
     },
     "execution_count": 24,
     "metadata": {},
     "output_type": "execute_result"
    }
   ],
   "source": [
    "dv_client.retrain(dv_id)"
   ]
  },
  {
   "cell_type": "markdown",
   "metadata": {},
   "source": [
    "### Submitting a prediction request\n",
    "This can be done using the function `submit_predict_request()`, which returns an ID for the prediction request."
   ]
  },
  {
   "cell_type": "code",
   "execution_count": 25,
   "metadata": {},
   "outputs": [
    {
     "name": "stdout",
     "output_type": "stream",
     "text": [
      "Prediction job status for 86be64e6-a153-41b6-9531-f7a80954e390: Accepted\n",
      "Prediction job status for 86be64e6-a153-41b6-9531-f7a80954e390: Finished\n",
      "The predicted bandgap for GaN is 3.420499661246613 +/- 0.13075207058150282\n"
     ]
    }
   ],
   "source": [
    "candidate_formula = 'GaN'\n",
    "candidates = [{'formula':candidate_formula, 'Property Crystallinity':'Single crystalline'}]\n",
    "predict_id = dv_client.submit_predict_request(dv_id,\n",
    "                                              candidates,\n",
    "                                              prediction_source='scalar',\n",
    "                                              use_prior=False)\n",
    "\n",
    "# Use a loop to monitor status\n",
    "while True:\n",
    "    predict_status = dv_client.check_predict_status(dv_id, predict_id)\n",
    "    print('Prediction job status for {}: {}'.format(predict_id, predict_status['status']))\n",
    "    if predict_status['status'] == 'Finished':\n",
    "        break\n",
    "    time.sleep(5)\n",
    "\n",
    "predict_results = predict_status['results']\n",
    "predict_value = predict_results['candidates'][0]['Property Band gap']\n",
    "predict_loss = predict_results['loss'][0]['Property Band gap']\n",
    "print('The predicted bandgap for {} is {} +/- {}'.format(candidate_formula, predict_value, predict_loss))"
   ]
  },
  {
   "cell_type": "code",
   "execution_count": 28,
   "metadata": {},
   "outputs": [
    {
     "data": {
      "text/plain": [
       "{'candidates': [{'mean of Miracle Ratio for formula dopants': 0.0,\n",
       "   'Maximum radius ratio for formula': 1.7183098591549295,\n",
       "   'mean of Elastic Poisson Ratio for formula': 0.27781211902485525,\n",
       "   'mean of Elemental polarizability for formula': 4.609999999999999,\n",
       "   'mean of Packing density for formula': 410.3878115564787,\n",
       "   'mean of Elemental crystal structure (space group) for formula': 129.0,\n",
       "   'mean of Number of unfilled f valence electrons for formula dopants': 0.0,\n",
       "   'mean of DFT volume ratio for formula dopants': 0.0,\n",
       "   'mean of Valence electron density for formula': 0.44186192995716805,\n",
       "   'mean of Modulii sum for formula': 138.15649798051794,\n",
       "   'mean of Non-dimensional liquid range for formula dopants': 0.0,\n",
       "   'formula dopant stoichiometry': 0.0,\n",
       "   'Maximum weight fraction for formula dopants': 0.0,\n",
       "   'Maximum atomic fraction for formula dopants': 0.0,\n",
       "   'mean of Elemental melting temperature for formula': 182.98000000000002,\n",
       "   'mean of Miracle Ratio for formula': 0.9482794361525705,\n",
       "   'mean of Modulii sum for formula dopants': 0.0,\n",
       "   'mean of Non-dimensional band gap for formula': 0.22144474030039699,\n",
       "   'mean of Non-dimensional work function for formula': 0.577703200414468,\n",
       "   'mean of Liquid range for formula': 1094.125,\n",
       "   'mean of Mendeleev number for formula': 78.0,\n",
       "   'mean of Interatomic distance for formula dopants': 0.0,\n",
       "   'mean of Number of unfilled p valence electrons for formula': 4.0,\n",
       "   'mean of BCC Efficiency for formula': 1.259921049909341,\n",
       "   'mean of Non-dimensional band gap for formula dopants': 0.0,\n",
       "   'mean of Radius of s orbitals for formula': 0.545,\n",
       "   'mean of Liquid ratio for formula': 4.700965035141155,\n",
       "   'mean of Elemental magnetic moment for formula dopants': 0.0,\n",
       "   'mean of Elemental bulk modulus for formula': 90.79420289855072,\n",
       "   'Property Crystallinity': 'Single crystalline',\n",
       "   'mean of Row in periodic table for formula dopants': 0.0,\n",
       "   'mean of Total number of unfilled valence electrons for formula': 4.0,\n",
       "   \"mean of Trouton's Ratio for formula dopants\": 0.0,\n",
       "   'mean of Pauling electronegativity for formula dopants': 0.0,\n",
       "   'mean of Elemental crystal structure (space group) for formula dopants': 0.0,\n",
       "   'mean of Interatomic distance for formula': 76897117.16129413,\n",
       "   'mean of Number of unfilled s valence electrons for formula dopants': 0.0,\n",
       "   'mean of Elemental bulk modulus for formula dopants': 0.0,\n",
       "   'formula dopant fraction': 0.0,\n",
       "   'Maximum atomic fraction for formula': 0.5,\n",
       "   'mean of Pauling electronegativity for formula': 2.425,\n",
       "   'mean of Ratio of Electron Affinity to Electronegativity for formula dopants': 0.0,\n",
       "   'formula is doped': 'undoped',\n",
       "   'mean of Shear Modulus Melting Temp Product for formula dopants': 0.0,\n",
       "   'mean of Mendeleev number for formula dopants': 0.0,\n",
       "   'mean of Number of f valence electrons for formula': 0.0,\n",
       "   'Maximum radius ratio for formula dopants': 0.0,\n",
       "   'mean of Conduction ionization energy for formula': 7.0482005,\n",
       "   'mean of Radius of s orbitals for formula dopants': 0.0,\n",
       "   'Maximum radius difference for formula dopants': 0.0,\n",
       "   'mean of Elemental polarizability for formula dopants': 0.0,\n",
       "   'mean of Elemental electron density for formula dopants': 0.0,\n",
       "   'Maximum electronegativity difference for formula': 1.23,\n",
       "   \"mean of Trouton's Ratio for formula\": 0.012034135918335472,\n",
       "   'mean of Non-dimensional heat of fusion for formula': 12.446442306479883,\n",
       "   'mean of Radius of p orbitals for formula': 0.5725,\n",
       "   'mean of Elemental magnetic moment for formula': 0.0,\n",
       "   'mean of Number of s valence electrons for formula': 2.0,\n",
       "   'mean of DFT energy density for formula': -0.31472706590286004,\n",
       "   'mean of Elemental density for formula dopants': 0.0,\n",
       "   'Maximum weight fraction for formula': 0.8327152730751455,\n",
       "   'mean of Number of d valence electrons for formula dopants': 0.0,\n",
       "   'Maximum radius difference for formula': 51.0,\n",
       "   'mean of Liquid range for formula dopants': 0.0,\n",
       "   'mean of Radius of d orbitals for formula dopants': 0.0,\n",
       "   'Number of elements for formula': 2.0,\n",
       "   'mean of Total number of valence electrons for formula': 9.0,\n",
       "   'mean of Elemental atomic volume for formula': 21.14,\n",
       "   'Property Band gap': 3.420499661246613,\n",
       "   'mean of Number of f valence electrons for formula dopants': 0.0,\n",
       "   'mean of Zunger Pseudopotential radius ratio for formula dopants': 0.0,\n",
       "   'mean of Elastic Poisson Ratio for formula dopants': 0.0,\n",
       "   'mean of Elemental density for formula': 2952.6255,\n",
       "   'Number of elements for formula dopants': 0.0,\n",
       "   'mean of Elemental melting temperature for formula dopants': 0.0,\n",
       "   'Formula weight for formula dopants': 0.0,\n",
       "   'mean of Number of p valence electrons for formula': 2.0,\n",
       "   'formula': {'formula': 'GaN'},\n",
       "   'mean of Valence electron density for formula dopants': 0.0,\n",
       "   'Minimum atomic fraction for formula dopants': 0.0,\n",
       "   'mean of Ratio of Electron Affinity to Electronegativity for formula': 9.134741203838324,\n",
       "   'mean of Shear Modulus Melting Temp Product for formula': 8666.352754098361,\n",
       "   'mean of Zunger Pseudopotential radius ratio for formula': 0.9333133971291867,\n",
       "   'mean of Number of unfilled p valence electrons for formula dopants': 0.0,\n",
       "   'mean of Non-dimensional liquid range for formula': 3.700965035141156,\n",
       "   'mean of Number of unfilled s valence electrons for formula': 0.0,\n",
       "   'mean of Elemental work function for formula': 5.48,\n",
       "   'mean of BCC Efficiency for formula dopants': 0.0,\n",
       "   'mean of Radius of d orbitals for formula': 0.28566981132075464,\n",
       "   'mean of Liquid ratio for formula dopants': 0.0,\n",
       "   'mean of Conduction ionization energy for formula dopants': 0.0,\n",
       "   'Formula weight for formula': 83.7297,\n",
       "   'mean of Elemental atomic volume for formula dopants': 0.0,\n",
       "   'Min atomic radius plus max electronegativity difference for formula': 72.23,\n",
       "   'mean of Radius of p orbitals for formula dopants': 0.0,\n",
       "   'mean of Row in periodic table for formula': 3.0,\n",
       "   'Minimum weight fraction for formula': 0.16728472692485463,\n",
       "   'mean of Packing density for formula dopants': 0.0,\n",
       "   'mean of Elemental work function for formula dopants': 0.0,\n",
       "   'mean of Number of d valence electrons for formula': 5.0,\n",
       "   'mean of Non-dimensional heat of fusion for formula dopants': 0.0,\n",
       "   'mean of Ionization Affinity Ratio for formula dopants': 0.0,\n",
       "   'mean of DFT energy density for formula dopants': 0.0,\n",
       "   'mean of Total number of unfilled valence electrons for formula dopants': 0.0,\n",
       "   'mean of Number of s valence electrons for formula dopants': 0.0,\n",
       "   'mean of Ionization Affinity Ratio for formula': 2.649426921493109,\n",
       "   'Maximum electronegativity difference for formula dopants': 0.0,\n",
       "   'mean of Non-dimensional work function for formula dopants': 0.0,\n",
       "   'mean of Mulliken electronegativity for formula dopants': 0.0,\n",
       "   'mean of Total number of valence electrons for formula dopants': 0.0,\n",
       "   'mean of DFT volume ratio for formula': -0.07702287744609826,\n",
       "   'Min atomic radius plus max electronegativity difference for formula dopants': 0.0,\n",
       "   'mean of Elemental electron density for formula': 1.48,\n",
       "   'mean of Number of unfilled f valence electrons for formula': 0.0,\n",
       "   'Minimum weight fraction for formula dopants': 0.0,\n",
       "   'mean of Mulliken electronegativity for formula': 14.10835025,\n",
       "   'Minimum atomic fraction for formula': 0.5,\n",
       "   'mean of Number of p valence electrons for formula dopants': 0.0}],\n",
       " 'loss': [{'mean of Miracle Ratio for formula dopants': 0.0,\n",
       "   'Maximum radius ratio for formula': 0.0,\n",
       "   'mean of Elastic Poisson Ratio for formula': 0.0,\n",
       "   'mean of Elemental polarizability for formula': 0.0,\n",
       "   'mean of Packing density for formula': 0.0,\n",
       "   'mean of Elemental crystal structure (space group) for formula': 0.0,\n",
       "   'mean of Number of unfilled f valence electrons for formula dopants': 0.0,\n",
       "   'mean of DFT volume ratio for formula dopants': 0.0,\n",
       "   'mean of Valence electron density for formula': 0.0,\n",
       "   'mean of Modulii sum for formula': 0.0,\n",
       "   'mean of Non-dimensional liquid range for formula dopants': 0.0,\n",
       "   'formula dopant stoichiometry': 0.0,\n",
       "   'Maximum weight fraction for formula dopants': 0.0,\n",
       "   'Maximum atomic fraction for formula dopants': 0.0,\n",
       "   'mean of Elemental melting temperature for formula': 0.0,\n",
       "   'mean of Miracle Ratio for formula': 0.0,\n",
       "   'mean of Modulii sum for formula dopants': 0.0,\n",
       "   'mean of Non-dimensional band gap for formula': 0.0,\n",
       "   'mean of Non-dimensional work function for formula': 0.0,\n",
       "   'mean of Liquid range for formula': 0.0,\n",
       "   'mean of Mendeleev number for formula': 0.0,\n",
       "   'mean of Interatomic distance for formula dopants': 0.0,\n",
       "   'mean of Number of unfilled p valence electrons for formula': 0.0,\n",
       "   'mean of BCC Efficiency for formula': 0.0,\n",
       "   'mean of Non-dimensional band gap for formula dopants': 0.0,\n",
       "   'mean of Radius of s orbitals for formula': 0.0,\n",
       "   'mean of Liquid ratio for formula': 0.0,\n",
       "   'mean of Elemental magnetic moment for formula dopants': 0.0,\n",
       "   'mean of Elemental bulk modulus for formula': 0.0,\n",
       "   'Property Crystallinity': 1.0,\n",
       "   'mean of Row in periodic table for formula dopants': 0.0,\n",
       "   'mean of Total number of unfilled valence electrons for formula': 0.0,\n",
       "   \"mean of Trouton's Ratio for formula dopants\": 0.0,\n",
       "   'mean of Pauling electronegativity for formula dopants': 0.0,\n",
       "   'mean of Elemental crystal structure (space group) for formula dopants': 0.0,\n",
       "   'mean of Interatomic distance for formula': 0.0,\n",
       "   'mean of Number of unfilled s valence electrons for formula dopants': 0.0,\n",
       "   'mean of Elemental bulk modulus for formula dopants': 0.0,\n",
       "   'formula dopant fraction': 0.0,\n",
       "   'Maximum atomic fraction for formula': 0.0,\n",
       "   'mean of Pauling electronegativity for formula': 0.0,\n",
       "   'mean of Ratio of Electron Affinity to Electronegativity for formula dopants': 0.0,\n",
       "   'formula is doped': 1.0,\n",
       "   'mean of Shear Modulus Melting Temp Product for formula dopants': 0.0,\n",
       "   'mean of Mendeleev number for formula dopants': 0.0,\n",
       "   'mean of Number of f valence electrons for formula': 0.0,\n",
       "   'Maximum radius ratio for formula dopants': 0.0,\n",
       "   'mean of Conduction ionization energy for formula': 0.0,\n",
       "   'mean of Radius of s orbitals for formula dopants': 0.0,\n",
       "   'Maximum radius difference for formula dopants': 0.0,\n",
       "   'mean of Elemental polarizability for formula dopants': 0.0,\n",
       "   'mean of Elemental electron density for formula dopants': 0.0,\n",
       "   'Maximum electronegativity difference for formula': 0.0,\n",
       "   \"mean of Trouton's Ratio for formula\": 0.0,\n",
       "   'mean of Non-dimensional heat of fusion for formula': 0.0,\n",
       "   'mean of Radius of p orbitals for formula': 0.0,\n",
       "   'mean of Elemental magnetic moment for formula': 0.0,\n",
       "   'mean of Number of s valence electrons for formula': 0.0,\n",
       "   'mean of DFT energy density for formula': 0.0,\n",
       "   'mean of Elemental density for formula dopants': 0.0,\n",
       "   'Maximum weight fraction for formula': 0.0,\n",
       "   'mean of Number of d valence electrons for formula dopants': 0.0,\n",
       "   'Maximum radius difference for formula': 0.0,\n",
       "   'mean of Liquid range for formula dopants': 0.0,\n",
       "   'mean of Radius of d orbitals for formula dopants': 0.0,\n",
       "   'Number of elements for formula': 0.0,\n",
       "   'mean of Total number of valence electrons for formula': 0.0,\n",
       "   'mean of Elemental atomic volume for formula': 0.0,\n",
       "   'Property Band gap': 0.13075207058150282,\n",
       "   'mean of Number of f valence electrons for formula dopants': 0.0,\n",
       "   'mean of Zunger Pseudopotential radius ratio for formula dopants': 0.0,\n",
       "   'mean of Elastic Poisson Ratio for formula dopants': 0.0,\n",
       "   'mean of Elemental density for formula': 0.0,\n",
       "   'Number of elements for formula dopants': 0.0,\n",
       "   'mean of Elemental melting temperature for formula dopants': 0.0,\n",
       "   'Formula weight for formula dopants': 0.0,\n",
       "   'mean of Number of p valence electrons for formula': 0.0,\n",
       "   'formula': 0.0,\n",
       "   'mean of Valence electron density for formula dopants': 0.0,\n",
       "   'Minimum atomic fraction for formula dopants': 0.0,\n",
       "   'mean of Ratio of Electron Affinity to Electronegativity for formula': 0.0,\n",
       "   'mean of Shear Modulus Melting Temp Product for formula': 0.0,\n",
       "   'mean of Zunger Pseudopotential radius ratio for formula': 0.0,\n",
       "   'mean of Number of unfilled p valence electrons for formula dopants': 0.0,\n",
       "   'mean of Non-dimensional liquid range for formula': 0.0,\n",
       "   'mean of Number of unfilled s valence electrons for formula': 0.0,\n",
       "   'mean of Elemental work function for formula': 0.0,\n",
       "   'mean of BCC Efficiency for formula dopants': 0.0,\n",
       "   'mean of Radius of d orbitals for formula': 0.0,\n",
       "   'mean of Liquid ratio for formula dopants': 0.0,\n",
       "   'mean of Conduction ionization energy for formula dopants': 0.0,\n",
       "   'Formula weight for formula': 0.0,\n",
       "   'mean of Elemental atomic volume for formula dopants': 0.0,\n",
       "   'Min atomic radius plus max electronegativity difference for formula': 0.0,\n",
       "   'mean of Radius of p orbitals for formula dopants': 0.0,\n",
       "   'mean of Row in periodic table for formula': 0.0,\n",
       "   'Minimum weight fraction for formula': 0.0,\n",
       "   'mean of Packing density for formula dopants': 0.0,\n",
       "   'mean of Elemental work function for formula dopants': 0.0,\n",
       "   'mean of Number of d valence electrons for formula': 0.0,\n",
       "   'mean of Non-dimensional heat of fusion for formula dopants': 0.0,\n",
       "   'mean of Ionization Affinity Ratio for formula dopants': 0.0,\n",
       "   'mean of DFT energy density for formula dopants': 0.0,\n",
       "   'mean of Total number of unfilled valence electrons for formula dopants': 0.0,\n",
       "   'mean of Number of s valence electrons for formula dopants': 0.0,\n",
       "   'mean of Ionization Affinity Ratio for formula': 0.0,\n",
       "   'Maximum electronegativity difference for formula dopants': 0.0,\n",
       "   'mean of Non-dimensional work function for formula dopants': 0.0,\n",
       "   'mean of Mulliken electronegativity for formula dopants': 0.0,\n",
       "   'mean of Total number of valence electrons for formula dopants': 0.0,\n",
       "   'mean of DFT volume ratio for formula': 0.0,\n",
       "   'Min atomic radius plus max electronegativity difference for formula dopants': 0.0,\n",
       "   'mean of Elemental electron density for formula': 0.0,\n",
       "   'mean of Number of unfilled f valence electrons for formula': 0.0,\n",
       "   'Minimum weight fraction for formula dopants': 0.0,\n",
       "   'mean of Mulliken electronegativity for formula': 0.0,\n",
       "   'Minimum atomic fraction for formula': 0.0,\n",
       "   'mean of Number of p valence electrons for formula dopants': 0.0}]}"
      ]
     },
     "execution_count": 28,
     "metadata": {},
     "output_type": "execute_result"
    }
   ],
   "source": [
    "predict_results"
   ]
  },
  {
   "cell_type": "markdown",
   "metadata": {},
   "source": [
    "### Deleting a view\n",
    "You can delete views very easily through the API, so handle with care!"
   ]
  },
  {
   "cell_type": "code",
   "execution_count": 29,
   "metadata": {},
   "outputs": [],
   "source": [
    "# dv_client.delete(dv_id)"
   ]
  },
  {
   "cell_type": "markdown",
   "metadata": {},
   "source": [
    "## Conclusion\n",
    "To recap, this notebook went through the steps for creating a data view using the API.\n",
    "1. First, we used the DataViewBuilder object to specify the configuration.\n",
    "2. Then, we trained the model, which is simple as long as the configuration is correct.\n",
    "3. Lastly, we explored some of the post-processing capabilities, such as retraining and submitting predictions.\n",
    "\n",
    "## Additional resources\n",
    "It's now possible to conduct the major aspects of the Citrination workflow through the API, which should increase the speed and flexibility of informatics approaches. Some other topics that might interest you include:\n",
    "* More details regarding client functions in the [code base](https://github.com/CitrineInformatics/python-citrination-client/blob/master/citrination_client/views/client.py).\n",
    "* [DataClient](http://citrineinformatics.github.io/python-citrination-client/tutorial/data_examples.html) - This allows you to create datasets and upload PIF data (only) using the API.\n",
    "  * There is also a corresponding [tutorial](1_data_client_api_tutorial.ipynb).\n",
    "* [ModelsClient](http://citrineinformatics.github.io/python-citrination-client/tutorial/models_examples.html) - This allows you to submit predict and design runs using the API.\n",
    "  * There is also a corresponding [tutorial](3_models_client_api_tutorial.ipynb).\n",
    "* Other examples on [learn-citrination](https://github.com/CitrineInformatics/learn-citrination)."
   ]
  },
  {
   "cell_type": "code",
   "execution_count": null,
   "metadata": {},
   "outputs": [],
   "source": []
  }
 ],
 "metadata": {
  "kernelspec": {
   "display_name": "Python 3",
   "language": "python",
   "name": "python3"
  },
  "language_info": {
   "codemirror_mode": {
    "name": "ipython",
    "version": 3
   },
   "file_extension": ".py",
   "mimetype": "text/x-python",
   "name": "python",
   "nbconvert_exporter": "python",
   "pygments_lexer": "ipython3",
   "version": "3.7.3"
  }
 },
 "nbformat": 4,
 "nbformat_minor": 2
}
