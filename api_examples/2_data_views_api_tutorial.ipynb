{
 "cells": [
  {
   "cell_type": "markdown",
   "metadata": {},
   "source": [
    "# PyCC Data Views API Tutorial\n",
    "\n",
    "*Authors: Enze Chen, Eric Lundberg*\n",
    "\n",
    "In this notebook, we will cover how to *create* a data view using the [Citrination API](http://citrineinformatics.github.io/python-citrination-client/). Data views provide the configuration necessary in order to perform machine learning and identify relationships in your data. Previously, data views could only be created using the online user interface, but now they can be created using Python and API calls as well. We will demonstrate this functionality using the [Band gaps from Strehlow and Cook](https://citrination.com/datasets/1160/show_search?searchMatchOption=fuzzyMatch) dataset, where we will create a view mapping: \n",
    "\n",
    "$$\\text{Chemical formula (inorganic) + Crystallinity (categorical)} \\longrightarrow \\text{Band gap (real)}$$"
   ]
  },
  {
   "cell_type": "markdown",
   "metadata": {},
   "source": [
    "## Learning objectives\n",
    "By the end of this tutorial, you will know how to:\n",
    "* Create `DataViewBuilder` objects.\n",
    "* Create new data views from existing data using the `DataViewsClient`.\n",
    "* Perform operations on views using the `DataViewsClient`."
   ]
  },
  {
   "cell_type": "markdown",
   "metadata": {},
   "source": [
    "## Background knowledge\n",
    "In order to get the most out of this tutorial, you should already be familiar with the following:\n",
    "* Create and access datasets through the API ([documentation](http://citrineinformatics.github.io/python-citrination-client/tutorial/data_examples.html) and [tutorial](1_data_client_api_tutorial.ipynb)).\n",
    "* What the data views [front-end UI](https://citrination.com/data_views) looks like."
   ]
  },
  {
   "cell_type": "markdown",
   "metadata": {},
   "source": [
    "## Imports"
   ]
  },
  {
   "cell_type": "code",
   "execution_count": 1,
   "metadata": {},
   "outputs": [],
   "source": [
    "# Standard packages\n",
    "import json\n",
    "import os\n",
    "import time\n",
    "import uuid # generating random IDs\n",
    "\n",
    "# Third-party packages\n",
    "from citrination_client import *\n",
    "from citrination_client.views.data_view_builder import DataViewBuilder"
   ]
  },
  {
   "cell_type": "markdown",
   "metadata": {},
   "source": [
    "## Data view builder\n",
    "This class handles the configuration for data views and returns a **configuration** object that is an input for the `DataViewsClient`. The configuration specifies the datasets, model, and descriptors. Some of the important parameters to note are:\n",
    "* **dataset_ids**: An array of strings, one for each dataset ID that should be included in the view.\n",
    "* **model_type**: A string of either `linear` or `default`.\n",
    "* **descriptors**: A descriptor instance, which could be `{RealDescriptor, InorganicDescriptor, OrganicDescriptor, CategoricalDescriptor, or AlloyCompositionDescriptor}`.\n",
    "    * Note: Chemical formulas for the API take the key `formula`.\n",
    "* **roles**: A role for each descriptor, as a string, which could be `{input, output, latentVariable, ignored}`.\n",
    "* **group_by**: A Boolean for whether or not to group by a descriptor during CV (`default = False`)."
   ]
  },
  {
   "cell_type": "code",
   "execution_count": 3,
   "metadata": {},
   "outputs": [],
   "source": [
    "# Create ML configuration\n",
    "dv_builder = DataViewBuilder()\n",
    "dv_builder.dataset_ids(['1160']) # ID number for band gaps dataset\n",
    "dv_builder.model_type('default')\n",
    "\n",
    "# Define descriptors\n",
    "crystallinity = ['Single crystalline', 'Polycrystalline', 'Amorphous'] # Obtained from dataset\n",
    "desc_crystal = CategoricalDescriptor(key='Property Crystallinity', categories=crystallinity)\n",
    "dv_builder.add_descriptor(descriptor=desc_crystal, role='input')\n",
    "\n",
    "desc_formula = InorganicDescriptor(key='formula', threshold=1.0) # threshold <= 1; default in future releases\n",
    "dv_builder.add_descriptor(descriptor=desc_formula, role='input')\n",
    "\n",
    "desc_bandgap = RealDescriptor(key='Property Band gap', lower_bound=0.0, upper_bound=1e9, units='eV')\n",
    "dv_builder.add_descriptor(descriptor=desc_bandgap, role='output')\n",
    "\n",
    "# Build the configuration once all the pieces are in place\n",
    "dv_config = dv_builder.build()"
   ]
  },
  {
   "cell_type": "markdown",
   "metadata": {},
   "source": [
    "## DataViewsClient\n",
    "After obtaining your customized configuration, you have to initialize a [`DataViewsClient`](https://github.com/CitrineInformatics/python-citrination-client/blob/master/citrination_client/views/client.py) instance in order to create a data view from the configuration you built. The `create()` method returns the ID for the data view, which you will need for subsequent analysis and retraining."
   ]
  },
  {
   "cell_type": "code",
   "execution_count": 4,
   "metadata": {},
   "outputs": [],
   "source": [
    "# Instantiate the base CitrinationClient\n",
    "client = CitrinationClient(os.environ['CITRINATION_API_KEY'], 'https://citrination.com')\n",
    "\n",
    "# Instantiate the DataViewsClient\n",
    "views_client = client.data_views\n",
    "\n",
    "# Create a data view using the above configuration and store the ID\n",
    "view_name = 'PyCC View ' + str(uuid.uuid4()) # random name to avoid clashes\n",
    "view_desc = 'This view was created by the PyCC API tutorial.'\n",
    "view_id = views_client.create(configuration=dv_config, name=view_name, description=view_desc)"
   ]
  },
  {
   "cell_type": "markdown",
   "metadata": {},
   "source": [
    "## Data view properties and analysis\n",
    "Now that the view is on your Citrination site, you can use the ID to do a variety of analyses. For example, you can obtain the metadata in JSON format for easy extraction with the `get()` method."
   ]
  },
  {
   "cell_type": "code",
   "execution_count": 6,
   "metadata": {},
   "outputs": [
    {
     "name": "stdout",
     "output_type": "stream",
     "text": [
      "Name of view: PyCC View 51681e55-5cb1-4abf-8a0f-8f53a2a35da2\n",
      "Column names: ['Property Crystallinity', 'formula', 'Property Band gap']\n",
      "Descriptor roles: {'Property Band gap': 'output', 'formula': 'input', 'Property Crystallinity': 'input'}\n"
     ]
    }
   ],
   "source": [
    "view_metadata = views_client.get(view_id)\n",
    "print('Name of view: {}'.format(view_metadata['name']))\n",
    "print('Column names: {}'.format(view_metadata['selected_columns']))\n",
    "print('Descriptor roles: {}'.format(view_metadata['configuration']['roles']))"
   ]
  },
  {
   "cell_type": "markdown",
   "metadata": {},
   "source": [
    "### Check status of services\n",
    "If there's a lot of data, training might take some time, and you might want to check when `predict` services are ready. Other possible services include `experimental_design`, `data_reports`, and `model_reports`."
   ]
  },
  {
   "cell_type": "code",
   "execution_count": 10,
   "metadata": {},
   "outputs": [
    {
     "name": "stdout",
     "output_type": "stream",
     "text": [
      "Predict services are ready.\n"
     ]
    }
   ],
   "source": [
    "# Use a loop to monitor status\n",
    "while True:\n",
    "    predict_state = views_client.get_data_view_service_status(view_id).predict.reason\n",
    "    print(predict_state)\n",
    "    if predict_state == 'Predict services are ready.':\n",
    "        break\n",
    "    time.sleep(10)"
   ]
  },
  {
   "cell_type": "markdown",
   "metadata": {},
   "source": [
    "### Deleting a view\n",
    "You can delete views very easily through the API, so handle with care!"
   ]
  },
  {
   "cell_type": "code",
   "execution_count": 12,
   "metadata": {},
   "outputs": [],
   "source": [
    "# views_client.delete(id=view_id)"
   ]
  },
  {
   "cell_type": "markdown",
   "metadata": {},
   "source": [
    "## ModelsClient methods\n",
    "The `ModelsClient` is now a [linked attribute](https://github.com/CitrineInformatics/python-citrination-client/blob/c1c34b6f848e8bfcdaf1bb5619ea54afe18220c2/citrination_client/views/client.py#L21) of the `DataViewsClient`, so methods such as `retrain()`, `predict()`, and `submit_design_run()` can be used with the `view_id` we just created."
   ]
  },
  {
   "cell_type": "code",
   "execution_count": 13,
   "metadata": {},
   "outputs": [],
   "source": [
    "models_client = views_client.models # the original way is client.models"
   ]
  },
  {
   "cell_type": "markdown",
   "metadata": {},
   "source": [
    "We'll leave the tutorial for the `ModelsClient` and its associated methods as [a separate notebook](3_models_client_api_tutorial.ipynb)."
   ]
  },
  {
   "cell_type": "markdown",
   "metadata": {},
   "source": [
    "## Conclusion\n",
    "To recap, this notebook went through the steps for creating a data view using the API.\n",
    "1. First, we used the DataViewBuilder object to specify the configuration.\n",
    "2. Then, we trained the model, which is simple as long as the configuration is correct.\n",
    "3. Lastly, we explored some of the post-processing capabilities, such as retraining and submitting predictions.\n",
    "\n",
    "## Additional resources\n",
    "It's now possible to conduct the major aspects of the Citrination workflow through the API, which should increase the speed and flexibility of informatics approaches. Some other topics that might interest you include:\n",
    "* More details regarding client functions in the [code base](https://github.com/CitrineInformatics/python-citrination-client/blob/master/citrination_client/views/client.py).\n",
    "* [DataClient](http://citrineinformatics.github.io/python-citrination-client/tutorial/data_examples.html) - This allows you to create datasets and upload PIF data (only) using the API.\n",
    "  * There is also a corresponding [tutorial](1_data_client_api_tutorial.ipynb).\n",
    "* [ModelsClient](http://citrineinformatics.github.io/python-citrination-client/tutorial/models_examples.html) - This allows you to submit predict and design runs using the API.\n",
    "  * There is also a corresponding [tutorial](3_models_client_api_tutorial.ipynb).\n",
    "  * The `ModelsClient` is actually [linked as an attribute](https://github.com/CitrineInformatics/python-citrination-client/blob/c1c34b6f848e8bfcdaf1bb5619ea54afe18220c2/citrination_client/views/client.py#L21) of the `DataViewsClient`."
   ]
  }
 ],
 "metadata": {
  "kernelspec": {
   "display_name": "Python 3",
   "language": "python",
   "name": "python3"
  },
  "language_info": {
   "codemirror_mode": {
    "name": "ipython",
    "version": 3
   },
   "file_extension": ".py",
   "mimetype": "text/x-python",
   "name": "python",
   "nbconvert_exporter": "python",
   "pygments_lexer": "ipython3",
   "version": "3.7.2"
  }
 },
 "nbformat": 4,
 "nbformat_minor": 2
}
