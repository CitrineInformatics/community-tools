{
 "cells": [
  {
   "cell_type": "markdown",
   "metadata": {},
   "source": [
    "# PyCC Models Client API Tutorial\n",
    "\n",
    "*Authors: Enze Chen, Eddie Kim*\n",
    "\n",
    "**Note**: The `ModelsClient` will likely be deprecated in a future version of PyCC in favor of the [`DataViewsClient`](data_views_api_tutorial.ipynb). This tutorial is still helpful in the meantime, and for future reference.\n",
    "\n",
    "In this notebook, we will cover how to use the `ModelsClient` to interface with *existing* data views and ML models through the [Citrination API](http://citrineinformatics.github.io/python-citrination-client/). We will demonstrate how analyze ML models and leverage them for prediction and design using the [Band gaps from Strehlow and Cook](https://citrination.com/datasets/1160/show_search?searchMatchOption=fuzzyMatch) dataset, where we will have created a model mapping:\n",
    "\n",
    "$$\\text{Chemical formula (inorganic) + Crystallinity (categorical)} \\longrightarrow \\text{Band gap (real)}$$"
   ]
  },
  {
   "cell_type": "markdown",
   "metadata": {},
   "source": [
    "## Table of contents\n",
    "1. [Learning outcomes](#Learning-outcomes)\n",
    "1. [Data view](#Interface-with-data-views)\n",
    "1. [t-SNE](#t-SNE)\n",
    "1. [Predict](#Predict)\n",
    "1. [Design](#Design)\n",
    "1. [Additional resources](#Additional-resources)"
   ]
  },
  {
   "cell_type": "markdown",
   "metadata": {},
   "source": [
    "## Learning outcomes\n",
    "By the end of this tutorial, you will know how to use the `ModelsClient` to:\n",
    "* Interface with data views.\n",
    "* Make predictions on new data with trained ML models.\n",
    "* Set design parameters and submit design jobs."
   ]
  },
  {
   "cell_type": "markdown",
   "metadata": {},
   "source": [
    "## Background knowledge\n",
    "In order to get the most out of this tutorial, you should already be familiar with the following:\n",
    "* Create and access datasets through the API ([documentation](http://citrineinformatics.github.io/python-citrination-client/tutorial/data_examples.html) and [tutorial](1_data_client_api_tutorial.ipynb)).\n",
    "* Create and access data views through the [API](2_data_views_api_tutorial.ipynb) and [UI](../web_ui_examples/03_data_views.md).\n",
    "* What the data views [front-end UI](https://citrination.com/data_views) looks like, including Predict and Design endpoints."
   ]
  },
  {
   "cell_type": "markdown",
   "metadata": {},
   "source": [
    "## Imports"
   ]
  },
  {
   "cell_type": "code",
   "execution_count": 1,
   "metadata": {},
   "outputs": [],
   "source": [
    "# Standard packages\n",
    "import json\n",
    "import os\n",
    "import time\n",
    "import uuid # generating random IDs\n",
    "\n",
    "# Third-party packages\n",
    "import numpy as np\n",
    "import matplotlib.pyplot as plt\n",
    "%matplotlib inline\n",
    "from IPython.display import Image\n",
    "\n",
    "from citrination_client import *\n",
    "from citrination_client.models.design import Target"
   ]
  },
  {
   "cell_type": "markdown",
   "metadata": {},
   "source": [
    "## Interface with data views\n",
    "We will start by initializing the `ModelsClient` from the `CitrinationClient` and look at some basic properties of the view using `get_data_view()`. The returned `DataView` object has the following properties:\n",
    "* `id`: The view ID.\n",
    "* `name`: The name of the view.\n",
    "* `description`: The description of the view.\n",
    "* `datasets`: A list of datasets used in the view.\n",
    "* `column_names`: A list of column names in the view.\n",
    "* `columns`: A list of columns in the view (objects extend [`BaseColumn`](https://github.com/CitrineInformatics/python-citrination-client/tree/master/citrination_client/models/columns))."
   ]
  },
  {
   "cell_type": "code",
   "execution_count": 4,
   "metadata": {},
   "outputs": [
    {
     "name": "stdout",
     "output_type": "stream",
     "text": [
      "Data view name: PyCC View b7051eda-2d20-4f4e-a78c-98f9c0282487\n",
      "Data view description: This view was created by the PyCC API tutorial.\n",
      "Names of included datasets: ['Band gaps from Strehlow and Cook']\n"
     ]
    }
   ],
   "source": [
    "# Instantiate the base CitrinationClient\n",
    "client = CitrinationClient(os.environ['CITRINATION_API_KEY'], 'https://citrination.com')\n",
    "\n",
    "# Instantiate the ModelsClient\n",
    "models_client = client.models\n",
    "\n",
    "# Look up the data view ID and analyze the view\n",
    "# Replace view_id with the id you got in 2_data_views_api_tutorial\n",
    "view_id = 9217\n",
    "data_view = models_client.get_data_view(view_id)\n",
    "print('Data view name: {}'.format(data_view.name))\n",
    "print('Data view description: {}'.format(data_view.description))\n",
    "print('Names of included datasets: {}'.format([data_view.datasets[i].name for i in range(len(data_view.datasets))]))"
   ]
  },
  {
   "cell_type": "markdown",
   "metadata": {},
   "source": [
    "You can check on the various services in your view, which includes `predict`, `experimental_design`, `data_reports`, `model_reports`, using `get_data_view_service_status()`. A `ServiceStatus` object has the following properties:\n",
    "* `ready`: A Boolean indicating whether or not the service can be used.\n",
    "* `context`: A contextual description of the current status: `notice`, `success`, `error`.\n",
    "* `reason`: A full sentence explanation of the service's status.\n",
    "* `event`: An event object describing the current state of the service's progress toward readiness.\n",
    "\n",
    "If you update the underlying dataset, you can also trigger model `retrain()` through the API."
   ]
  },
  {
   "cell_type": "code",
   "execution_count": 5,
   "metadata": {},
   "outputs": [
    {
     "name": "stdout",
     "output_type": "stream",
     "text": [
      "Model reports are still being generated, progress: 50.0%.\n",
      "Model reports are still being generated, progress: 75.0%.\n",
      "Model reports are still being generated, progress: 75.0%.\n",
      "Model reports are still being generated, progress: 75.0%.\n",
      "Model reports are still being generated, progress: 75.0%.\n",
      "Model reports are still being generated, progress: 75.0%.\n",
      "Model reports are still being generated, progress: 75.0%.\n",
      "Model reports are still being generated, progress: 75.0%.\n",
      "Model reports are still being generated, progress: 75.0%.\n",
      "Model reports are still being generated, progress: 75.0%.\n",
      "Model reports are still being generated, progress: 75.0%.\n",
      "Model reports are still being generated, progress: 75.0%.\n",
      "Model reports are still being generated, progress: 75.0%.\n",
      "Model reports are still being generated, progress: 100.0%.\n",
      "Model reports generated!\n"
     ]
    }
   ],
   "source": [
    "# Retrain your models\n",
    "models_client.retrain(view_id)\n",
    "\n",
    "# Check status of services in a loop\n",
    "model_reports_generating = True\n",
    "time.sleep(10)\n",
    "while (model_reports_generating):\n",
    "    view_status = models_client.get_data_view_service_status(view_id)\n",
    "    model_report_progress = view_status.model_reports.event.normalized_progress\n",
    "    print('Model reports are still being generated, progress: {0:.1f}%.'.format(100 * model_report_progress))\n",
    "    if (model_report_progress < 0.99):\n",
    "        time.sleep(20)\n",
    "    else:\n",
    "        print('Model reports generated!')\n",
    "        model_reports_generating = False"
   ]
  },
  {
   "cell_type": "markdown",
   "metadata": {},
   "source": [
    "If you are an Admin on your Citrination site, the latest version of the ML template in the view can be obtained using `template_latest_version()`, which takes in the path of the model. "
   ]
  },
  {
   "cell_type": "code",
   "execution_count": 7,
   "metadata": {},
   "outputs": [
    {
     "name": "stdout",
     "output_type": "stream",
     "text": [
      "The ML template is version 1.\n"
     ]
    }
   ],
   "source": [
    "# What is this path??? Is this a file system path? Why do we have to manually construct it?\n",
    "template_path = 'view_ml_' + str(view_id) + '_1'\n",
    "template_version = models_client.template_latest_version(template_path)\n",
    "print('The ML template is version {}.'.format(template_version))"
   ]
  },
  {
   "cell_type": "code",
   "execution_count": 9,
   "metadata": {},
   "outputs": [
    {
     "data": {
      "text/plain": [
       "'view_ml_9217_1'"
      ]
     },
     "execution_count": 9,
     "metadata": {},
     "output_type": "execute_result"
    }
   ],
   "source": [
    "template_path"
   ]
  },
  {
   "cell_type": "markdown",
   "metadata": {},
   "source": [
    "## t-SNE\n",
    "t-SNE is short for t-Distributed Stochastic Neighbor Embedding. This technique was developed about [a decade ago](https://lvdmaaten.github.io/tsne/) ([simpler explanation](https://www.analyticsvidhya.com/blog/2017/01/t-sne-implementation-r-python/)) and it's a powerful projection tool because nearby points in high dimensional space remain close in 2D while distant points remain far apart. Therefore, t-SNE plots are helpful for identifying clusters and structures in your data. We employ t-SNE as a *dimensionality reduction* technique to project the data onto 2 dimensions for ease of visualization.\n",
    "\n",
    "A `Tsne` object contains many `Projection` objects (one for each output `Property`) with the following properties:\n",
    "* `xs`: A list of $x$ values of the projection.\n",
    "* `ys`: A list of $y$ values of the projection.\n",
    "* `responses`: A list of $z$ (Property) values of the projection.\n",
    "* `tags`: A list of tags for the projected points.\n",
    "* `uids`: A list of record UIDs for the projected points.\n",
    "\n",
    "You can create the t-SNE plot from the coordinates and values. Further analysis with t-SNE is performed in [this other demo](https://github.com/CitrineInformatics/learn-citrination/blob/master/tsneDemo.ipynb)."
   ]
  },
  {
   "cell_type": "code",
   "execution_count": 10,
   "metadata": {},
   "outputs": [
    {
     "name": "stdout",
     "output_type": "stream",
     "text": [
      "Highest band gap material: \tInorganicChemicalFormula(BeO), 14.5.\n",
      "It has projected coordinates: \t(-367.048, 690.501).\n"
     ]
    },
    {
     "data": {
      "image/png": "[encoded data removed]",
      "text/plain": [
       "<Figure size 432x288 with 2 Axes>"
      ]
     },
     "metadata": {
      "needs_background": "light"
     },
     "output_type": "display_data"
    }
   ],
   "source": [
    "# Get the Tsne object\n",
    "tsne = models_client.tsne(view_id)\n",
    "projection_key = list(tsne.projections())[0] # Get first output Property in dict_keys object\n",
    "projection = tsne.get_projection(projection_key)\n",
    "max_index, max_value = (np.argmax(projection.responses), max(projection.responses))\n",
    "print('Highest band gap material: \\t{0}.'.format(projection.tags[max_index]))\n",
    "print('It has projected coordinates: \\t({0:.3f}, {1:.3f}).'.format(projection.xs[max_index], projection.ys[max_index]))\n",
    "plt.figure()\n",
    "ax = plt.gca()\n",
    "plt.scatter(projection.xs, projection.ys, c=projection.responses)\n",
    "ax.set_aspect(aspect='equal', adjustable='datalim')\n",
    "plt.colorbar(label='Band gap (eV)')\n",
    "plt.show()"
   ]
  },
  {
   "cell_type": "markdown",
   "metadata": {},
   "source": [
    "## Predict\n",
    "Once ML models have been trained, you can use them to make predictions on new materials. We access the predict endpoint through the `predict()` function, which takes as inputs:\n",
    "* `data_view_id`: The view ID.\n",
    "* `candidates`: A list of candidates (dicts) to make predictions on.\n",
    "* `method`: A string, `scalar` or `from_distribution`, indicating the method for propagating predictions.\n",
    "* `use_prior`: Boolean indicating whether to apply prior values implied by the property descriptors.\n",
    "\n",
    "It returns a list of `PredictionResult` objects, from which you can see `all_keys()` (list of strings) or `get_value()`, which returns a `PredictedValue` object given an input key. `PredictedValue` objects have the following properties:\n",
    "* `key`: The descriptor key for the prediction.\n",
    "* `value`: The predicted value.\n",
    "* `loss`: The loss for the prediction (uncertainty)."
   ]
  },
  {
   "cell_type": "code",
   "execution_count": 35,
   "metadata": {},
   "outputs": [
    {
     "name": "stdout",
     "output_type": "stream",
     "text": [
      "Property Band gap has a predicted value of 3.409 +/- 1.907.\n"
     ]
    }
   ],
   "source": [
    "# Candidates to submit predictions for\n",
    "# Does crystallinity enter into this model?\n",
    "candidates = [{'formula':'MgP2', 'Property Crystallinity':''}, {'formula':'GaN', 'Property Crystallinity':'Single crystalline'}]\n",
    "\n",
    "# Predict endpoint\n",
    "prediction_results = models_client.predict(view_id, candidates)\n",
    "prediction_keys = list(prediction_results[0].all_keys()) # convert dict_keys to list\n",
    "target_prop = projection_key\n",
    "index = prediction_keys.index(target_prop)\n",
    "\n",
    "# Get predicted value\n",
    "prediction_value = prediction_results[0].get_value(prediction_keys[index])\n",
    "print('{0} has a predicted value of {1:.3f} +/- {2:.3f}.'.format(prediction_value.key, prediction_value.value, prediction_value.loss))"
   ]
  },
  {
   "cell_type": "markdown",
   "metadata": {},
   "source": [
    "## Design\n",
    "Once ML models have been trained, you can generate a list of candidate materials designed to achieve your target objectives. We can submit a new experimental design run using `submit_design_run()`, which takes as inputs:\n",
    "* `data_view_id`: The view ID.\n",
    "* `num_candidates`: The number of candidates to return.\n",
    "* `effort`: A value $\\le 30$ indicating how much resource (time) to allocate towards design.\n",
    "* `target`: A [`Target`](https://github.com/CitrineInformatics/python-citrination-client/blob/master/citrination_client/models/design/target.py) instance, which consists of the name of the output column and the objective (`Max` or `Min`).\n",
    "* `constraints`: A list of [design constraints](https://github.com/CitrineInformatics/python-citrination-client/tree/master/citrination_client/models/design/constraints) that extend the `BaseConstraint` class.\n",
    "* `sampler`: The name of the sampler to use as a string, either `Default` or `This view`.\n",
    "\n",
    "The function returns a `DesignRun` object whose only property is a `uuid`. Depending on the `effort`, this step can take a while."
   ]
  },
  {
   "cell_type": "code",
   "execution_count": 39,
   "metadata": {},
   "outputs": [
    {
     "data": {
      "text/plain": [
       "'45af1aec-29db-48b4-9d76-b306ed0e2b51'"
      ]
     },
     "execution_count": 39,
     "metadata": {},
     "output_type": "execute_result"
    }
   ],
   "source": [
    "# Submit the design run and obtain design run uuid\n",
    "design_run = models_client.submit_design_run(\n",
    "    data_view_id=view_id,\n",
    "    num_candidates=10,\n",
    "    effort=5,\n",
    "    target=Target(name=target_prop, objective='Max'),\n",
    "    constraints=[],\n",
    "    sampler='Default')\n",
    "\n",
    "design_id = design_run.uuid\n",
    "design_id"
   ]
  },
  {
   "cell_type": "markdown",
   "metadata": {},
   "source": [
    "### Design status\n",
    "With the view ID and design run UUID, we can call `get_design_run_status()` to return a `ProcessStatus()` object with the following properties:\n",
    "* `uuid`: The UUID of the design run.\n",
    "* `result`: The result of the design process.\n",
    "* `progress`: The progress of the process as a percentage.\n",
    "* `status`: The status string of the process, which can be `Accepted`, `Finished`, or `Killed`.\n",
    "* `messages`: A list of messages representing the steps the process has already progressed through.\n",
    "\n",
    "If a design run is taking too long, you can end it with `kill_design_run()`."
   ]
  },
  {
   "cell_type": "code",
   "execution_count": 40,
   "metadata": {},
   "outputs": [
    {
     "name": "stdout",
     "output_type": "stream",
     "text": [
      "Design is running, progress: 0.0%.\n",
      "Design is running, progress: 0.0%.\n",
      "Design is running, progress: 0.0%.\n",
      "Design is running, progress: 0.0%.\n",
      "Design is running, progress: 0.0%.\n",
      "Design is running, progress: 0.0%.\n",
      "Design is running, progress: 0.0%.\n",
      "Design is running, progress: 0.0%.\n",
      "Design is running, progress: 0.0%.\n",
      "Design is running, progress: 0.0%.\n",
      "Design is running, progress: 0.0%.\n",
      "Design is running, progress: 0.0%.\n",
      "Design is running, progress: 0.0%.\n",
      "Design is running, progress: 0.0%.\n",
      "Design is running, progress: 0.0%.\n",
      "Design is running, progress: 0.0%.\n",
      "Design is running, progress: 0.0%.\n",
      "Design is running, progress: 0.0%.\n",
      "Design is running, progress: 0.0%.\n",
      "Design is running, progress: 0.0%.\n",
      "Design is running, progress: 0.0%.\n",
      "Design is running, progress: 0.0%.\n",
      "Design is running, progress: 0.0%.\n",
      "Design is running, progress: 0.0%.\n",
      "Design is running, progress: 0.0%.\n",
      "Design is running, progress: 0.0%.\n",
      "Design is running, progress: 0.0%.\n",
      "Design is running, progress: 0.0%.\n",
      "Design is running, progress: 0.0%.\n",
      "Design is running, progress: 0.0%.\n",
      "Design is running, progress: 0.0%.\n",
      "Design is running, progress: 0.0%.\n",
      "Design is running, progress: 0.0%.\n",
      "Design is running, progress: 0.0%.\n",
      "Design is running, progress: 0.0%.\n",
      "Design is running, progress: 0.0%.\n",
      "Design is running, progress: 0.0%.\n",
      "Design is running, progress: 0.0%.\n",
      "Design is running, progress: 0.0%.\n",
      "Design is running, progress: 0.0%.\n",
      "Design is running, progress: 0.0%.\n",
      "Design is running, progress: 0.0%.\n",
      "Design is running, progress: 0.0%.\n",
      "Design is running, progress: 0.0%.\n",
      "Design is running, progress: 0.0%.\n",
      "Design is running, progress: 0.0%.\n",
      "Design is running, progress: 0.0%.\n",
      "Design is running, progress: 0.0%.\n",
      "Design is running, progress: 0.0%.\n",
      "Design is running, progress: 0.0%.\n",
      "Design is running, progress: 0.0%.\n",
      "Design is running, progress: 0.0%.\n",
      "Design is running, progress: 0.0%.\n",
      "Design is running, progress: 0.0%.\n",
      "Design is running, progress: 0.0%.\n",
      "Design is running, progress: 0.0%.\n",
      "Design is running, progress: 0.0%.\n",
      "Design is running, progress: 0.0%.\n",
      "Design is running, progress: 0.0%.\n",
      "Design is running, progress: 0.0%.\n",
      "Design is running, progress: 0.0%.\n",
      "Design is running, progress: 0.0%.\n",
      "Design is running, progress: 0.0%.\n",
      "Design is running, progress: 0.0%.\n",
      "Design is running, progress: 0.0%.\n",
      "Design is running, progress: 0.0%.\n",
      "Design is running, progress: 0.0%.\n",
      "Design is running, progress: 0.0%.\n",
      "Design is running, progress: 0.0%.\n",
      "Design is running, progress: 0.0%.\n",
      "Design is running, progress: 0.0%.\n",
      "Design is running, progress: 0.0%.\n",
      "Design is running, progress: 0.0%.\n",
      "Design is running, progress: 0.0%.\n",
      "Design is running, progress: 0.0%.\n",
      "Design is running, progress: 0.0%.\n",
      "Design is running, progress: 0.0%.\n",
      "Design is running, progress: 0.0%.\n",
      "Design is running, progress: 0.0%.\n",
      "Design is running, progress: 0.0%.\n",
      "Design is running, progress: 0.0%.\n",
      "Design is running, progress: 0.0%.\n",
      "Design is running, progress: 0.0%.\n",
      "Design is running, progress: 0.0%.\n",
      "Design is running, progress: 0.0%.\n",
      "Design is running, progress: 0.0%.\n",
      "Design is running, progress: 0.0%.\n",
      "Design is running, progress: 0.0%.\n",
      "Design is running, progress: 0.0%.\n",
      "Design is running, progress: 0.0%.\n",
      "Design is running, progress: 0.0%.\n",
      "Design is running, progress: 0.0%.\n",
      "Design is running, progress: 0.0%.\n",
      "Design is running, progress: 0.0%.\n",
      "Design is running, progress: 0.0%.\n",
      "Design is running, progress: 0.0%.\n",
      "Design is running, progress: 0.0%.\n",
      "Design is running, progress: 0.0%.\n",
      "Design is running, progress: 0.0%.\n",
      "Design is running, progress: 0.0%.\n",
      "Design is running, progress: 0.0%.\n",
      "Design is running, progress: 0.0%.\n",
      "Design is running, progress: 0.0%.\n",
      "Design is running, progress: 0.0%.\n",
      "Design is running, progress: 0.0%.\n",
      "Design is running, progress: 0.0%.\n",
      "Design is running, progress: 0.0%.\n",
      "Design is running, progress: 0.0%.\n",
      "Design is running, progress: 0.0%.\n",
      "Design is running, progress: 0.0%.\n",
      "Design is running, progress: 0.0%.\n",
      "Design is running, progress: 0.0%.\n",
      "Design is running, progress: 0.0%.\n",
      "Design is running, progress: 0.0%.\n",
      "Design is running, progress: 0.0%.\n",
      "Design is running, progress: 0.0%.\n",
      "Design is running, progress: 0.0%.\n",
      "Design is running, progress: 0.0%.\n",
      "Design is running, progress: 0.0%.\n",
      "Design is running, progress: 0.0%.\n",
      "Design is running, progress: 0.0%.\n",
      "Design is running, progress: 0.0%.\n",
      "Design is running, progress: 0.0%.\n",
      "Design is running, progress: 0.0%.\n",
      "Design is running, progress: 0.0%.\n",
      "Design is running, progress: 0.0%.\n",
      "Design is running, progress: 0.0%.\n",
      "Design is running, progress: 0.0%.\n",
      "Design is running, progress: 0.0%.\n",
      "Design is running, progress: 0.0%.\n",
      "Design is running, progress: 0.0%.\n",
      "Design is running, progress: 0.0%.\n",
      "Design is running, progress: 0.0%.\n",
      "Design is running, progress: 0.0%.\n",
      "Design is running, progress: 0.0%.\n",
      "Design is running, progress: 0.0%.\n",
      "Design is running, progress: 0.0%.\n",
      "Design is running, progress: 0.0%.\n",
      "Design is running, progress: 0.0%.\n",
      "Design is running, progress: 0.0%.\n",
      "Design is running, progress: 0.0%.\n",
      "Design is running, progress: 0.0%.\n",
      "Design is running, progress: 0.0%.\n",
      "Design is running, progress: 0.0%.\n",
      "Design is running, progress: 0.0%.\n",
      "Design is running, progress: 0.0%.\n",
      "Design is running, progress: 0.0%.\n",
      "Design is running, progress: 0.0%.\n",
      "Design is running, progress: 0.0%.\n",
      "Design is running, progress: 0.0%.\n",
      "Design is running, progress: 0.0%.\n",
      "Design is running, progress: 0.0%.\n",
      "Design is running, progress: 0.0%.\n",
      "Design is running, progress: 0.0%.\n",
      "Design is running, progress: 0.0%.\n",
      "Design is running, progress: 0.0%.\n",
      "Design is running, progress: 0.0%.\n",
      "Design is running, progress: 0.0%.\n",
      "Design is running, progress: 0.0%.\n",
      "Design is running, progress: 0.0%.\n",
      "Design is running, progress: 0.0%.\n",
      "Design is running, progress: 0.0%.\n",
      "Design is running, progress: 0.0%.\n",
      "Design is running, progress: 0.0%.\n",
      "Design is running, progress: 0.0%.\n",
      "Design is running, progress: 0.0%.\n",
      "Design is running, progress: 0.0%.\n",
      "Design is running, progress: 0.0%.\n",
      "Design is running, progress: 0.0%.\n",
      "Design is running, progress: 0.0%.\n",
      "Design is running, progress: 0.0%.\n",
      "Design is running, progress: 0.0%.\n",
      "Design is running, progress: 0.0%.\n",
      "Design is running, progress: 0.0%.\n",
      "Design is running, progress: 0.0%.\n",
      "Design is running, progress: 0.0%.\n",
      "Design is running, progress: 0.0%.\n",
      "Design is running, progress: 0.0%.\n",
      "Design is running, progress: 0.0%.\n",
      "Design is running, progress: 0.0%.\n",
      "Design is running, progress: 0.0%.\n",
      "Design is running, progress: 0.0%.\n",
      "Design is running, progress: 0.0%.\n",
      "Design is running, progress: 0.0%.\n",
      "Design is running, progress: 0.0%.\n",
      "Design is running, progress: 0.0%.\n",
      "Design is running, progress: 0.0%.\n",
      "Design is running, progress: 0.0%.\n",
      "Design is running, progress: 0.0%.\n",
      "Design is running, progress: 0.0%.\n",
      "Design is running, progress: 0.0%.\n",
      "Design is running, progress: 0.0%.\n",
      "Design is running, progress: 0.0%.\n",
      "Design is running, progress: 0.0%.\n",
      "Design is running, progress: 0.0%.\n",
      "Design is running, progress: 0.0%.\n",
      "Design is running, progress: 0.0%.\n",
      "Design is running, progress: 0.0%.\n",
      "Design is running, progress: 0.0%.\n",
      "Design is running, progress: 0.0%.\n",
      "Design is running, progress: 0.0%.\n",
      "Design is running, progress: 0.0%.\n",
      "Design is running, progress: 0.0%.\n",
      "Design is running, progress: 0.0%.\n",
      "Design is running, progress: 0.0%.\n",
      "Design is running, progress: 0.0%.\n",
      "Design is running, progress: 0.0%.\n",
      "Design is running, progress: 0.0%.\n",
      "Design is running, progress: 0.0%.\n",
      "Design is running, progress: 0.0%.\n",
      "Design is running, progress: 0.0%.\n",
      "Design is running, progress: 0.0%.\n",
      "Design is running, progress: 0.0%.\n",
      "Design is running, progress: 0.0%.\n",
      "Design is running, progress: 0.0%.\n",
      "Design is running, progress: 0.0%.\n",
      "Design is running, progress: 0.0%.\n",
      "Design is running, progress: 0.0%.\n",
      "Design is running, progress: 0.0%.\n",
      "Design is running, progress: 0.0%.\n",
      "Design is running, progress: 0.0%.\n",
      "Design is running, progress: 0.0%.\n",
      "Design is running, progress: 0.0%.\n",
      "Design is running, progress: 0.0%.\n",
      "Design is running, progress: 0.0%.\n",
      "Design is running, progress: 0.0%.\n",
      "Design is running, progress: 0.0%.\n",
      "Design is running, progress: 0.0%.\n",
      "Design is running, progress: 0.0%.\n",
      "Design is running, progress: 0.0%.\n",
      "Design is running, progress: 0.0%.\n",
      "Design is running, progress: 0.0%.\n",
      "Design is running, progress: 0.0%.\n",
      "Design is running, progress: 0.0%.\n",
      "Design is running, progress: 0.0%.\n"
     ]
    },
    {
     "name": "stdout",
     "output_type": "stream",
     "text": [
      "Design is running, progress: 0.0%.\n",
      "Design is running, progress: 0.0%.\n",
      "Design is running, progress: 0.0%.\n",
      "Design is running, progress: 0.0%.\n",
      "Design is running, progress: 0.0%.\n",
      "Design is running, progress: 0.0%.\n",
      "Design is running, progress: 0.0%.\n",
      "Design is running, progress: 0.0%.\n",
      "Design is running, progress: 0.0%.\n",
      "Design is running, progress: 0.0%.\n",
      "Design is running, progress: 0.0%.\n",
      "Design is running, progress: 0.0%.\n",
      "Design is running, progress: 0.0%.\n",
      "Design is running, progress: 0.0%.\n",
      "Design is running, progress: 0.0%.\n",
      "Design is running, progress: 0.0%.\n",
      "Design is running, progress: 0.0%.\n",
      "Design is running, progress: 0.0%.\n",
      "Design is running, progress: 0.0%.\n",
      "Design is running, progress: 0.0%.\n",
      "Design is running, progress: 0.0%.\n",
      "Design is running, progress: 0.0%.\n",
      "Design is running, progress: 0.0%.\n",
      "Design is running, progress: 0.0%.\n",
      "Design is running, progress: 0.0%.\n",
      "Design is running, progress: 0.0%.\n",
      "Design is running, progress: 0.0%.\n",
      "Design is running, progress: 0.0%.\n",
      "Design is running, progress: 0.0%.\n",
      "Design is running, progress: 0.0%.\n",
      "Design is running, progress: 0.0%.\n",
      "Design is running, progress: 0.0%.\n",
      "Design is running, progress: 0.0%.\n",
      "Design is running, progress: 0.0%.\n",
      "Design is running, progress: 0.0%.\n",
      "Design is running, progress: 0.0%.\n",
      "Design is running, progress: 0.0%.\n",
      "Design is running, progress: 0.0%.\n",
      "Design is running, progress: 0.0%.\n",
      "Design is running, progress: 0.0%.\n",
      "Design is running, progress: 0.0%.\n",
      "Design is running, progress: 0.0%.\n",
      "Design is running, progress: 0.0%.\n",
      "Design is running, progress: 0.0%.\n",
      "Design is running, progress: 0.0%.\n",
      "Design is running, progress: 0.0%.\n",
      "Design is running, progress: 0.0%.\n",
      "Design is running, progress: 0.0%.\n",
      "Design is running, progress: 0.0%.\n",
      "Design is running, progress: 0.0%.\n",
      "Design is running, progress: 0.0%.\n",
      "Design is running, progress: 0.0%.\n",
      "Design is running, progress: 0.0%.\n",
      "Design is running, progress: 0.0%.\n",
      "Design is running, progress: 0.0%.\n",
      "Design is running, progress: 0.0%.\n",
      "Design is running, progress: 0.0%.\n",
      "Design is running, progress: 0.0%.\n",
      "Design is running, progress: 0.0%.\n",
      "Design is running, progress: 0.0%.\n",
      "Design is running, progress: 0.0%.\n",
      "Design is running, progress: 0.0%.\n",
      "Design is running, progress: 0.0%.\n",
      "Design is running, progress: 0.0%.\n",
      "Design is running, progress: 0.0%.\n",
      "Design is running, progress: 0.0%.\n",
      "Design is running, progress: 0.0%.\n",
      "Design is running, progress: 0.0%.\n",
      "Design is running, progress: 0.0%.\n",
      "Design is running, progress: 0.0%.\n",
      "Design is running, progress: 0.0%.\n",
      "Design is running, progress: 0.0%.\n",
      "Design is running, progress: 0.0%.\n",
      "Design is running, progress: 0.0%.\n",
      "Design is running, progress: 0.0%.\n",
      "Design is running, progress: 0.0%.\n",
      "Design is running, progress: 0.0%.\n",
      "Design is running, progress: 0.0%.\n",
      "Design is running, progress: 0.0%.\n",
      "Design is running, progress: 0.0%.\n",
      "Design is running, progress: 0.0%.\n",
      "Design is running, progress: 0.0%.\n",
      "Design is running, progress: 0.0%.\n",
      "Design is running, progress: 0.0%.\n",
      "Design is running, progress: 0.0%.\n",
      "Design is running, progress: 0.0%.\n",
      "Design is running, progress: 0.0%.\n",
      "Design is running, progress: 0.0%.\n",
      "Design is running, progress: 0.0%.\n",
      "Design is running, progress: 0.0%.\n",
      "Design is running, progress: 0.0%.\n",
      "Design is running, progress: 0.0%.\n",
      "Design is running, progress: 0.0%.\n",
      "Design is running, progress: 0.0%.\n",
      "Design is running, progress: 0.0%.\n",
      "Design is running, progress: 0.0%.\n",
      "Design is running, progress: 0.0%.\n",
      "Design is running, progress: 0.0%.\n",
      "Design is running, progress: 0.0%.\n",
      "Design is running, progress: 0.0%.\n",
      "Design is running, progress: 0.0%.\n",
      "Design is running, progress: 0.0%.\n",
      "Design is running, progress: 0.0%.\n",
      "Design is running, progress: 0.0%.\n",
      "Design is running, progress: 0.0%.\n",
      "Design is running, progress: 0.0%.\n",
      "Design is running, progress: 0.0%.\n",
      "Design is running, progress: 0.0%.\n",
      "Design is running, progress: 0.0%.\n",
      "Design is running, progress: 0.0%.\n",
      "Design is running, progress: 0.0%.\n",
      "Design is running, progress: 0.0%.\n",
      "Design is running, progress: 0.0%.\n",
      "Design is running, progress: 0.0%.\n",
      "Design is running, progress: 0.0%.\n",
      "Design is running, progress: 0.0%.\n",
      "Design is running, progress: 0.0%.\n",
      "Design is running, progress: 0.0%.\n",
      "Design is running, progress: 0.0%.\n",
      "Design is running, progress: 0.0%.\n",
      "Design is running, progress: 0.0%.\n",
      "Design is running, progress: 0.0%.\n",
      "Design is running, progress: 0.0%.\n",
      "Design is running, progress: 0.0%.\n",
      "Design is running, progress: 0.0%.\n",
      "Design is running, progress: 0.0%.\n",
      "Design is running, progress: 0.0%.\n",
      "Design is running, progress: 0.0%.\n",
      "Design is running, progress: 0.0%.\n",
      "Design is running, progress: 0.0%.\n",
      "Design is running, progress: 0.0%.\n",
      "Design is running, progress: 0.0%.\n",
      "Design is running, progress: 0.0%.\n",
      "Design is running, progress: 0.0%.\n",
      "Design is running, progress: 0.0%.\n"
     ]
    },
    {
     "ename": "KeyboardInterrupt",
     "evalue": "",
     "output_type": "error",
     "traceback": [
      "\u001b[0;31m---------------------------------------------------------------------------\u001b[0m",
      "\u001b[0;31mKeyboardInterrupt\u001b[0m                         Traceback (most recent call last)",
      "\u001b[0;32m<ipython-input-40-d3982268f05e>\u001b[0m in \u001b[0;36m<module>\u001b[0;34m\u001b[0m\n\u001b[1;32m      6\u001b[0m     \u001b[0mprint\u001b[0m\u001b[0;34m(\u001b[0m\u001b[0;34m'Design is running, progress: {0:.1f}%.'\u001b[0m\u001b[0;34m.\u001b[0m\u001b[0mformat\u001b[0m\u001b[0;34m(\u001b[0m\u001b[0mprocess_status\u001b[0m\u001b[0;34m.\u001b[0m\u001b[0mprogress\u001b[0m\u001b[0;34m)\u001b[0m\u001b[0;34m)\u001b[0m\u001b[0;34m\u001b[0m\u001b[0;34m\u001b[0m\u001b[0m\n\u001b[1;32m      7\u001b[0m     \u001b[0;32mif\u001b[0m \u001b[0;34m(\u001b[0m\u001b[0mdesign_status\u001b[0m \u001b[0;34m!=\u001b[0m \u001b[0;34m'Finished'\u001b[0m\u001b[0;34m)\u001b[0m\u001b[0;34m:\u001b[0m\u001b[0;34m\u001b[0m\u001b[0;34m\u001b[0m\u001b[0m\n\u001b[0;32m----> 8\u001b[0;31m         \u001b[0mtime\u001b[0m\u001b[0;34m.\u001b[0m\u001b[0msleep\u001b[0m\u001b[0;34m(\u001b[0m\u001b[0;36m30\u001b[0m\u001b[0;34m)\u001b[0m\u001b[0;34m\u001b[0m\u001b[0;34m\u001b[0m\u001b[0m\n\u001b[0m\u001b[1;32m      9\u001b[0m     \u001b[0;32melse\u001b[0m\u001b[0;34m:\u001b[0m\u001b[0;34m\u001b[0m\u001b[0;34m\u001b[0m\u001b[0m\n\u001b[1;32m     10\u001b[0m         \u001b[0mprint\u001b[0m\u001b[0;34m(\u001b[0m\u001b[0;34m'Design complete!'\u001b[0m\u001b[0;34m)\u001b[0m\u001b[0;34m\u001b[0m\u001b[0;34m\u001b[0m\u001b[0m\n",
      "\u001b[0;31mKeyboardInterrupt\u001b[0m: "
     ]
    }
   ],
   "source": [
    "# Check status of design in a loop\n",
    "design_running = True\n",
    "while (design_running):\n",
    "    process_status = models_client.get_design_run_status(view_id, design_id)\n",
    "    design_status = process_status.status\n",
    "    print('Design is running, progress: {0:.1f}%.'.format(process_status.progress))\n",
    "    if (design_status != 'Finished'):\n",
    "        time.sleep(30)\n",
    "    else:\n",
    "        print('Design complete!')\n",
    "        design_running = False\n",
    "        \n",
    "# models_client.kill_design_run(view_id, design_id)"
   ]
  },
  {
   "cell_type": "markdown",
   "metadata": {},
   "source": [
    "### Design results\n",
    "With the view ID and design run UUID, we can call `get_design_run_results()` to return a `DesignResults` object with the following properties:\n",
    "* `best_materials`: An array of candidate dictionaries with maximum expected improvement (MEI) for the target property. These materials are likely to perform the best based on the current model's predictions.\n",
    "* `next_experiments`: An array of candidate dictionaries with maximum likelihood of improvement (MLI) for the target property. Data from experiments with these materials will be most useful in improving the quality of the model.\n",
    "\n",
    "For more context, see the [paper by Ling et al. 2017](https://link.springer.com/article/10.1007/s40192-017-0098-z)."
   ]
  },
  {
   "cell_type": "code",
   "execution_count": null,
   "metadata": {},
   "outputs": [],
   "source": [
    "design_results = models_client.get_design_run_results(view_id, design_id)\n",
    "best_material = design_results.best_materials[0]\n",
    "print('The best material is {0} with a predicted target value of {1}.'.format(best_material['descriptor_values']['formula'], best_material['descriptor_values'][target_prop]))"
   ]
  },
  {
   "cell_type": "markdown",
   "metadata": {},
   "source": [
    "## Conclusion\n",
    "To recap, this notebook demonstrated the functionalities enabled by the `ModelsClient`, which means you can use the API to:\n",
    "* Interface with an existing data view that already has ML configured.\n",
    "* Query t-SNE and Predict endpoints for data visualization and making predictions on new materials.\n",
    "* Submit design runs and generate optimized material candidates."
   ]
  },
  {
   "cell_type": "markdown",
   "metadata": {},
   "source": [
    "## Additional resources\n",
    "It's now possible to conduct the major aspects of the Citrination workflow through the API, which should increase the speed and flexibility of informatics approaches. Some other topics that might interest you include:\n",
    "* [Sequential learning tutorial](4_sequential_learning_api_tutorial.ipynb) - This tutorial uses toy data to demonstrate an end-to-end [sequential learning pipeline](https://citrine.io/platform/sequential-learning/) using the Citrination API.\n",
    "* [DataClient](http://citrineinformatics.github.io/python-citrination-client/tutorial/data_examples.html) - This allows you to create datasets and upload PIF data (only) using the API.\n",
    "  * There is also a corresponding [tutorial](1_data_client_api_tutorial.ipynb).\n",
    "* [DataViewsClient](https://github.com/CitrineInformatics/python-citrination-client/tree/develop/citrination_client/views) - This allows you to build views (i.e. train ML models) using the API.\n",
    "  * There is also a corresponding [tutorial](2_data_views_api_tutorial.ipynb)."
   ]
  }
 ],
 "metadata": {
  "kernelspec": {
   "display_name": "Python 3",
   "language": "python",
   "name": "python3"
  },
  "language_info": {
   "codemirror_mode": {
    "name": "ipython",
    "version": 3
   },
   "file_extension": ".py",
   "mimetype": "text/x-python",
   "name": "python",
   "nbconvert_exporter": "python",
   "pygments_lexer": "ipython3",
   "version": "3.7.3"
  }
 },
 "nbformat": 4,
 "nbformat_minor": 2
}
