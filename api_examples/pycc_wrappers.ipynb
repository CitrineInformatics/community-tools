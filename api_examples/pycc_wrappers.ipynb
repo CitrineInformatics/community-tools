{
 "cells": [
  {
   "cell_type": "markdown",
   "metadata": {},
   "source": [
    "# Python Citrination Client (PyCC) Wrapper Functions\n",
    "\n",
    "*Authors: Chris Borg*\n",
    "\n",
    "In this notebook, we will write a simple helper function that helps extract datasets from the Citrination API."
   ]
  },
  {
   "cell_type": "markdown",
   "metadata": {},
   "source": [
    "## Learning outcomes\n",
    "By the end of this tutorial, you will learn:\n",
    "* How to construct a query for the PyCC"
   ]
  },
  {
   "cell_type": "markdown",
   "metadata": {},
   "source": [
    "## Background knowledge\n",
    "This should be a pretty basic example, though you should know how to [obtain and set your API key](http://citrineinformatics.github.io/python-citrination-client/tutorial/initialization.html)."
   ]
  },
  {
   "cell_type": "markdown",
   "metadata": {},
   "source": [
    "## Imports"
   ]
  },
  {
   "cell_type": "code",
   "execution_count": 1,
   "metadata": {},
   "outputs": [],
   "source": [
    "# Standard packages\n",
    "from os import environ\n",
    "\n",
    "# Third-party packages\n",
    "from citrination_client import *"
   ]
  },
  {
   "cell_type": "code",
   "execution_count": 2,
   "metadata": {},
   "outputs": [],
   "source": [
    "# Initialize the client\n",
    "client = CitrinationClient(api_key=environ[\"CITRINATION_API_KEY\"], site=\"https://citrination.com\")"
   ]
  },
  {
   "cell_type": "markdown",
   "metadata": {},
   "source": [
    "### `get_datasets_by_owner`\n",
    "This wrapper function takes in a Citrination Client and author name and returns up to 1000 datasets created by that author."
   ]
  },
  {
   "cell_type": "code",
   "execution_count": 3,
   "metadata": {},
   "outputs": [],
   "source": [
    "def get_datasets_by_owner(client, owner_name):\n",
    "    owner_query = FieldQuery(filter=Filter(equal=owner_name))\n",
    "    dataset_query = DatasetQuery(owner=owner_query)\n",
    "    query = DataQuery(dataset=dataset_query)\n",
    "    datasets = client.search.dataset_search(DatasetReturningQuery(query=query, size=1000))\n",
    "    return datasets"
   ]
  },
  {
   "cell_type": "code",
   "execution_count": 4,
   "metadata": {},
   "outputs": [
    {
     "name": "stdout",
     "output_type": "stream",
     "text": [
      "Chris Borg has 77 datasets.\n"
     ]
    }
   ],
   "source": [
    "owner = 'Chris Borg'\n",
    "print('{} has {} datasets.'.format(owner, len(get_datasets_by_owner(client, owner).hits)))"
   ]
  },
  {
   "cell_type": "markdown",
   "metadata": {},
   "source": [
    "## Conclusion\n",
    "This basic example walked through how queries can be created for Citrination. The query language is very flexible, so it is advisable to break down each construct as we did above in building the full query."
   ]
  }
 ],
 "metadata": {
  "kernelspec": {
   "display_name": "Python 3",
   "language": "python",
   "name": "python3"
  },
  "language_info": {
   "codemirror_mode": {
    "name": "ipython",
    "version": 3
   },
   "file_extension": ".py",
   "mimetype": "text/x-python",
   "name": "python",
   "nbconvert_exporter": "python",
   "pygments_lexer": "ipython3",
   "version": "3.7.2"
  }
 },
 "nbformat": 4,
 "nbformat_minor": 2
}
