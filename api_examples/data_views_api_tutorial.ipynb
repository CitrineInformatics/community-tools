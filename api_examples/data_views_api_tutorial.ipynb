{
 "cells": [
  {
   "cell_type": "markdown",
   "metadata": {},
   "source": [
    "# PyCC Data Views API Tutorial\n",
    "\n",
    "*Authors: Enze Chen, Eric Lundberg*\n",
    "\n",
    "In this notebook, we will cover how to *create* a data view using the [Citrination API](http://citrineinformatics.github.io/python-citrination-client/). Data views provide the configuration necessary in order to perform machine learning and identify relationships in your data. Previously, data views could only be created using the online user interface, but now they can be created using Python and API calls as well. We will demonstrate this functionality using the [Band gaps from Strehlow and Cook](https://citrination.com/datasets/1160/show_search?searchMatchOption=fuzzyMatch) dataset, where we will create a view mapping: \n",
    "\n",
    "$$\\text{Chemical formula (inorganic) + Crystallinity (categorical)} \\longrightarrow \\text{Band gap (real)}$$"
   ]
  },
  {
   "cell_type": "markdown",
   "metadata": {},
   "source": [
    "## Learning objectives\n",
    "By the end of this tutorial, you will know how to:\n",
    "* Create DataViewBuilder objects\n",
    "* Create new data views from existing data using the DataViewsClient\n",
    "* Perform operations on views using the DataViewsClient"
   ]
  },
  {
   "cell_type": "markdown",
   "metadata": {},
   "source": [
    "## Background knowledge\n",
    "In order to get the most out of this tutorial, you should already be familiar with the following:\n",
    "* Create and access datasets through the API ([documentation](http://citrineinformatics.github.io/python-citrination-client/tutorial/data_examples.html) and [tutorial](https://github.com/CitrineInformatics/community-tools/blob/master/api_examples/data_client_api_tutorial.ipynb))\n",
    "* What the data views [front-end UI](https://citrination.com/data_views) looks like"
   ]
  },
  {
   "cell_type": "markdown",
   "metadata": {},
   "source": [
    "## Imports"
   ]
  },
  {
   "cell_type": "code",
   "execution_count": null,
   "metadata": {},
   "outputs": [],
   "source": [
    "# Standard packages\n",
    "import json\n",
    "import os\n",
    "import time\n",
    "import uuid # generating random IDs\n",
    "\n",
    "# Third-party packages\n",
    "from citrination_client import *\n",
    "from citrination_client.views.data_view_builder import DataViewBuilder"
   ]
  },
  {
   "cell_type": "markdown",
   "metadata": {},
   "source": [
    "## Data view builder\n",
    "This class handles the configuration for data views and returns a **configuration** object that is an input for the data views client. The configuration specifies the datasets, model, and descriptors. Some of the important parameters to note are:\n",
    "* **dataset_ids**: An array of strings, one for each dataset ID that should be included in the view.\n",
    "* **model_type**: A string of either `linear`, which use linear regression, or `default`, which uses a random forest.\n",
    "* **descriptors**: A descriptor instance, which could be `{RealDescriptor, InorganicDescriptor, OrganicDescriptor, CategoricalDescriptor, or AlloyCompositionDescriptor}`.\n",
    "    * Note: Chemical formulas for the API take the key `formula`.\n",
    "* **roles**: A role for each descriptor, as a string, which could be `{input, output, latentVariable, ignored}`.\n",
    "* **group_by**: A Boolean for whether or not to group by a descriptor during CV (`default = False`)."
   ]
  },
  {
   "cell_type": "code",
   "execution_count": null,
   "metadata": {},
   "outputs": [],
   "source": [
    "# Create ML configuration\n",
    "dv_builder = DataViewBuilder()\n",
    "dv_builder.dataset_ids(['1160']) # ID number for band gaps dataset\n",
    "dv_builder.model_type('default') # random forest\n",
    "\n",
    "# Define descriptors\n",
    "crystallinity = ['Single crystalline', 'Polycrystalline', 'Amorphous'] # Obtained from dataset\n",
    "desc_crystal = CategoricalDescriptor(key='Property Crystallinity', categories=crystallinity)\n",
    "dv_builder.add_descriptor(descriptor=desc_crystal, role='input')\n",
    "\n",
    "desc_formula = InorganicDescriptor(key='formula', threshold=1) # threshold <= 1; hidden in future releases\n",
    "dv_builder.add_descriptor(descriptor=desc_formula, role='input')\n",
    "\n",
    "desc_bandgap = RealDescriptor(key='Property Band gap', lower_bound=0.0, units='eV')\n",
    "dv_builder.add_descriptor(descriptor=desc_bandgap, role='output')\n",
    "\n",
    "# Build the configuration once all the pieces are in place\n",
    "dv_config = dv_builder.build()"
   ]
  },
  {
   "cell_type": "markdown",
   "metadata": {},
   "source": [
    "## Data view client\n",
    "After obtaining your customized configuration, you have to initialize a data views client instance in order to create a data view from the configuration you built. The `create()` method returns the ID for the data view, which you will need for subsequent analysis and retraining."
   ]
  },
  {
   "cell_type": "code",
   "execution_count": null,
   "metadata": {},
   "outputs": [],
   "source": [
    "# Instantiate the base CitrinationClient\n",
    "client = CitrinationClient(os.environ['CITRINATION_API_KEY'], 'https://citrination.com')\n",
    "\n",
    "# Instantiate the DataViewsClient\n",
    "dv_client = client.data_views\n",
    "\n",
    "# Create a data view using the above configuration and store the ID\n",
    "view_name = 'PyCC View ' + str(uuid.uuid4()) # random name to avoid clashes\n",
    "view_desc = 'This view was created by the PyCC API tutorial.'\n",
    "dv_id = dv_client.create(configuration=dv_config, name=view_name, description=view_desc)"
   ]
  },
  {
   "cell_type": "markdown",
   "metadata": {},
   "source": [
    "## Data view properties and analysis\n",
    "Now that the view is on your Citrination site, you can use the ID to do a variety of analyses. For example, you can obtain the metadata in JSON format for easy extraction."
   ]
  },
  {
   "cell_type": "code",
   "execution_count": null,
   "metadata": {},
   "outputs": [],
   "source": [
    "view_metadata = dv_client.get(dv_id)\n",
    "print('Name of view: {}'.format(view_metadata['name']))\n",
    "print('Column names: {}'.format(view_metadata['selected_columns']))\n",
    "print('Descriptor roles: {}'.format(view_metadata['configuration']['roles']))"
   ]
  },
  {
   "cell_type": "markdown",
   "metadata": {},
   "source": [
    "### Check status of services\n",
    "If there's a lot of data, training might take some time, and you might want to check when `predict` services are ready. Other possible services include `experimental_design`, `data_reports`, and `model_reports`."
   ]
  },
  {
   "cell_type": "code",
   "execution_count": null,
   "metadata": {},
   "outputs": [],
   "source": [
    "print(dv_client.get_data_view_service_status(dv_id).predict.reason)"
   ]
  },
  {
   "cell_type": "markdown",
   "metadata": {},
   "source": [
    "### Retraining a view\n",
    "Once you've updated an included dataset by uploading more data (from the literature, sequential learning, etc.), you can easily retrain your models."
   ]
  },
  {
   "cell_type": "code",
   "execution_count": null,
   "metadata": {},
   "outputs": [],
   "source": [
    "dv_client.retrain(dv_id)"
   ]
  },
  {
   "cell_type": "markdown",
   "metadata": {},
   "source": [
    "### Submitting a prediction request\n",
    "This can be done using the function `submit_predict_request()`, which returns an ID for the prediction request."
   ]
  },
  {
   "cell_type": "code",
   "execution_count": null,
   "metadata": {},
   "outputs": [],
   "source": [
    "candidate_formula = 'GaN'\n",
    "candidates = [{'formula':candidate_formula, 'Property Crystallinity':'Single crystalline'}]\n",
    "predict_id = dv_client.submit_predict_request(dv_id, candidates, prediction_source='scalar', use_prior=False)\n",
    "\n",
    "# Use a loop to monitor status\n",
    "while True:\n",
    "    predict_status = dv_client.check_predict_status(dv_id, predict_id)\n",
    "    print('Prediction job status for {}: {}'.format(predict_id, predict_status['status']))\n",
    "    if predict_status['status'] == 'Finished':\n",
    "        break\n",
    "    time.sleep(5)\n",
    "\n",
    "predict_results = predict_status['results']\n",
    "predict_value = predict_results['candidates'][0]['Property Band gap']\n",
    "predict_loss = predict_results['loss'][0]['Property Band gap']\n",
    "print('The predicted bandgap for {} is {} +/- {}'.format(candidate_formula, predict_value, predict_loss))"
   ]
  },
  {
   "cell_type": "markdown",
   "metadata": {},
   "source": [
    "### Deleting a view\n",
    "You can delete views very easily through the API, so handle with care!"
   ]
  },
  {
   "cell_type": "code",
   "execution_count": null,
   "metadata": {},
   "outputs": [],
   "source": [
    "# dv_client.delete(dv_id)"
   ]
  },
  {
   "cell_type": "markdown",
   "metadata": {},
   "source": [
    "## Conclusion\n",
    "To recap, this notebook went through the steps for creating a data view using the API.\n",
    "1. First, we used the DataViewBuilder object to specify the configuration.\n",
    "2. Then, we trained the model, which is simple as long as the configuration is correct.\n",
    "3. Lastly, we explored some of the post-processing capabilities, such as retraining and submitting predictions.\n",
    "\n",
    "## Additional resources\n",
    "It's now possible to conduct the major aspects of the Citrination workflow through the API, which should increase the speed and flexibility of informatics approaches. Some other topics that might interest you include:\n",
    "* More details regarding client functions in the [code base](https://github.com/CitrineInformatics/python-citrination-client/blob/develop/citrination_client/views/client.py).\n",
    "* [DataClient](http://citrineinformatics.github.io/python-citrination-client/tutorial/data_examples.html) - This allows you to create datasets and upload PIF data (only) using the API.\n",
    "  * There is also a corresponding [tutorial](https://github.com/CitrineInformatics/community-tools/blob/master/api_examples/data_client_api_tutorial.ipynb).\n",
    "* [SearchClient](http://citrineinformatics.github.io/python-citrination-client/tutorial/search_examples.html) - This gives you a flexible and fast way to access PIF data on Citrination.\n",
    "  * In particular, take a look at our [Intro](https://github.com/CitrineInformatics/learn-citrination/blob/master/IntroQueries.ipynb) and [Advanced](https://github.com/CitrineInformatics/learn-citrination/blob/master/AdvancedQueries.ipynb) tutorials for how to construct queries.\n",
    "* Other examples on [learn-citrination](https://github.com/CitrineInformatics/learn-citrination)."
   ]
  }
 ],
 "metadata": {
  "kernelspec": {
   "display_name": "Python 3",
   "language": "python",
   "name": "python3"
  },
  "language_info": {
   "codemirror_mode": {
    "name": "ipython",
    "version": 3
   },
   "file_extension": ".py",
   "mimetype": "text/x-python",
   "name": "python",
   "nbconvert_exporter": "python",
   "pygments_lexer": "ipython3",
   "version": "3.7.2"
  }
 },
 "nbformat": 4,
 "nbformat_minor": 2
}
