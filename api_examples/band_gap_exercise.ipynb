{
 "cells": [
  {
   "cell_type": "markdown",
   "metadata": {},
   "source": [
    "# Band Gap Exercise\n",
    "\n",
    "*Authors: Community*\n",
    "\n",
    "In this notebook, we will look at the correlation between predicted band gap and predicted color for a stacked model and an unstacked model. We will do so by making predictions for a number of materials candidates from the OQMD dataset."
   ]
  },
  {
   "cell_type": "markdown",
   "metadata": {},
   "source": [
    "## Background knowledge\n",
    "None."
   ]
  },
  {
   "cell_type": "markdown",
   "metadata": {},
   "source": [
    "## Learning outcomes\n",
    "By the end of this tutorial, you will learn:\n",
    "* How to get data from Citrination through queries\n",
    "* How to make predictions using existing views\n",
    "* How to plot predictions using `matplotlib`"
   ]
  },
  {
   "cell_type": "markdown",
   "metadata": {
    "collapsed": true
   },
   "source": [
    "## Imports"
   ]
  },
  {
   "cell_type": "code",
   "execution_count": 2,
   "metadata": {},
   "outputs": [],
   "source": [
    "%matplotlib inline\n",
    "\n",
    "# Standard packages\n",
    "import os\n",
    "\n",
    "# Third-party packages\n",
    "from citrination_client import *\n",
    "from pypif.obj import *\n",
    "import numpy as np\n",
    "import matplotlib.pyplot as plt"
   ]
  },
  {
   "cell_type": "markdown",
   "metadata": {},
   "source": [
    "## Step 1: Set environment variable with API key\n",
    "You API key can be found by going to https://citrination.com, clicking on your name in the top right, and clicking on \"Account Settings.\" Treat this API key as confidential, since it allows access to your site.\n",
    "\n",
    "You can set an environment variable by typing in the command line: `export CITRINATION_API_KEY=__your_api_key__`\n",
    "\n",
    "Once that environment variable is set, you can create a new client with the following Python code:"
   ]
  },
  {
   "cell_type": "code",
   "execution_count": 2,
   "metadata": {
    "collapsed": true
   },
   "outputs": [],
   "source": [
    "client = CitrinationClient(os.environ[CITRINATION_API_KEY], 'https://citrination.com')"
   ]
  },
  {
   "cell_type": "markdown",
   "metadata": {},
   "source": [
    "## Step 2: Get test candidates from the OQMD dataset\n",
    "\n",
    "We want to get some materials candidates to make predictions on. We will take some from the OQMD dataset."
   ]
  },
  {
   "cell_type": "code",
   "execution_count": 3,
   "metadata": {},
   "outputs": [
    {
     "name": "stdout",
     "output_type": "stream",
     "text": [
      "Number of hits: 35952\n"
     ]
    }
   ],
   "source": [
    "# Specify data set ID\n",
    "dataset_id = 5\n",
    "\n",
    "# Build query \n",
    "search_result = client.pif_search(PifSystemReturningQuery(\n",
    "            size=200,\n",
    "            query=DataQuery(\n",
    "                dataset=DatasetQuery(\n",
    "                    id=Filter(equal=dataset_id)\n",
    "                ),\n",
    "                system=PifSystemQuery(\n",
    "                    chemical_formula=ChemicalFieldQuery(\n",
    "                        extract_as=\"formula\")))))\n",
    "\n",
    "\n",
    "num_hits = search_result.total_num_hits\n",
    "print \"Number of hits:\", num_hits\n",
    "dataset = [d.extracted for d in search_result.hits]"
   ]
  },
  {
   "cell_type": "markdown",
   "metadata": {},
   "source": [
    "## Step 3: Make predictions using the stacked and unstacked models"
   ]
  },
  {
   "cell_type": "code",
   "execution_count": 5,
   "metadata": {
    "collapsed": true
   },
   "outputs": [],
   "source": [
    "# Unstacked\n",
    "view_id = \"5\"  # Change this ID to match the ID of the unstacked view you created\n",
    "response = client.predict(view_id, dataset)['candidates']\n",
    "bandgap_unstacked = np.asarray([r['Property Band gap'][0] for r in response])\n",
    "color_unstacked = np.asarray([r['Property Color'][0] for r in response])\n",
    "\n",
    "# Stacked\n",
    "view_id = \"6\"  # Change this ID to match the ID of the stacked view you created\n",
    "response = client.predict(view_id, dataset)['candidates']\n",
    "bandgap_stacked = np.asarray([r['Property Band gap'][0] for r in response])\n",
    "color_stacked = np.asarray([r['Property Color'][0] for r in response])"
   ]
  },
  {
   "cell_type": "markdown",
   "metadata": {},
   "source": [
    "## Step 4: Plot predictions"
   ]
  },
  {
   "cell_type": "code",
   "execution_count": 6,
   "metadata": {},
   "outputs": [
    {
     "name": "stderr",
     "output_type": "stream",
     "text": [
      "/Applications/anaconda2/lib/python2.7/site-packages/numpy/core/fromnumeric.py:2909: RuntimeWarning: Mean of empty slice.\n",
      "  out=out, **kwargs)\n",
      "/Applications/anaconda2/lib/python2.7/site-packages/numpy/core/_methods.py:80: RuntimeWarning: invalid value encountered in double_scalars\n",
      "  ret = ret.dtype.type(ret / rcount)\n"
     ]
    },
    {
     "data": {
      "text/plain": [
       "<matplotlib.legend.Legend at 0x1147058d0>"
      ]
     },
     "execution_count": 6,
     "metadata": {},
     "output_type": "execute_result"
    },
    {
     "data": {
      "image/png": "[encoded data removed]",
      "text/plain": [
       "<matplotlib.figure.Figure at 0x114737050>"
      ]
     },
     "metadata": {},
     "output_type": "display_data"
    },
    {
     "data": {
      "image/png": "[encoded data removed]",
      "text/plain": [
       "<matplotlib.figure.Figure at 0x1145deb10>"
      ]
     },
     "metadata": {},
     "output_type": "display_data"
    }
   ],
   "source": [
    "colors = [\"Red\", \"Brown\", \"Orange\", \"Yellow\", \"Black\", \"Gray\", \"White\"]\n",
    "num_colors = len(colors)\n",
    "mean_bandgap_stacked = np.zeros((num_colors))\n",
    "mean_bandgap_unstacked = np.zeros((num_colors))\n",
    "for i, color in enumerate(colors):\n",
    "    mean_bandgap_stacked[i] = np.mean(bandgap_stacked[color_stacked==color])\n",
    "    mean_bandgap_unstacked[i] = np.mean(bandgap_unstacked[color_unstacked==color])\n",
    "\n",
    "plt.figure()\n",
    "idx = np.arange(num_colors)\n",
    "width=0.3\n",
    "plt.bar(idx, mean_bandgap_unstacked, width=width, label='Unstacked')\n",
    "plt.bar(idx + width, mean_bandgap_stacked, width=width, label='Stacked')\n",
    "plt.xticks(idx + width / 2, colors)\n",
    "plt.ylabel('Mean Band Gap by Color (eV)')\n",
    "plt.title('Mean Band Gap by Color')\n",
    "plt.legend()\n",
    "\n",
    "plt.figure()\n",
    "plt.hist(bandgap_unstacked[color_unstacked==\"White\"], 50)\n",
    "plt.hist(bandgap_stacked[color_stacked==\"White\"], 50, alpha=.75)\n",
    "plt.xlabel('Band Gap (eV)')\n",
    "plt.ylabel('Count')\n",
    "plt.title('Histogram of Band Gap for White Color')\n",
    "plt.legend(['Unstacked', 'Stacked'])"
   ]
  },
  {
   "cell_type": "markdown",
   "metadata": {},
   "source": [
    "## Conclusion\n",
    "To recap, this notebook went through how to initialize the Python Citrination Client and write a query to obtain data from Citrination. Using this data, we then made predictions with (pre-built) stacked and unstacked models and compared their performance in plots. "
   ]
  }
 ],
 "metadata": {
  "kernelspec": {
   "display_name": "Python 3",
   "language": "python",
   "name": "python3"
  },
  "language_info": {
   "codemirror_mode": {
    "name": "ipython",
    "version": 3
   },
   "file_extension": ".py",
   "mimetype": "text/x-python",
   "name": "python",
   "nbconvert_exporter": "python",
   "pygments_lexer": "ipython3",
   "version": "3.7.2"
  }
 },
 "nbformat": 4,
 "nbformat_minor": 2
}
