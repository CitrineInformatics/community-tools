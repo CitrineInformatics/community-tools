{
 "cells": [
  {
   "cell_type": "markdown",
   "metadata": {},
   "source": [
    "<img src=\"https://github.com/CitrineInformatics/community-tools/blob/master/templates/fig/citrine_banner_2.png?raw=true\">"
   ]
  },
  {
   "cell_type": "markdown",
   "metadata": {},
   "source": [
    "# Citrine Software Test Notebook\n",
    "*Authors: Lenore Kubie, Enze Chen*\n",
    "\n",
    "## Introduction\n",
    "\n",
    "The purpose of this Jupyter notebook is to ensure you have everything set up in order to participate in the Citrine Informatics training sessions. Please make sure to read through the accompanying PowerPoint slides first.\n",
    "\n",
    "If you're ready to proceed, read through this file and run the code blocks associated with the tests. Click on this cell, and then press `Shift + Return` to execute consecutive cells. This is how we will run the tests."
   ]
  },
  {
   "cell_type": "markdown",
   "metadata": {},
   "source": [
    "## Test 1: Opening this file\n",
    "\n",
    "If you've opened this file you've completed the first step: Making sure you can open Jupyter notebooks. This means Python and `jupyter` installed correctly."
   ]
  },
  {
   "cell_type": "markdown",
   "metadata": {},
   "source": [
    "## Test 2: Checking the necessary Python packages are installed\n",
    "Now let's check to make sure all the other Python packages are correct installed by attempting to import them. Some packages will need their latest version, so be sure to update the packages with `pip install -U package-name` or `conda update package-name`.\n",
    "\n",
    "Please run these cells one after the other."
   ]
  },
  {
   "cell_type": "code",
   "execution_count": 1,
   "metadata": {},
   "outputs": [
    {
     "name": "stdout",
     "output_type": "stream",
     "text": [
      "Standard packages imported successfully. Looks like Python is working properly.\n"
     ]
    }
   ],
   "source": [
    "# Standard packages bundled with Python\n",
    "try:\n",
    "    import os\n",
    "    import time\n",
    "    import uuid\n",
    "    print('Standard packages imported successfully. Looks like Python is working properly.')\n",
    "except ImportError:\n",
    "    print('It looks like Python is not installed properly.\\nPlease double check your procedure and/or system settings.')"
   ]
  },
  {
   "cell_type": "code",
   "execution_count": 2,
   "metadata": {},
   "outputs": [
    {
     "name": "stdout",
     "output_type": "stream",
     "text": [
      "Scientific computing/visualization packages imported successfully.\n"
     ]
    }
   ],
   "source": [
    "# Third-party packages\n",
    "try:\n",
    "    import numpy as np\n",
    "    import scipy as sp\n",
    "    import pandas as pd\n",
    "    import matplotlib.pyplot as plt\n",
    "    print('Scientific computing/visualization packages imported successfully.')\n",
    "except ImportError:\n",
    "    print(\"It looks like you need to install one or more scientific computing/visualization packages.\\nPlease double check your procedure.\")"
   ]
  },
  {
   "cell_type": "code",
   "execution_count": 3,
   "metadata": {},
   "outputs": [
    {
     "name": "stdout",
     "output_type": "stream",
     "text": [
      "Citrine packages imported successfully.\n"
     ]
    }
   ],
   "source": [
    "# Citrine packages\n",
    "try:\n",
    "    from citrination_client import *\n",
    "    from pypif import *\n",
    "    print('Citrine packages imported successfully.')\n",
    "except ImportError:\n",
    "    print(\"It looks like you need to install one or more of the Citrine packages.\\nPlease double check your procedure.\")"
   ]
  },
  {
   "cell_type": "markdown",
   "metadata": {},
   "source": [
    "## Test 3: Checking your API key is stored correctly\n",
    "Finally, we will check to make sure that your Citrination API Key is correctly stored in your system's environment variables.\n",
    "* Mac OS: See the \"Initialization\" section in [this notebook](https://github.com/CitrineInformatics/community-tools/blob/master/api_examples/1_data_client_api_tutorial.ipynb).\n",
    "* Windows: See [this page](https://www.opentechguides.com/how-to/article/windows-10/113/windows-10-set-path.html) for instructions on setting environment variables."
   ]
  },
  {
   "cell_type": "code",
   "execution_count": 5,
   "metadata": {},
   "outputs": [
    {
     "name": "stdout",
     "output_type": "stream",
     "text": [
      "CITRINATION_API_KEY is a proper environment variable.\n"
     ]
    }
   ],
   "source": [
    "env_key_name = \"CITRINATION_API_KEY\" # change it if you gave the environment variable a different name\n",
    "try:\n",
    "    api_key = os.environ.get(env_key_name)\n",
    "    assert api_key is not None, 'The key name you specified does not exist!'\n",
    "    assert len(api_key) == 24, 'The API key is incorrect. Please confirm the key and make sure leading/trailing spaces are removed.'\n",
    "    print('{} is a proper environment variable.'.format(env_key_name))\n",
    "    #print('It corresponds to the following API key: {}'.format(api_key))\n",
    "except KeyError:\n",
    "    print(\"It looks like you do not have your API key set as an enviroment variable.\\nPlease double check your procedure.\")"
   ]
  },
  {
   "cell_type": "markdown",
   "metadata": {},
   "source": [
    "## Test 4: Initialize the CitrinationClient and upload data\n",
    "\n",
    "Finally, we will check to make sure that the API key actually gives you access to the Citrination API. We will attempt to create a dataset and upload some data, which will also ensure that the connection to AWS (for our secure data storage) is allowed on your network."
   ]
  },
  {
   "cell_type": "code",
   "execution_count": 7,
   "metadata": {},
   "outputs": [
    {
     "name": "stdout",
     "output_type": "stream",
     "text": [
      "You successfully created a dataset!\n",
      "You successfully uploaded data to your dataset!\n",
      "See it here: https://citrination.com/datasets/179092\n"
     ]
    }
   ],
   "source": [
    "# Initialize the CitrinationClient to Public\n",
    "site = 'https://citrination.com'\n",
    "client = CitrinationClient(api_key=api_key, site=site)\n",
    "\n",
    "# Create a dataset\n",
    "dataset_name = 'Citrine Software Test Dataset ' + str(uuid.uuid4())[:6]\n",
    "dataset = client.data.create_dataset(name=dataset_name, public=False)\n",
    "dataset_id = dataset.id\n",
    "assert dataset_id > 0, 'Error: Something went wrong creating your dataset.'\n",
    "print('You successfully created a dataset!')\n",
    "\n",
    "# Upload data to the dataset\n",
    "filepath = os.path.join('..', 'api_examples', 'test_pif.json')\n",
    "res = client.data.upload(dataset_id=dataset_id, source_path=filepath)\n",
    "assert res.successful(), 'Error: Something went wrong uploading data to your dataset.'\n",
    "print('You successfully uploaded data to your dataset!\\nSee it here: {}/datasets/{}'.format(site, dataset_id))"
   ]
  },
  {
   "cell_type": "markdown",
   "metadata": {},
   "source": [
    "## Conclusion\n",
    "If you were able to reach this point without errors, then it would appear that everything is working, and you *should* be able to proceed through the training without major issues. Thank you for taking the time to review these steps!"
   ]
  }
 ],
 "metadata": {
  "kernelspec": {
   "display_name": "Python 3",
   "language": "python",
   "name": "python3"
  },
  "language_info": {
   "codemirror_mode": {
    "name": "ipython",
    "version": 3
   },
   "file_extension": ".py",
   "mimetype": "text/x-python",
   "name": "python",
   "nbconvert_exporter": "python",
   "pygments_lexer": "ipython3",
   "version": "3.7.2"
  }
 },
 "nbformat": 4,
 "nbformat_minor": 2
}
