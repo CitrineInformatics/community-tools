{
 "cells": [
  {
   "cell_type": "markdown",
   "metadata": {},
   "source": [
    "<img src=\"https://github.com/CitrineInformatics/community-tools/blob/master/templates/fig/citrine_banner_2.png?raw=true\">"
   ]
  },
  {
   "cell_type": "markdown",
   "metadata": {},
   "source": [
    "# Citrine Software Test Notebook\n",
    "*Authors: Lenore Kubie, Enze Chen*\n",
    "\n",
    "## Introduction\n",
    "\n",
    "The purpose of this Jupyter notebook is to ensure you have everything set up in order to use Citrine's tools and the Citrination platform.\n",
    "\n",
    "If you're ready to proceed, read through this file and run the code blocks associated with the tests. Click on this cell, and then press `Shift + Return` to execute consecutive cells."
   ]
  },
  {
   "cell_type": "markdown",
   "metadata": {},
   "source": [
    "## Test 1: Opening this file\n",
    "\n",
    "If you've opened this file you've completed the first step: Making sure you can open Jupyter notebooks. This means Python and `jupyter` installed correctly."
   ]
  },
  {
   "cell_type": "markdown",
   "metadata": {},
   "source": [
    "## Test 2: Checking the necessary Python packages are installed\n",
    "Now let's check to make sure all the other Python packages are correct installed by attempting to import them. Some packages will need their latest version, so be sure to update the packages with `pip install -U package-name` or `conda update package-name`.\n",
    "\n",
    "Please run these cells one after the other."
   ]
  },
  {
   "cell_type": "code",
   "execution_count": null,
   "metadata": {},
   "outputs": [],
   "source": [
    "# Standard packages bundled with Python\n",
    "try:\n",
    "    import os\n",
    "    import time\n",
    "    import uuid\n",
    "    print('Standard packages imported successfully. Looks like Python is working properly.')\n",
    "except ImportError:\n",
    "    print('It looks like Python is not installed properly.\\nPlease double check your procedure and/or system settings.')"
   ]
  },
  {
   "cell_type": "code",
   "execution_count": null,
   "metadata": {},
   "outputs": [],
   "source": [
    "# Third-party packages\n",
    "try:\n",
    "    import IPython\n",
    "    import numpy as np\n",
    "    import scipy as sp\n",
    "    import pandas as pd\n",
    "    import matplotlib.pyplot as plt\n",
    "    import seaborn as sns\n",
    "    print('Scientific computing/visualization packages imported successfully.')\n",
    "except ImportError:\n",
    "    print(\"It looks like you need to install one or more scientific computing/visualization packages.\\nPlease double check your procedure.\")"
   ]
  },
  {
   "cell_type": "code",
   "execution_count": null,
   "metadata": {},
   "outputs": [],
   "source": [
    "# Citrine packages\n",
    "try:\n",
    "    from citrination_client import *\n",
    "    from pypif import *\n",
    "    print('Citrine packages imported successfully.')\n",
    "except ImportError:\n",
    "    print(\"It looks like you need to install one or more of the Citrine packages.\\nPlease double check your procedure.\")"
   ]
  },
  {
   "cell_type": "markdown",
   "metadata": {},
   "source": [
    "## Test 3: Checking your API key is set correctly\n",
    "Finally, we will check to make sure that your Citrination API Key is correctly stored in your system's environment variables.\n",
    "* Mac OS: See the \"Initialization\" section in [this notebook](https://github.com/CitrineInformatics/community-tools/blob/master/api_examples/1_data_client_api_tutorial.ipynb).\n",
    "* Windows: See [this page](https://www.opentechguides.com/how-to/article/windows-10/113/windows-10-set-path.html) for instructions on setting environment variables."
   ]
  },
  {
   "cell_type": "code",
   "execution_count": null,
   "metadata": {},
   "outputs": [],
   "source": [
    "key_name = \"CITRINATION_API_KEY\" # change it if you gave the environment variable a different name\n",
    "try:\n",
    "    key = os.environ.get(key_name)\n",
    "    assert key is not None\n",
    "    print('{} is a proper environment variable.'.format(key_name))\n",
    "    #print('It corresponds to the following API key: {}'.format(key))\n",
    "except KeyError:\n",
    "    print(\"It looks like you do not have your API key set as an enviroment variable.\\nPlease double check your procedure.\")"
   ]
  }
 ],
 "metadata": {
  "kernelspec": {
   "display_name": "Python 3",
   "language": "python",
   "name": "python3"
  },
  "language_info": {
   "codemirror_mode": {
    "name": "ipython",
    "version": 3
   },
   "file_extension": ".py",
   "mimetype": "text/x-python",
   "name": "python",
   "nbconvert_exporter": "python",
   "pygments_lexer": "ipython3",
   "version": "3.7.2"
  }
 },
 "nbformat": 4,
 "nbformat_minor": 2
}
