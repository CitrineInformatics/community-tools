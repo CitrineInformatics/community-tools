{
 "cells": [
  {
   "cell_type": "markdown",
   "metadata": {},
   "source": [
    "![Banner logo](https://raw.githubusercontent.com/CitrineInformatics/community-tools/master/templates/fig/citrine_banner_2.png \"Banner logo\")"
   ]
  },
  {
   "cell_type": "markdown",
   "metadata": {},
   "source": [
    "# Citrine Community Jupyter Notebook Template\n",
    "\n",
    "*Authors: Enze Chen*\n",
    "\n",
    "In this notebook, we will cover a basic template for how Jupyter notebooks created by Community are structured. Style isn't a *huge* deal at Citrine, but it helps standardize our outputs and maintains professionality.\n",
    "\n",
    "*Each section* of this notebook is structured as:\n",
    "* Example cell (you can mirror your work after this).\n",
    "* Instructions cell (read this but you wouldn't include these explanations in your work).\n",
    "\n",
    "Everything in each section above (**INSTRUCTIONS**) should appear in some form in your own notebooks. A quick disclaimer that these are my personal views and not representative of the entire Citrine Team."
   ]
  },
  {
   "cell_type": "markdown",
   "metadata": {},
   "source": [
    "(**INSTRUCTIONS**)\n",
    "At the top, we should include:\n",
    "* A title, in [Title Case](https://titlecaseconverter.com/), using the largest Markdown heading (single #).\n",
    "* Authorship, in italics (enclosed with single asterisks \\*), on a new line.\n",
    "* An introduction that starts with \"In this notebook, ...\" (or similar) that explains the purpose of this notebook.\n",
    "* Any background information or assumed knowledge for this tutorial.\n",
    "\n",
    "Feel free to structure the rest of this section however you see fit. $\\LaTeX$ can even be included with $ signs. Whatever you write, just make sure it has proper grammar and follows proper Markdown syntax ([here's a cheat sheet](https://github.com/adam-p/markdown-here/wiki/Markdown-Cheatsheet))."
   ]
  },
  {
   "cell_type": "markdown",
   "metadata": {},
   "source": [
    "## Background knowledge\n",
    "This tutorial is more of a reference for styling and will make references to outside material where appropriate. That being said, to get the most out of this tutorial, it is expected you're at least familiar with the basics of\n",
    "* Jupyter (we're not teaching how to [create a notebook](https://www.dataquest.io/blog/jupyter-notebook-tutorial/) or what it is).\n",
    "* Markdown ([cheat sheet](https://github.com/adam-p/markdown-here/wiki/Markdown-Cheatsheet)).\n",
    "* Python 3 (particularly style, such as [PEP 8](https://www.python.org/dev/peps/pep-0008/) or [Google](http://google.github.io/styleguide/pyguide.html))."
   ]
  },
  {
   "cell_type": "markdown",
   "metadata": {},
   "source": [
    "(**INSTRUCTIONS**) If you assume your audience is coming in with prerequisite knowledge, you should be explicit about it in this section. This is an opportunity to provide some background/introductory information (if you're working in a specific domain) and define terminology. Links are your friend in this section.\n",
    "\n",
    "You can write section headings in \"Title Case\" or \"Sentence case;\" just be consistent."
   ]
  },
  {
   "cell_type": "markdown",
   "metadata": {},
   "source": [
    "## Learning outcomes\n",
    "By the end of this tutorial, you will learn:\n",
    "* How to structure training material with educational best practices in mind.\n",
    "* Style pointers for Jupyter notebooks to improve readability and promote learning."
   ]
  },
  {
   "cell_type": "markdown",
   "metadata": {},
   "source": [
    "(**INSTRUCTIONS**) This section should explain key takeaways and what you want the reader to be able to do after reading your tutorial. A bulleted list is probably the cleanest format. You should decide on learning outcomes *before* designing the content to help you figure out what you want to say. Of course, after the content has been designed, you should come back to these outcomes and modify them if need be.\n",
    "\n",
    "If this list has more than 3 items, then you should *strongly consider* splitting up your notebook into 2+ tutorials. This appeals to the concept of [chunking](https://www.forbes.com/sites/quora/2017/11/08/what-makes-chunking-such-an-effective-way-to-learn/#4401b3b660a9)."
   ]
  },
  {
   "cell_type": "markdown",
   "metadata": {},
   "source": [
    "## Table of contents\n",
    "This notebook is organized as follows.\n",
    "1. [Imports](#Python-package-imports)\n",
    "1. [Content](#Content-body)\n",
    "1. [Conclusion](#Conclusion)"
   ]
  },
  {
   "cell_type": "markdown",
   "metadata": {},
   "source": [
    "(**INSTRUCTIONS**) This is an optional section. Internal links to headers can be created with `[ToC Name](#Header-name-fill-spaces-with-hyphens)`. If you include a ToC, then it's helpful to then link each header below back to the ToC with `[Back to ToC](#Table-of-contents)`."
   ]
  },
  {
   "cell_type": "markdown",
   "metadata": {},
   "source": [
    "## Python package imports\n",
    "\n",
    "[Back to ToC](#Table-of-contents)\n",
    "\n",
    "We will import any Python packages that we will need up front to avoid errors later. No context needed for these packages."
   ]
  },
  {
   "cell_type": "code",
   "execution_count": null,
   "metadata": {},
   "outputs": [],
   "source": [
    "# Standard packages\n",
    "import os\n",
    "from time import sleep\n",
    "\n",
    "# Citrine packages\n",
    "from citrination_client import *\n",
    "from pypif import pif\n",
    "\n",
    "# Third-party packages\n",
    "import numpy as np\n",
    "import matplotlib.pyplot as plt\n",
    "\n",
    "# IPython magic commands\n",
    "%matplotlib inline\n",
    "%load_ext autoreload\n",
    "%autoreload 2"
   ]
  },
  {
   "cell_type": "markdown",
   "metadata": {},
   "source": [
    "(**INSTRUCTIONS**) You should have an explicit header before the required package imports if you're writing code. In the code block, separate standard Python packages from third-party packages and Citrine packages. If there is a package that is not commonly used, or you're using it for a niche application, the space under the heading is a good place to add some context.\n",
    "\n",
    "If there's *only one* function `Y` you need from package `X`, then `from X import Y` might be better than `import X`; but it's up to you. Standard abbreviations (`np` for `numpy`) should be used. Take advantage of the various [magic commands](https://towardsdatascience.com/the-top-5-magic-commands-for-jupyter-notebooks-2bf0c5ae4bb8)."
   ]
  },
  {
   "cell_type": "markdown",
   "metadata": {},
   "source": [
    "## Content body\n",
    "\n",
    "[Back to ToC](#Table-of-contents)\n",
    "\n",
    "Time for the meat of your message. There will be some content and style variation here based on the lesson and the presenter, and that's OK. Each author should be confident in expressing their individual style. The pointers that I think will be generally helpful are listed below."
   ]
  },
  {
   "cell_type": "markdown",
   "metadata": {},
   "source": [
    "### Headings \n",
    "Be sensible with headings in terms of sizing. Don't nest a larger heading under a smaller one, and don't skip a size (e.g. don't nest ### directly under #). The hierarchy helps readers follow along. Note how this header is of size \\### and the previous one, \"Content body,\" is \\##."
   ]
  },
  {
   "cell_type": "markdown",
   "metadata": {},
   "source": [
    "### Cells\n",
    "Choose the correct cell type (Code vs. Markdown) and make sure that you can run the cells in order from top to bottom. This is a logical reading order and [scaffolds the material](https://www.opencolleges.edu.au/informed/teacher-resources/scaffolding-in-education-a-definitive-guide/) for your reader. \n",
    "\n",
    "Whitespace is your friend, and you should feel comfortable breaking your content up into many paragraphs/cells. Don't have extra blank cells in your notebook, whether in the middle or at the end. You can avoid the extra cell at the end by using Ctrl+Enter instead of Shift+Enter; use the \"scissors\" icon above or `x` in command mode to delete cells."
   ]
  },
  {
   "cell_type": "markdown",
   "metadata": {},
   "source": [
    "### Code\n",
    "Python code should live in its own Code cells and be appropriately commented. Large Markdown code blocks with triple backticks should be saved for bash and other languages. Please follow a sensible style in your comments and code."
   ]
  },
  {
   "cell_type": "code",
   "execution_count": null,
   "metadata": {},
   "outputs": [],
   "source": [
    "# Note: Accordingly, excessively long comments in Code blocks are not an acceptable substitute for Markdown prose."
   ]
  },
  {
   "cell_type": "markdown",
   "metadata": {},
   "source": [
    "Don't put all of your code into one big block. Break it up, and ideally surround each code block with context in Markdown. If you have adjacent code blocks, use `#comments` at the top to give a description of what each block is doing. Short in-line code snippets in Markdown blocks are also fine, and they should use `backticks like so` in order to stand out from the text.\n",
    "\n",
    "If your code generates output to the Jupyter console, double check the following:\n",
    "* Unnecessary output that bloats the notebook is hidden before publishing to GitHub.\n",
    "* Output is limited to $\\le 30$ lines (don't make it so people scroll excessively). \n",
    "* The code is error-free, such that the correct output actually appears. \n",
    "\n",
    "You can reset all output by clicking `Kernel > Restart & Clear Output` in the menu above."
   ]
  },
  {
   "cell_type": "markdown",
   "metadata": {},
   "source": [
    "### `foo`\n",
    "This function prints out text."
   ]
  },
  {
   "cell_type": "code",
   "execution_count": null,
   "metadata": {},
   "outputs": [],
   "source": [
    "def foo(text):\n",
    "    '''\n",
    "    This function prints out the input.\n",
    "    \n",
    "    :param text: A string to print.\n",
    "    :return: None.\n",
    "    '''\n",
    "    print(text)"
   ]
  },
  {
   "cell_type": "markdown",
   "metadata": {},
   "source": [
    "(**INSTRUCTIONS**) If your code block is a function, then \n",
    "1. Make it stand alone, if possible.\n",
    "1. Add a heading with the same name as the function surrounded by backticks.\n",
    "1. Include a descriptive docstring inside the function.\n",
    "1. Note how parameters and return values are described and formatted (include the `type` and what it does)."
   ]
  },
  {
   "cell_type": "markdown",
   "metadata": {},
   "source": [
    "### Figures\n",
    "Figures are a great teaching tool to complement text and are generally helpful for understanding. Try to include visuals when possible, and these *can be displayed* in the published notebook. You can use HTML to adjust the size of the figure so that it doesn't take up the entire width of the notebook. \n",
    "```html\n",
    "<img src=\"https://1hrkl410nh36441q7v2112ft-wpengine.netdna-ssl.com/wp-content/uploads/2018/09/HP-ICON-03.png\" alt=\"Centaur materials science\" width=\"300\">\n",
    "```\n",
    "<img src=\"https://1hrkl410nh36441q7v2112ft-wpengine.netdna-ssl.com/wp-content/uploads/2018/09/HP-ICON-03.png\" alt=\"Centaur materials science\" width=\"300\">\n",
    "\n",
    "\n",
    "With `matplotlib` in Python, you will want to add `%matplotlib inline` to your Imports section to [make plots appear](https://stackoverflow.com/questions/43027980/purpose-of-matplotlib-inline). You may also have to change the default settings on plots to increase the font size and line width so readers can see better. "
   ]
  },
  {
   "cell_type": "code",
   "execution_count": null,
   "metadata": {},
   "outputs": [],
   "source": [
    "# Some plot settings that make pyplot outputs easier to read.\n",
    "plt.rcParams.update({'font.size': 20, 'figure.figsize': (8, 7), 'lines.markersize':10})"
   ]
  },
  {
   "cell_type": "markdown",
   "metadata": {},
   "source": [
    "### Data access / API\n",
    "Consider using an API to access data instead of hard-coding a file path. If you are reading from / writing to external files, include them in a clearly-labeled subfolder like `temp/` or `data/`. Use public data if possible.\n",
    "\n",
    "*Note*: If you do have to hard code sub/other directories, make sure to use `os.path.join('data', 'my_pif.json')` as opposed to `'data/my_pif.json'` to ensure Windows and Mac compatibility.\n",
    "\n",
    "Most APIs require a key for access, and the Python Citrination Client is no exception. *You should never hard-code or expose your API key in your code.* Instead, store the API key in your [environment variables](http://citrineinformatics.github.io/python-citrination-client/tutorial/initialization.html). Now when you're coding, you can initialize the PyCC using:"
   ]
  },
  {
   "cell_type": "code",
   "execution_count": null,
   "metadata": {},
   "outputs": [],
   "source": [
    "api_key = os.environ.get('CITRINATION_API_KEY')\n",
    "site = \"https://citrination.com\"\n",
    "\n",
    "client = CitrinationClient(api_key=api_key, \n",
    "                           site=site)"
   ]
  },
  {
   "cell_type": "markdown",
   "metadata": {},
   "source": [
    "(**INSTRUCTIONS**) It is helpful to initialize each of the input variables on a new line. This makes the code cleaner, and allows you to reference the variables later on (see the [client tutorials](https://github.com/CitrineInformatics/learn-citrination/tree/master/citrination_api_examples/clients_sequence) for examples of how we add links to datasets and data views on the UI).\n",
    "\n",
    "When calling any functions or constructors, be explicit about the input keys and include each argument on a new line. In other words, do what we did for the `CitrinationClient` above instead of the quick-and-dirty `CitrinationClient(api_key,site)`."
   ]
  },
  {
   "cell_type": "markdown",
   "metadata": {},
   "source": [
    "### Additional style tips\n",
    "* **Computation**: Avoid intensive computation or large downloads. If that's unavoidable, then *include a warning*.\n",
    "* **Links**: Customize links with titles rather than giving the raw link, *especially* for long URLs. \n",
    "    * Example: [learn-citrination](https://github.com/CitrineInformatics/learn-citrination) vs. https://github.com/CitrineInformatics/learn-citrination."
   ]
  },
  {
   "cell_type": "markdown",
   "metadata": {},
   "source": [
    "## Conclusion\n",
    "\n",
    "[Back to ToC](#Table-of-contents)\n",
    "\n",
    "Thank you for your attention in reading this document. At this point, you should have a solid framework in mind for structuring Jupyter notebooks and creating high-quality training materials. Hopefully you learned some useful tips after reading this document, and please feel free to contribute!"
   ]
  },
  {
   "cell_type": "markdown",
   "metadata": {},
   "source": [
    "(**INSTRUCTIONS**) Here, recap what was covered, and what the reader should be able to do from now on. It can (and should) mirror the learning outcomes you listed at the beginning."
   ]
  },
  {
   "cell_type": "markdown",
   "metadata": {},
   "source": [
    "## Additional resources / References"
   ]
  },
  {
   "cell_type": "markdown",
   "metadata": {},
   "source": [
    "(**INSTRUCTIONS**) If appropriate, you can put links here in a bulleted list. If there are none, this section can be omitted."
   ]
  }
 ],
 "metadata": {
  "kernelspec": {
   "display_name": "Python 3",
   "language": "python",
   "name": "python3"
  },
  "language_info": {
   "codemirror_mode": {
    "name": "ipython",
    "version": 3
   },
   "file_extension": ".py",
   "mimetype": "text/x-python",
   "name": "python",
   "nbconvert_exporter": "python",
   "pygments_lexer": "ipython3",
   "version": "3.7.2"
  }
 },
 "nbformat": 4,
 "nbformat_minor": 2
}
