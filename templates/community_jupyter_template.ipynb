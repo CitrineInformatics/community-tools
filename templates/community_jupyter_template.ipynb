{
 "cells": [
  {
   "cell_type": "markdown",
   "metadata": {},
   "source": [
    "![Banner logo](fig/citrine_banner_2.png \"Banner logo\")"
   ]
  },
  {
   "cell_type": "markdown",
   "metadata": {},
   "source": [
    "# Citrine Community Jupyter Notebook Template"
   ]
  },
  {
   "cell_type": "markdown",
   "metadata": {},
   "source": [
    "*Authors: Enze Chen*\n",
    "\n",
    "In this notebook, we will cover a basic template for how Jupyter notebooks created by Community are structured. I try to prescribe as little as possible so that these tips:\n",
    "1. Are more easily remembered\n",
    "1. Minimally interfere with your normal workflow. \n",
    "\n",
    "**TL;DR** *Each section* of this notebook is structured as \n",
    "* Example (you can mirror your work after this)\n",
    "* Instructions (read this but you wouldn't include this in your work)\n",
    "\n",
    "Everything in each section above (**INSTRUCTIONS**) should appear in some form in your own notebooks."
   ]
  },
  {
   "cell_type": "markdown",
   "metadata": {},
   "source": [
    "(**INSTRUCTIONS**)\n",
    "At the top, we should include:\n",
    "* A title, in [Title Case](https://titlecaseconverter.com/), using the largest Markdown heading (single #)\n",
    "* Authorship, in italics (enclosed with single *), on a new line\n",
    "* An introduction that starts with \"In this notebook, ...\" (or similar) that explains the purpose of this notebook\n",
    "* Any background information or assumed knowledge for this tutorial\n",
    "\n",
    "Feel free to structure the rest of this section however you see fit. $\\LaTeX$ can even be included with $ signs. Whatever you write, just make sure it has proper grammar and follows proper Markdown syntax ([here's a cheat sheet](https://github.com/adam-p/markdown-here/wiki/Markdown-Cheatsheet))."
   ]
  },
  {
   "cell_type": "markdown",
   "metadata": {},
   "source": [
    "## Background knowledge\n",
    "This tutorial is more of a reference for styling and will make references to outside material where appropriate. That being said, to get the most out of this tutorial, it is expected you're at least familiar with the basics of\n",
    "* Jupyter (we're not teaching how to [create a notebook](https://www.dataquest.io/blog/jupyter-notebook-tutorial/) or what it is)\n",
    "* Markdown ([cheat sheet](https://github.com/adam-p/markdown-here/wiki/Markdown-Cheatsheet))\n",
    "* Python 3 (particularly style, such as [PEP 8](https://www.python.org/dev/peps/pep-0008/) or [Google](http://google.github.io/styleguide/pyguide.html))"
   ]
  },
  {
   "cell_type": "markdown",
   "metadata": {},
   "source": [
    "(**INSTRUCTIONS**) You should meet your learners where they are, and make no assumptions; or, if you do, be clear about it in this section. You can write section headings in Title Case or Sentence case; just be consistent. This is an opportunity to provide some background/introductory information (if you're working in a specific domain) and define terminology. Links are your friend in this section."
   ]
  },
  {
   "cell_type": "markdown",
   "metadata": {},
   "source": [
    "## Learning outcomes\n",
    "By the end of this tutorial, you will learn:\n",
    "* How to structure training material with educational best practices in mind.\n",
    "* Style pointers for Jupyter notebooks to improve readability and promote learning."
   ]
  },
  {
   "cell_type": "markdown",
   "metadata": {},
   "source": [
    "(**INSTRUCTIONS**) This section should explain what you want the reader to take away from and be able to do after reading your tutorial. A bulleted list is probably the cleanest format. You should decide on learning outcomes *before* writing to help you figure out what you want to say. If this list has more than 3 items, then you should *strongly consider* splitting up your notebook into two tutorials. This appeals to the concept of [chunking](https://www.forbes.com/sites/quora/2017/11/08/what-makes-chunking-such-an-effective-way-to-learn/#4401b3b660a9)."
   ]
  },
  {
   "cell_type": "markdown",
   "metadata": {},
   "source": [
    "## Table of contents\n",
    "This notebook is organized as follows.\n",
    "1. [Imports](#Python-package-imports)\n",
    "1. [Content](#Content-body)\n",
    "1. [Conclusion](#Conclusion)"
   ]
  },
  {
   "cell_type": "markdown",
   "metadata": {},
   "source": [
    "(**INSTRUCTIONS**) This is an optional section. Internal links to headers can be created with `[Name](#Header-name-fill-spaces-with-hyphens)`. If you include a ToC, then it's helpful to then link each header below back to the ToC with `[Back to ToC](#Table-of-contents)`."
   ]
  },
  {
   "cell_type": "markdown",
   "metadata": {},
   "source": [
    "## Python package imports\n",
    "\n",
    "[Back to ToC](#Table-of-contents)\n",
    "\n",
    "We will import any Python packages that we will need up front to avoid errors later. Nothing here is super surprising, so we don't need much clarification."
   ]
  },
  {
   "cell_type": "code",
   "execution_count": null,
   "metadata": {},
   "outputs": [],
   "source": [
    "# Standard packages\n",
    "import os\n",
    "import sys\n",
    "\n",
    "# Third-party packages\n",
    "from citrination_client import *\n",
    "from pypif import pif"
   ]
  },
  {
   "cell_type": "markdown",
   "metadata": {},
   "source": [
    "(**INSTRUCTIONS**) You should have an explicit header before the required package imports if you're writing code. In the code block, separate built-in Python packages from third-party ones. If there is a package that is not commonly used, or you're using it for a niche application, the space under the heading is a good place to add some context."
   ]
  },
  {
   "cell_type": "markdown",
   "metadata": {},
   "source": [
    "## Content body\n",
    "\n",
    "[Back to ToC](#Table-of-contents)\n",
    "\n",
    "Time for the meat of your message. There will be some content and style variation here, and that's OK. Each author should be confident in expressing their individual style. The pointers that I think will be generally helpful are listed below."
   ]
  },
  {
   "cell_type": "markdown",
   "metadata": {},
   "source": [
    "### Headings \n",
    "Be sensible with headings in terms of sizing. Don't nest a larger heading under a smaller one, and don't skip a size (e.g. don't nest ### directly under #). The hierarchy helps readers follow along. Note how this header is of size \\### and the previous one, \"Content body,\" is \\##."
   ]
  },
  {
   "cell_type": "markdown",
   "metadata": {},
   "source": [
    "### Cells\n",
    "Choose the correct cell type (Code vs. Markdown) and make sure that you can run the cells in order from top to bottom. This is a logical reading order and [scaffolds the material](https://www.opencolleges.edu.au/informed/teacher-resources/scaffolding-in-education-a-definitive-guide/) for your reader. Whitespace is your friend, and you should feel comfortable breaking your content up into many cells. Don't have extra blank cells in your notebook, whether in the middle or at the end. You can avoid the extra cell at the end by using Ctrl+Enter instead of Shift+Enter; use the \"scissors\" icon above or `x` in command mode to delete cells."
   ]
  },
  {
   "cell_type": "markdown",
   "metadata": {},
   "source": [
    "### Code\n",
    "Python code should live in its own Code cells and be appropriately commented. Large Markdown code blocks with triple backticks should be saved for bash and other languages. Please follow a sensible style in your comments and code."
   ]
  },
  {
   "cell_type": "code",
   "execution_count": null,
   "metadata": {},
   "outputs": [],
   "source": [
    "# Note: Accordingly, excessively long comments in Code blocks are not an acceptable substitute for Markdown prose."
   ]
  },
  {
   "cell_type": "markdown",
   "metadata": {},
   "source": [
    "Don't put all of your code into one big block. Break it up, and ideally surround each code block with context in Markdown. If you have adjacent code blocks, use `#comments` at the top to give a description of what each block is doing. Short in-line comments in Markdown blocks are also fine, and they should use `backticks like so` in order to stand out from the text.\n",
    "\n",
    "If your code generates output to the console, double check the following:\n",
    "* Unnecessary output that bloats the notebook is hidden before publishing to GitHub.\n",
    "* Output is limited to $\\le 10$ lines. \n",
    "* The code is error-free, so the correct output actually appears. \n",
    "\n",
    "You can reset all output by clicking `Kernel > Restart & Clear Output` in the menu above."
   ]
  },
  {
   "cell_type": "markdown",
   "metadata": {},
   "source": [
    "### `foo`\n",
    "This function prints out text."
   ]
  },
  {
   "cell_type": "code",
   "execution_count": null,
   "metadata": {},
   "outputs": [],
   "source": [
    "def foo():\n",
    "    print('bar')"
   ]
  },
  {
   "cell_type": "markdown",
   "metadata": {},
   "source": [
    "(**INSTRUCTIONS**) If your code block is a function, then \n",
    "1. Make it stand alone, if possible.\n",
    "1. Add a heading with the same name as the function surrounded by backticks.\n",
    "1. Include a descriptive docstring inside the function *or* add context under the heading. Context might be easier for non-programmers to digest."
   ]
  },
  {
   "cell_type": "markdown",
   "metadata": {},
   "source": [
    "### Figures\n",
    "Figures are a great teaching tool to complement text and are generally helpful for understanding. Try to include visuals when possible, and these *can be displayed* in the published notebook. With `matplotlib` in Python, you will want to add `%matplotlib inline` to your Imports section to [make plots appear](https://stackoverflow.com/questions/43027980/purpose-of-matplotlib-inline). You may also have to change the default settings on plots to increase the font size and line width so readers can see better. "
   ]
  },
  {
   "cell_type": "markdown",
   "metadata": {},
   "source": [
    "### Data access / API\n",
    "Use an API to access data whenever possible instead of hard-coding a file path. If you are reading from / writing to external files, include them in the same directory as the notebook, or in a clearly-labeled subfolder. Use public data if possible.\n",
    "\n",
    "Most APIs require a key for access, and the Python Citrination Client is no exception. *You should never hard-code or expose your API key in your code.* Instead, store the API key in your [environment variables](http://citrineinformatics.github.io/python-citrination-client/tutorial/initialization.html). Now when you're coding, you can initialize the PyCC using:"
   ]
  },
  {
   "cell_type": "code",
   "execution_count": null,
   "metadata": {},
   "outputs": [],
   "source": [
    "client = CitrinationClient(api_key=os.environ['CITRINATION_API_KEY'], \n",
    "                           site=\"https://citrination.com\")"
   ]
  },
  {
   "cell_type": "markdown",
   "metadata": {},
   "source": [
    "### Additional style tips\n",
    "* **Computation**: Avoid intensive computation or large downloads. If that's unavoidable, then *include a warning*.\n",
    "* **Formatting**: Again, whitespace. Smaller issue is to avoid non-Markdown constructs (e.g. HTML) due to rendering differences across platforms.\n",
    "* **Links**: Customize links with titles rather than giving the raw link, *especially* for long URLs. (e.g. [Citrine](https://citrine.io/) vs. https://citrine.io/)"
   ]
  },
  {
   "cell_type": "markdown",
   "metadata": {},
   "source": [
    "## Conclusion\n",
    "\n",
    "[Back to ToC](#Table-of-contents)\n",
    "\n",
    "Thank you for your attention in reading this document. At this point, you should have a solid framework in mind for structuring Jupyter notebooks and creating high-quality training materials. Hopefully you learned some useful tips after reading this document, and please feel free to contribute!"
   ]
  },
  {
   "cell_type": "markdown",
   "metadata": {},
   "source": [
    "(**INSTRUCTIONS**) Here, recap what was covered, and what the reader should be able to do from now on. It can (and should) mirror the learning outcomes you listed at the beginning."
   ]
  },
  {
   "cell_type": "markdown",
   "metadata": {},
   "source": [
    "## Additional resources / References"
   ]
  },
  {
   "cell_type": "markdown",
   "metadata": {},
   "source": [
    "(**INSTRUCTIONS**) If appropriate, you can put links here in a bulleted list. If there are none, this section can be omitted."
   ]
  }
 ],
 "metadata": {
  "kernelspec": {
   "display_name": "Python 3",
   "language": "python",
   "name": "python3"
  },
  "language_info": {
   "codemirror_mode": {
    "name": "ipython",
    "version": 3
   },
   "file_extension": ".py",
   "mimetype": "text/x-python",
   "name": "python",
   "nbconvert_exporter": "python",
   "pygments_lexer": "ipython3",
   "version": "3.7.2"
  }
 },
 "nbformat": 4,
 "nbformat_minor": 2
}
